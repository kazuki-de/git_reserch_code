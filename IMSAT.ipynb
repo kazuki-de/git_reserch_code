{
  "nbformat": 4,
  "nbformat_minor": 0,
  "metadata": {
    "colab": {
      "name": "IMSAT.ipynb",
      "version": "0.3.2",
      "provenance": [],
      "include_colab_link": true
    },
    "kernelspec": {
      "name": "python3",
      "display_name": "Python 3"
    },
    "accelerator": "GPU"
  },
  "cells": [
    {
      "cell_type": "markdown",
      "metadata": {
        "id": "view-in-github",
        "colab_type": "text"
      },
      "source": [
        "<a href=\"https://colab.research.google.com/github/kazuki-de/git_reserch_code/blob/master/IMSAT.ipynb\" target=\"_parent\"><img src=\"https://colab.research.google.com/assets/colab-badge.svg\" alt=\"Open In Colab\"/></a>"
      ]
    },
    {
      "cell_type": "code",
      "metadata": {
        "id": "LZF0xNLHyAw-",
        "colab_type": "code",
        "colab": {}
      },
      "source": [
        "from __future__ import absolute_import, division, print_function, unicode_literals\n",
        "\n",
        "!pip install -q tensorflow-gpu==2.0.0-beta1\n",
        "import tensorflow as tf\n",
        "\n",
        "from tensorflow.keras.layers import Dense, Flatten, Conv2D, Activation , Softmax, MaxPool2D,UpSampling2D\n",
        "from tensorflow.keras import Model\n",
        "import datetime\n",
        "#import tensorflow as tf\n",
        "import numpy as np\n",
        "import pandas as pd\n",
        "from PIL import Image"
      ],
      "execution_count": 0,
      "outputs": []
    },
    {
      "cell_type": "code",
      "metadata": {
        "id": "c3EGpbKQyI-u",
        "colab_type": "code",
        "colab": {}
      },
      "source": [
        "from google.colab import drive\n",
        "drive.mount(\"/content/drive\")\n"
      ],
      "execution_count": 0,
      "outputs": []
    },
    {
      "cell_type": "code",
      "metadata": {
        "id": "rNRCFB4gyP-G",
        "colab_type": "code",
        "colab": {}
      },
      "source": [
        "cd  /content/drive/My Drive/logs"
      ],
      "execution_count": 0,
      "outputs": []
    },
    {
      "cell_type": "code",
      "metadata": {
        "id": "sh2xEFfvyQV7",
        "colab_type": "code",
        "colab": {}
      },
      "source": [
        "dataset = tf.data.TextLineDataset(\"/content/drive/My Drive/2048_tissue_choice/sumpling_20csv\")"
      ],
      "execution_count": 0,
      "outputs": []
    },
    {
      "cell_type": "code",
      "metadata": {
        "id": "X89NCoRJyQtH",
        "colab_type": "code",
        "colab": {}
      },
      "source": [
        "current_time = datetime.datetime.now().strftime(\"%Y%m%d-%H%M%S\")\n",
        "train_log_dir = 'logs/gradient_tape/' + current_time + '/train'\n",
        "test_log_dir = 'logs/gradient_tape/' + current_time + '/test'\n",
        "train_summary_writer = tf.summary.create_file_writer(train_log_dir)\n",
        "test_summary_writer = tf.summary.create_file_writer(test_log_dir)\n",
        "tensorboard_callback = tf.keras.callbacks.TensorBoard(log_dir=\"/content/drive/My Drive/logs/gradient_tape\", histogram_freq=1)"
      ],
      "execution_count": 0,
      "outputs": []
    },
    {
      "cell_type": "code",
      "metadata": {
        "id": "pefQ5I9xycyO",
        "colab_type": "code",
        "colab": {}
      },
      "source": [
        "class MyModel1(Model):\n",
        "    def __init__(self):\n",
        "        super(MyModel1, self).__init__()\n",
        "        self.Conv1 = Conv2D(4,(3,3),padding=\"same\", activation='relu')\n",
        "        self.Maxpool1 = MaxPool2D((2, 2), padding='same')\n",
        "        self.Conv2 = Conv2D(8,(2,3), padding=\"same\",activation='relu')\n",
        "        self.Maxpool2 = MaxPool2D((2, 2), padding='same')\n",
        "        self.Conv3 = Conv2D(16,(2,2),padding=\"same\", activation='relu')\n",
        "        self.flatten = Flatten()\n",
        "        self.dence = Dense()\n",
        "        self.Maxpool3 = MaxPool2D((2, 2), padding='same')\n",
        "        \n",
        "        self.Conv4 = Conv2D(16,(3,3),padding=\"same\", activation='relu')\n",
        "        self.Upsumpl1 = UpSampling2D((2, 2))\n",
        "        self.Conv5 = Conv2D(8,(5,5), padding='same',activation='relu')\n",
        "        self.Upsumpl2 = UpSampling2D((2, 2))\n",
        "        self.Conv6 = Conv2D(4,(7,7), padding='same',activation='relu')\n",
        "        self.Upsumpl3 = UpSampling2D((2, 2))\n",
        "        self.Conv7 = Conv2D(3,(3,3), padding='same',activation='relu')\n",
        "    \n",
        "    def call(self, x):\n",
        "        x = self.Conv1(x)\n",
        "        x = self.Maxpool1(x)\n",
        "        x = self.Conv2(x)\n",
        "        x = self.Maxpool2(x)\n",
        "        x = self.Conv3(x)\n",
        "        x = self.Maxpool3(x)\n",
        "        x = self.Conv4(x)\n",
        "        x = self.Upsumpl1(x)\n",
        "        x = self.Conv5(x)\n",
        "        x = self.Upsumpl2(x)\n",
        "        x = self.Conv6(x)\n",
        "        x = self.Upsumpl3(x)\n",
        "        return self.Conv7(x)\n",
        "\n",
        "model1 = MyModel1()"
      ],
      "execution_count": 0,
      "outputs": []
    }
  ]
}