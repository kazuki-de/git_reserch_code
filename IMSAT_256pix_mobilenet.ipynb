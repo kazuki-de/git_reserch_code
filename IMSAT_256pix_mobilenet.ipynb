{
  "nbformat": 4,
  "nbformat_minor": 0,
  "metadata": {
    "colab": {
      "name": "IMSAT_256pix.ipynb のコピー",
      "version": "0.3.2",
      "provenance": [],
      "collapsed_sections": [],
      "include_colab_link": true
    },
    "kernelspec": {
      "name": "python3",
      "display_name": "Python 3"
    },
    "accelerator": "GPU"
  },
  "cells": [
    {
      "cell_type": "markdown",
      "metadata": {
        "id": "view-in-github",
        "colab_type": "text"
      },
      "source": [
        "<a href=\"https://colab.research.google.com/github/kazuki-de/git_reserch_code/blob/master/IMSAT_256pix_mobilenet.ipynb\" target=\"_parent\"><img src=\"https://colab.research.google.com/assets/colab-badge.svg\" alt=\"Open In Colab\"/></a>"
      ]
    },
    {
      "cell_type": "code",
      "metadata": {
        "id": "LZF0xNLHyAw-",
        "colab_type": "code",
        "outputId": "fd66e6b3-3252-4d90-97a3-dee6ce00acae",
        "colab": {
          "base_uri": "https://localhost:8080/",
          "height": 68
        }
      },
      "source": [
        "from __future__ import absolute_import, division, print_function, unicode_literals\n",
        "\n",
        "!pip install -q tensorflow-gpu==2.0.0rc0\n",
        "import tensorflow as tf\n",
        "\n",
        "from tensorflow.keras.layers import Dense, Flatten, Conv2D, Activation , Softmax, MaxPool2D,UpSampling2D, Input, BatchNormalization, add, AveragePooling2D\n",
        "from tensorflow.keras import Model,Sequential\n",
        "import datetime\n",
        "#import tensorflow as tf\n",
        "import numpy as np\n",
        "import pandas as pd\n",
        "from PIL import Image\n",
        "\n",
        "from tensorflow.keras.applications.resnet50 import ResNet50\n",
        "import tensorflow_hub as hub\n",
        " \n",
        "from tensorflow.keras import layers\n"
      ],
      "execution_count": 1,
      "outputs": [
        {
          "output_type": "stream",
          "text": [
            "\u001b[K     |████████████████████████████████| 380.5MB 80kB/s \n",
            "\u001b[K     |████████████████████████████████| 501kB 23.9MB/s \n",
            "\u001b[K     |████████████████████████████████| 4.3MB 40.3MB/s \n",
            "\u001b[?25h"
          ],
          "name": "stdout"
        }
      ]
    },
    {
      "cell_type": "code",
      "metadata": {
        "id": "eNstrXt2cXiR",
        "colab_type": "code",
        "colab": {
          "base_uri": "https://localhost:8080/",
          "height": 34
        },
        "outputId": "60e3e863-c0af-4163-e337-1f0e8adf4f05"
      },
      "source": [
        "print(tf.__version__)"
      ],
      "execution_count": 3,
      "outputs": [
        {
          "output_type": "stream",
          "text": [
            "2.0.0-rc0\n"
          ],
          "name": "stdout"
        }
      ]
    },
    {
      "cell_type": "code",
      "metadata": {
        "id": "c3EGpbKQyI-u",
        "colab_type": "code",
        "outputId": "f33b1fa2-c44f-4993-c849-5a4253a6dec5",
        "colab": {
          "base_uri": "https://localhost:8080/",
          "height": 122
        }
      },
      "source": [
        "from google.colab import drive\n",
        "drive.mount(\"/content/drive\")\n"
      ],
      "execution_count": 2,
      "outputs": [
        {
          "output_type": "stream",
          "text": [
            "Go to this URL in a browser: https://accounts.google.com/o/oauth2/auth?client_id=947318989803-6bn6qk8qdgf4n4g3pfee6491hc0brc4i.apps.googleusercontent.com&redirect_uri=urn%3Aietf%3Awg%3Aoauth%3A2.0%3Aoob&scope=email%20https%3A%2F%2Fwww.googleapis.com%2Fauth%2Fdocs.test%20https%3A%2F%2Fwww.googleapis.com%2Fauth%2Fdrive%20https%3A%2F%2Fwww.googleapis.com%2Fauth%2Fdrive.photos.readonly%20https%3A%2F%2Fwww.googleapis.com%2Fauth%2Fpeopleapi.readonly&response_type=code\n",
            "\n",
            "Enter your authorization code:\n",
            "··········\n",
            "Mounted at /content/drive\n"
          ],
          "name": "stdout"
        }
      ]
    },
    {
      "cell_type": "code",
      "metadata": {
        "id": "1FSdPzlnj0ku",
        "colab_type": "code",
        "colab": {}
      },
      "source": [
        "feature_extractor_url = \"https://tfhub.dev/google/tf2-preview/mobilenet_v2/feature_vector/2\" #@param {type:\"string\"}\n"
      ],
      "execution_count": 0,
      "outputs": []
    },
    {
      "cell_type": "code",
      "metadata": {
        "id": "rDW6GBE2Ur25",
        "colab_type": "code",
        "colab": {}
      },
      "source": [
        "feature_extractor_layer = hub.KerasLayer(feature_extractor_url,\n",
        "                                         input_shape=(224,224,3))\n",
        "feature_extractor_layer.trainable = True\n"
      ],
      "execution_count": 0,
      "outputs": []
    },
    {
      "cell_type": "code",
      "metadata": {
        "id": "4V7tS-9ata8b",
        "colab_type": "code",
        "colab": {
          "base_uri": "https://localhost:8080/",
          "height": 255
        },
        "outputId": "6b52be48-6fd2-4834-bcba-fc990da867bd"
      },
      "source": [
        "model1 = tf.keras.Sequential([\n",
        "  feature_extractor_layer,\n",
        "  layers.Dense(128,activation=\"relu\"),\n",
        "  layers.Dense(3)\n",
        "])\n",
        " \n",
        "model1.summary()"
      ],
      "execution_count": 18,
      "outputs": [
        {
          "output_type": "stream",
          "text": [
            "Model: \"sequential_2\"\n",
            "_________________________________________________________________\n",
            "Layer (type)                 Output Shape              Param #   \n",
            "=================================================================\n",
            "keras_layer (KerasLayer)     (None, 1280)              2257984   \n",
            "_________________________________________________________________\n",
            "dense_4 (Dense)              (None, 128)               163968    \n",
            "_________________________________________________________________\n",
            "dense_5 (Dense)              (None, 3)                 387       \n",
            "=================================================================\n",
            "Total params: 2,422,339\n",
            "Trainable params: 2,388,227\n",
            "Non-trainable params: 34,112\n",
            "_________________________________________________________________\n"
          ],
          "name": "stdout"
        }
      ]
    },
    {
      "cell_type": "code",
      "metadata": {
        "id": "7wMF9Q1p4F0-",
        "colab_type": "code",
        "colab": {}
      },
      "source": [
        "def rescell(data, filters, kernel_size, option=False):\n",
        "    strides=(1,1)\n",
        "    if option:\n",
        "        strides=(2,2)\n",
        "    x=Conv2D(filters=filters,kernel_size=kernel_size,strides=strides,padding=\"same\")(data)\n",
        "    x=BatchNormalization()(x)\n",
        "    x=Activation('relu')(x)\n",
        "    \n",
        "    data=Conv2D(filters=int(x.shape[3]), kernel_size=(1,1), strides=strides, padding=\"same\")(data)\n",
        "    x=Conv2D(filters=filters,kernel_size=kernel_size,strides=(1,1),padding=\"same\")(x)\n",
        "    x=BatchNormalization()(x)\n",
        "    x=add([x,data])\n",
        "    x=Activation('relu')(x)\n",
        "    return x\n",
        "\n",
        "def ResNet(img_rows, img_cols, img_channels):\n",
        "    input=Input(shape=(img_rows,img_cols,img_channels))\n",
        "    x=Conv2D(16,(2,2),activation=\"relu\")(input)\n",
        "    x=Conv2D(32,(7,7), padding=\"same\",activation=\"relu\")(x)\n",
        "    x=MaxPool2D(pool_size=(2,2))(x)\n",
        "\n",
        "\n",
        "\n",
        "\n",
        "    x=rescell(x,64,(3,3))\n",
        "    x=rescell(x,64,(3,3))\n",
        "    x=rescell(x,64,(3,3))\n",
        "\n",
        "    x=rescell(x,128,(3,3),True)\n",
        "\n",
        "    x=rescell(x,128,(3,3))\n",
        "    x=rescell(x,128,(3,3))\n",
        "    x=rescell(x,128,(3,3))\n",
        "\n",
        "    x=rescell(x,256,(3,3),True)\n",
        "\n",
        "    x=rescell(x,256,(3,3))\n",
        "    x=rescell(x,256,(3,3))\n",
        "    x=rescell(x,256,(3,3))\n",
        "    x=rescell(x,256,(3,3))\n",
        "    x=rescell(x,256,(3,3))\n",
        "\n",
        "    x=rescell(x,512,(3,3),True)\n",
        "\n",
        "    x=rescell(x,512,(3,3))\n",
        "    x=rescell(x,512,(3,3))\n",
        "\n",
        "    x=AveragePooling2D(pool_size=(int(x.shape[1]),int(x.shape[2])),strides=(2,2))(x)\n",
        "\n",
        "    x=Flatten()(x)\n",
        "    x=Dense(units=3,kernel_initializer=\"he_normal\")(x)\n",
        "    model=Model(inputs=input,outputs=[x])\n",
        "    return model\n",
        "model1 = ResNet(512,512,3)"
      ],
      "execution_count": 0,
      "outputs": []
    },
    {
      "cell_type": "code",
      "metadata": {
        "id": "J6_5QyC_CzWI",
        "colab_type": "code",
        "colab": {}
      },
      "source": [
        "input_tensor = Input(shape=(img_width, img_height, 3))\n",
        "ResNet50 = ResNet50(include_top=False, weights='imagenet',input_tensor=input_tensor)\n",
        " 入力画像は224×224のRGB画像なので，これをinput_tensorとして指定しています．今回"
      ],
      "execution_count": 0,
      "outputs": []
    },
    {
      "cell_type": "code",
      "metadata": {
        "id": "xh_ZAkbJJtp_",
        "colab_type": "code",
        "colab": {}
      },
      "source": [
        "model1.summary()"
      ],
      "execution_count": 0,
      "outputs": []
    },
    {
      "cell_type": "code",
      "metadata": {
        "id": "zdDBcUNq0yCY",
        "colab_type": "code",
        "colab": {}
      },
      "source": [
        "def kl_divergence(q_logi, p_logi):\n",
        "    q_logit = Activation(\"softmax\")(q_logi)\n",
        "    p_logit = Activation(\"softmax\")(p_logi)\n",
        "    qlogq = tf.reduce_sum(q_logit * tf.math.log(q_logit), axis=1)\n",
        "    qlogp = tf.reduce_sum(q_logit * tf.math.log(p_logit), axis=1)\n",
        "    return qlogq - qlogp\n",
        "def get_unit_vector(v):\n",
        "    return  v / (tf.sqrt(tf.reduce_sum(v ** 2, axis=None,keepdims=True) + 1e-16))"
      ],
      "execution_count": 0,
      "outputs": []
    },
    {
      "cell_type": "code",
      "metadata": {
        "id": "3Fdnl19iDr7g",
        "colab_type": "code",
        "colab": {}
      },
      "source": [
        "def compute_entropy(p):\n",
        "    return - tf.reduce_sum(p*tf.math.log(p+1e-16),axis = 1)\n",
        "\n",
        "def compute_marginal_entropy(p_batch):\n",
        "    return  compute_entropy(tf.reduce_mean(p_batch))"
      ],
      "execution_count": 0,
      "outputs": []
    },
    {
      "cell_type": "code",
      "metadata": {
        "id": "qne_U9p5auUQ",
        "colab_type": "code",
        "colab": {}
      },
      "source": [
        "#損失関数\n",
        "loss_object = tf.keras.losses.CategoricalCrossentropy()\n",
        "#最適化手法\n",
        "optimizer = tf.keras.optimizers.Adam()\n",
        "\n",
        "#評価関数\n",
        "train_loss = tf.keras.metrics.Mean(name='train_loss')\n",
        "train_loss1 = tf.keras.metrics.Mean(name='train_loss')\n",
        "train_loss2 = tf.keras.metrics.Mean(name='train_loss')\n",
        "\n",
        "\n",
        "train_accuracy = tf.keras.metrics.CategoricalAccuracy(name='train_accuracy')\n",
        "\n",
        "test_loss = tf.keras.metrics.Mean(name='test_loss')\n",
        "\n",
        "test_accuracy = tf.keras.metrics.CategoricalAccuracy(name='test_accuracy')"
      ],
      "execution_count": 0,
      "outputs": []
    },
    {
      "cell_type": "code",
      "metadata": {
        "id": "c2b7AlZVoXDQ",
        "colab_type": "code",
        "colab": {}
      },
      "source": [
        "#ミニバッチ学習==1epocでn枚の画像からx枚ずつ取り出しn/x回学習する(重みを更新していく)手法\n",
        "#バッチ学習 == 1epocでn枚の画像から1枚ずつ取り出しn回学習する（重みを更新していく）手法\n",
        "#オンライン学習 ==1epocでn枚の画像からn枚全てを用い学習する(重みを更新していく)手法　#メモリ消費大\n",
        "@tf.function\n",
        "def train_step(image,label,batch_size):\n",
        "    with tf.GradientTape() as tape:\n",
        "        p = Activation('softmax')(model1(image))\n",
        "        p_ave = tf.reduce_mean(p,axis=0)\n",
        "        loss_eq2 = -tf.reduce_sum(p_ave * tf.math.log(p_ave + 1e-16))\n",
        "        loss_eq1 = tf.reduce_mean(compute_entropy(p))\n",
        "        loss_eq = loss_eq1 - 4* loss_eq2\n",
        "        #with tf.variable_scope(tf.get_variable_scope(),reuse=True):\n",
        "        #logit = model1(image)\n",
        "        \n",
        "        #---------------------------------------------------------------------------------\n",
        "        plain_softmax = model1(image)\n",
        "        \n",
        "        noplain_softmax = Activation(\"softmax\")(plain_softmax)\n",
        "\n",
        "        #適当な単位ベクトルにxi=10を掛けた数:pertubationの作成\n",
        "        perturbation = 10 * get_unit_vector(tf.random.normal(shape=tf.shape(image), dtype=tf.float32))\n",
        "        #print(perturbation.numpy())\n",
        "        for i in range(1):\n",
        "            softmax_accommodating_perturbation = model1(image+perturbation)\n",
        "            softmax_accommodating_perturbation_af = Activation(\"softmax\")(softmax_accommodating_perturbation)\n",
        "            # ノイズを足した配列とノーマルな配列がCNNで出力された結果のKL距離を求める\n",
        "            dist = kl_divergence(noplain_softmax,softmax_accommodating_perturbation_af)\n",
        "            #cross_entropy_accommodating_perturbation = -tf.reduce_sum(plain_softmax * tf.math.log(clipped(softmax_accommodating_perturbation))) * weight\n",
        "            adversarial_direction = tf.gradients(dist, [perturbation])[0]\n",
        "            print(adversarial_direction)\n",
        "            pertubation = tf.stop_gradient(adversarial_direction)\n",
        "        #print(\"ok\")    \n",
        "\n",
        "        pertubation = 1 * get_unit_vector(adversarial_direction)\n",
        "        corrent_softmax = Activation('softmax')(model1(image)) \n",
        "        vat_softmax = Activation('softmax')(model1(image + perturbation))\n",
        "        VAT_loss = kl_divergence(corrent_softmax,vat_softmax)\n",
        "        #---------------------------------------------------------------------------------------------\n",
        "        \n",
        "        total_loss = VAT_loss +0.2 * loss_eq\n",
        "        #hy_ = compute_entropy(p)\n",
        "        #p_ave = tf.reduce_mean(p,axis=0)\n",
        "        #hy_x = -tf.reduce_sum(p_ave*tf.math.log(p_ave+1e-16))\n",
        "        #print(hy)\n",
        "        #hy_x = tf.reduce_sum(compute_entropy(p))/batch_size\n",
        "        #print(hy_x)\n",
        "        #Rsut = -tf.reduce_sum(VAT_KL(image,model1))/batch_size\n",
        "        #print(Rsut)\n",
        "        #loss = Rsut - 0.2*((4)*hy-hy_x)\n",
        "    gradients = tape.gradient(total_loss, model1.trainable_variables)\n",
        "    optimizer.apply_gradients(zip(gradients, model1.trainable_variables))\n",
        "    \n",
        "    train_loss(total_loss)\n",
        "    #train_loss1(Rsut)\n",
        "    #train_loss2(0.2*((4.0)*hy-hy_x))\n",
        "    #train_loss(loss)\n",
        "    #train_loss\n",
        "    \n",
        "    \n",
        "        "
      ],
      "execution_count": 0,
      "outputs": []
    },
    {
      "cell_type": "code",
      "metadata": {
        "id": "3uXj-nnVgv8S",
        "colab_type": "code",
        "outputId": "b2b9d26f-a39a-40e0-d803-86bca9ce23c8",
        "colab": {
          "base_uri": "https://localhost:8080/",
          "height": 34
        }
      },
      "source": [
        "%pip install munkres\n",
        "from munkres import Munkres, print_matrix"
      ],
      "execution_count": 19,
      "outputs": [
        {
          "output_type": "stream",
          "text": [
            "Requirement already satisfied: munkres in /usr/local/lib/python3.6/dist-packages (1.1.2)\n"
          ],
          "name": "stdout"
        }
      ]
    },
    {
      "cell_type": "code",
      "metadata": {
        "id": "dLc0Gss0ZwKG",
        "colab_type": "code",
        "colab": {}
      },
      "source": [
        "def compute_accuracy(y_pred, y_t,tot_cl=10):\n",
        "    # compute the accuracy using Hungarian algorithm\n",
        "    m = Munkres()\n",
        "    mat = np.zeros((tot_cl, tot_cl))\n",
        "    for i in range(tot_cl):\n",
        "        for j in range(tot_cl):\n",
        "            mat[i][j] = np.sum(np.logical_and(y_pred == i, y_t == j))\n",
        "    indexes = m.compute(-mat)\n",
        "\n",
        "    corresp = []\n",
        "    for i in range(tot_cl):\n",
        "        corresp.append(indexes[i][1])\n",
        "\n",
        "    pred_corresp = [corresp[predicte] for predicted in y_pred]\n",
        "    acc = np.sum(pred_corresp == y_t) / float(len(y_t))\n",
        "    return acc"
      ],
      "execution_count": 0,
      "outputs": []
    },
    {
      "cell_type": "code",
      "metadata": {
        "id": "s6vmiOxO0v0H",
        "colab_type": "code",
        "colab": {}
      },
      "source": [
        "path = \"/content/drive/My Drive/2048pix_tissue_choice/sumpling_20.csv\"\n",
        "def generater_train():\n",
        "    file_path1 = pd.read_csv(\"/content/drive/My Drive/224_choice/224_3000.csv\")\n",
        "    file_path1 = file_path1[0:2992]\n",
        "    \n",
        "    # LabelEncode(classをint型に変換)するためのdict\\n\",\n",
        "    classes =[\"PI\",\"PP\",\"TRU\"]\n",
        "    classes = {v: i for i, v in enumerate(sorted(classes))}\n",
        "    #file_path1 = pd.read_csv(file_path)\n",
        "    length = len(file_path1)\n",
        "    for i in range(length):\n",
        "        path = file_path1.loc[i][\"base_path\"]\n",
        "        path1 = \"/content/drive/My Drive/224_choice/\"+path\n",
        "        with Image.open(path1) as f:\n",
        "            \n",
        "                tmp_image = np.asarray(f, dtype=np.float32)/255\n",
        "        label = file_path1.loc[i][\"type\"]\n",
        "        tmp_label = tf.keras.utils.to_categorical(classes[label],len(classes))\n",
        "        #print(tmp_labels, np.mean(tmp_images, axis=(1,2,3)))\n",
        "        yield tmp_image, tmp_label"
      ],
      "execution_count": 0,
      "outputs": []
    },
    {
      "cell_type": "code",
      "metadata": {
        "id": "K-oGkY5w1JPR",
        "colab_type": "code",
        "colab": {
          "base_uri": "https://localhost:8080/",
          "height": 85
        },
        "outputId": "02e4903c-19d9-4ce8-d59c-3180d9d69222"
      },
      "source": [
        "#mnist用\n",
        "EPOCHS = 100\n",
        "#model = MyModel()\n",
        "batchsize = 10\n",
        "dataset_t = tf.data.Dataset.from_generator(generater_train, output_types=(tf.float32, tf.int32)).batch(16)\n",
        "#dataset_v = tf.data.Dataset.from_generator(generater_val, output_types=(tf.float32, tf.int32)).batch(10)\n",
        "for epoch in range(EPOCHS):\n",
        "    for batch, (x_t,x_l) in enumerate(dataset_t):\n",
        "        train_step(x_t,x_l,16)\n",
        "        #print( train_loss.result())\n",
        "        if batch%100 ==0:\n",
        "            print(batch)\n",
        "    model1.save_weights('/content/drive/My Drive/research_/weight_autoencoder_2048_0827/IMSAT_512.h5')\n",
        "    print( train_loss.result())        "
      ],
      "execution_count": 0,
      "outputs": [
        {
          "output_type": "stream",
          "text": [
            "Tensor(\"gradients/sequential_2_2/keras_layer/StatefulPartitionedCall_grad/PartitionedCall:0\", shape=(16, 224, 224, 3), dtype=float32)\n",
            "Tensor(\"gradients/sequential_2_2/keras_layer/StatefulPartitionedCall_grad/PartitionedCall:0\", shape=(16, 224, 224, 3), dtype=float32)\n",
            "0\n",
            "100\n"
          ],
          "name": "stdout"
        }
      ]
    },
    {
      "cell_type": "code",
      "metadata": {
        "id": "n3P-TCOUzJi5",
        "colab_type": "code",
        "colab": {
          "base_uri": "https://localhost:8080/",
          "height": 34
        },
        "outputId": "cd3d5f7a-f66e-4b04-b041-336679f1766f"
      },
      "source": [
        "file_path1 = pd.read_csv(\"/content/drive/My Drive/224_choice/224_3000.csv\")\n",
        "file_path1 = file_path1[0:2992]\n",
        "len(file_path1)"
      ],
      "execution_count": 16,
      "outputs": [
        {
          "output_type": "execute_result",
          "data": {
            "text/plain": [
              "2992"
            ]
          },
          "metadata": {
            "tags": []
          },
          "execution_count": 16
        }
      ]
    },
    {
      "cell_type": "code",
      "metadata": {
        "id": "ycTXOjlU6g_p",
        "colab_type": "code",
        "colab": {}
      },
      "source": [
        "model1.save_weights('/content/drive/My Drive/research_/weight_autoencoder_2048_0827/IMSAT_cifer10.h5')"
      ],
      "execution_count": 0,
      "outputs": []
    },
    {
      "cell_type": "code",
      "metadata": {
        "id": "lONj1irYkVrJ",
        "colab_type": "code",
        "colab": {}
      },
      "source": [
        "model1.load_weights('/content/drive/My Drive/research_/weight_autoencoder_2048_0827/IMSAT_mnist.h5')"
      ],
      "execution_count": 0,
      "outputs": []
    },
    {
      "cell_type": "code",
      "metadata": {
        "id": "tmenScDRzq_J",
        "colab_type": "code",
        "colab": {}
      },
      "source": [
        "def VAT_KL(input_tensor, be_softmax, xi=10, epsilon=1.0, weight=1.0, num_approximation=1, clip_value_min=1e-16, dtype=tf.float64):\n",
        "    \n",
        "    #配列内の数値の最大値が第二変数になるように置き換える\n",
        "    #clipped = lambda x: tf.maximum(x, clip_value_min)\n",
        "    #axis_without_batch_size は (1,2,3)となる\n",
        "    #axis_without_batch_size = tuple(range(1,len(input_tensor.get_shape())))\n",
        "    \n",
        "    #if len(axis_without_batch_size) == 1:\n",
        "    #    axis_without_batch_size = axis_without_batch_size[0]\n",
        "        \n",
        "    #normalized = lambda x: x / clipped(tf.norm(x, axis=None))\n",
        "    #normalized = lambda x: x / clipped(tf.norm(x, axis=None,keepdims=True))\n",
        "    #normalized = lambda x: x / tf.norm(x, axis=None,keepdims=True)\n",
        "    #plain_softmax = network(input_tensor)\n",
        "    \n",
        "    #noplain_softmax = Activation(\"softmax\")(plain_softmax)\n",
        "    \n",
        "    #適当な単位ベクトルにxi=10を掛けた数:pertubationの作成\n",
        "    perturbation = xi * get_unit_vector(tf.random.normal(shape=tf.shape(input_tensor), dtype=dtype))\n",
        "    #print(perturbation.numpy())\n",
        "    \n",
        "    for i in range(num_approximation):\n",
        "        \n",
        "        softmax_accommodating_perturbation = model1(input_tensor+perturbation)\n",
        "        \n",
        "        #softmax_accommodating_perturbation_af = Activation(\"softmax\")(softmax_accommodating_perturbation)\n",
        "        # ノイズを足した配列とノーマルな配列がCNNで出力された結果のKL距離を求める\n",
        "        dist = tf.reduce_mean(kl_divergence(be_softmax,softmax_accommodating_perturbation))\n",
        "        #cross_entropy_accommodating_perturbation = -tf.reduce_sum(plain_softmax * tf.math.log(clipped(softmax_accommodating_perturbation))) * weight\n",
        "        adversarial_direction = tf.gradients(dist, [perturbation])[0]\n",
        "        pertubation = tf.stop_gradient(adversarial_direction)\n",
        "    #print(\"ok\")    \n",
        "    \n",
        "    pertubation = epsilon * get_unit_vector(pertubation)\n",
        "    \n",
        "    #corrent_softmax = model1(input_tensor) \n",
        "    vat_softmax = model1(input_tensor + perturbation)\n",
        "    loss =  tf.reduce_mean(kl_divergence(be_softmax,vat_softmax))\n",
        "    return  loss"
      ],
      "execution_count": 0,
      "outputs": []
    },
    {
      "cell_type": "code",
      "metadata": {
        "id": "qJ-cuZIn4pjM",
        "colab_type": "code",
        "colab": {}
      },
      "source": [
        "y = x_test[0:20]\n",
        "x = Activation('softmax')(model1(y))"
      ],
      "execution_count": 0,
      "outputs": []
    },
    {
      "cell_type": "code",
      "metadata": {
        "id": "jiVdLxu6iXHg",
        "colab_type": "code",
        "colab": {}
      },
      "source": [
        "file_path1 = pd.read_csv(\"/content/drive/My Drive/512_choice/512_3000.csv\")"
      ],
      "execution_count": 0,
      "outputs": []
    },
    {
      "cell_type": "code",
      "metadata": {
        "id": "J8eGvJ8f962r",
        "colab_type": "code",
        "colab": {
          "base_uri": "https://localhost:8080/",
          "height": 289
        },
        "outputId": "12f0b645-8a6f-472f-e2cc-8c1fa230701a"
      },
      "source": [
        "file_path1.head()"
      ],
      "execution_count": 48,
      "outputs": [
        {
          "output_type": "execute_result",
          "data": {
            "text/html": [
              "<div>\n",
              "<style scoped>\n",
              "    .dataframe tbody tr th:only-of-type {\n",
              "        vertical-align: middle;\n",
              "    }\n",
              "\n",
              "    .dataframe tbody tr th {\n",
              "        vertical-align: top;\n",
              "    }\n",
              "\n",
              "    .dataframe thead th {\n",
              "        text-align: right;\n",
              "    }\n",
              "</style>\n",
              "<table border=\"1\" class=\"dataframe\">\n",
              "  <thead>\n",
              "    <tr style=\"text-align: right;\">\n",
              "      <th></th>\n",
              "      <th>type</th>\n",
              "      <th>ID</th>\n",
              "      <th>file_path_before</th>\n",
              "      <th>sd</th>\n",
              "      <th>file_path</th>\n",
              "      <th>base_path</th>\n",
              "    </tr>\n",
              "  </thead>\n",
              "  <tbody>\n",
              "    <tr>\n",
              "      <th>0</th>\n",
              "      <td>PP</td>\n",
              "      <td>TCGA-78-7154-01A-01-TS1</td>\n",
              "      <td>/mnt/Doc/512/PP/TCGA-78-7154-01A-01-TS1/5_8_8....</td>\n",
              "      <td>62.079063</td>\n",
              "      <td>/mnt/Doc/512_choice/PP/TCGA-78-7154-01A-01-TS1...</td>\n",
              "      <td>PP/TCGA-78-7154-01A-01-TS1/5_8_8.jpeg</td>\n",
              "    </tr>\n",
              "    <tr>\n",
              "      <th>1</th>\n",
              "      <td>PI</td>\n",
              "      <td>TCGA-73-4658-01A-01-TS1</td>\n",
              "      <td>/mnt/Doc/512/PI/TCGA-73-4658-01A-01-TS1/6_5_14...</td>\n",
              "      <td>59.211271</td>\n",
              "      <td>/mnt/Doc/512_choice/PI/TCGA-73-4658-01A-01-TS1...</td>\n",
              "      <td>PI/TCGA-73-4658-01A-01-TS1/6_5_14.jpeg</td>\n",
              "    </tr>\n",
              "    <tr>\n",
              "      <th>2</th>\n",
              "      <td>TRU</td>\n",
              "      <td>TCGA-55-6543-01A-01-BS1</td>\n",
              "      <td>/mnt/Doc/512/TRU/TCGA-55-6543-01A-01-BS1/4_3_1...</td>\n",
              "      <td>61.448240</td>\n",
              "      <td>/mnt/Doc/512_choice/TRU/TCGA-55-6543-01A-01-BS...</td>\n",
              "      <td>TRU/TCGA-55-6543-01A-01-BS1/4_3_1.jpeg</td>\n",
              "    </tr>\n",
              "    <tr>\n",
              "      <th>3</th>\n",
              "      <td>PP</td>\n",
              "      <td>TCGA-78-7156-01A-01-TS1</td>\n",
              "      <td>/mnt/Doc/512/PP/TCGA-78-7156-01A-01-TS1/4_4_11...</td>\n",
              "      <td>58.248361</td>\n",
              "      <td>/mnt/Doc/512_choice/PP/TCGA-78-7156-01A-01-TS1...</td>\n",
              "      <td>PP/TCGA-78-7156-01A-01-TS1/4_4_11.jpeg</td>\n",
              "    </tr>\n",
              "    <tr>\n",
              "      <th>4</th>\n",
              "      <td>PP</td>\n",
              "      <td>TCGA-50-5932-01A-01-BS1</td>\n",
              "      <td>/mnt/Doc/512/PP/TCGA-50-5932-01A-01-BS1/23_19_...</td>\n",
              "      <td>56.939832</td>\n",
              "      <td>/mnt/Doc/512_choice/PP/TCGA-50-5932-01A-01-BS1...</td>\n",
              "      <td>PP/TCGA-50-5932-01A-01-BS1/23_19_13.jpeg</td>\n",
              "    </tr>\n",
              "  </tbody>\n",
              "</table>\n",
              "</div>"
            ],
            "text/plain": [
              "  type  ...                                 base_path\n",
              "0   PP  ...     PP/TCGA-78-7154-01A-01-TS1/5_8_8.jpeg\n",
              "1   PI  ...    PI/TCGA-73-4658-01A-01-TS1/6_5_14.jpeg\n",
              "2  TRU  ...    TRU/TCGA-55-6543-01A-01-BS1/4_3_1.jpeg\n",
              "3   PP  ...    PP/TCGA-78-7156-01A-01-TS1/4_4_11.jpeg\n",
              "4   PP  ...  PP/TCGA-50-5932-01A-01-BS1/23_19_13.jpeg\n",
              "\n",
              "[5 rows x 6 columns]"
            ]
          },
          "metadata": {
            "tags": []
          },
          "execution_count": 48
        }
      ]
    },
    {
      "cell_type": "code",
      "metadata": {
        "id": "hk3TXST5i1Ja",
        "colab_type": "code",
        "colab": {}
      },
      "source": [
        "#file_path1 = pd.read_csv(\"/content/drive/My Drive/2048pix_tissue_choice/val_1000.csv\")\n",
        "file_path2 =file_path1[400:410]\n",
        "tmp_images = np.zeros((len(file_path2), 512, 512, 3))\n",
        "count = 400\n",
        "for i in range(10):\n",
        "    \n",
        "    path = file_path1.loc[i][\"base_path\"]\n",
        "    path1 = \"/content/drive/My Drive/512_choice/\"+path\n",
        "    count+=1\n",
        "    with Image.open(path1) as f:\n",
        "        tmp_images[i] = np.asarray(f, dtype=np.float64)/255"
      ],
      "execution_count": 0,
      "outputs": []
    },
    {
      "cell_type": "code",
      "metadata": {
        "id": "_9yQ3oDx-1BD",
        "colab_type": "code",
        "colab": {}
      },
      "source": [
        "pred =Activation('softmax')(model1(tmp_images[1:5]))"
      ],
      "execution_count": 0,
      "outputs": []
    },
    {
      "cell_type": "code",
      "metadata": {
        "id": "tWW4WCvf_Qfb",
        "colab_type": "code",
        "colab": {
          "base_uri": "https://localhost:8080/",
          "height": 102
        },
        "outputId": "9ed1e09a-daf6-45dc-dbdb-77f171441786"
      },
      "source": [
        "pred"
      ],
      "execution_count": 67,
      "outputs": [
        {
          "output_type": "execute_result",
          "data": {
            "text/plain": [
              "<tf.Tensor: id=95354, shape=(4, 3), dtype=float32, numpy=\n",
              "array([[0.333333  , 0.33333346, 0.33333358],\n",
              "       [0.333333  , 0.33333346, 0.33333358],\n",
              "       [0.33333296, 0.33333343, 0.33333355],\n",
              "       [0.333333  , 0.33333346, 0.33333358]], dtype=float32)>"
            ]
          },
          "metadata": {
            "tags": []
          },
          "execution_count": 67
        }
      ]
    },
    {
      "cell_type": "code",
      "metadata": {
        "id": "BB14Tuiv8M6N",
        "colab_type": "code",
        "colab": {}
      },
      "source": [
        "xi = []\n",
        "for i in range(10000):\n",
        "    print(np.argmax(x[i]))\n",
        "    xi.append(np.argmax(x[i]))"
      ],
      "execution_count": 0,
      "outputs": []
    },
    {
      "cell_type": "code",
      "metadata": {
        "id": "L7H0f-4j89gn",
        "colab_type": "code",
        "colab": {}
      },
      "source": [
        "xi.count(6)"
      ],
      "execution_count": 0,
      "outputs": []
    },
    {
      "cell_type": "code",
      "metadata": {
        "id": "QaXF0UBRNK1B",
        "colab_type": "code",
        "colab": {}
      },
      "source": [
        "\n",
        "for i in range(10):\n",
        "    x+=x[1][i]"
      ],
      "execution_count": 0,
      "outputs": []
    },
    {
      "cell_type": "code",
      "metadata": {
        "id": "A3iuBxAVNo8c",
        "colab_type": "code",
        "colab": {}
      },
      "source": [
        "x[1][0]+x[1][1]+x[1][2]+x[1][3]+x[1][4]+x[1][5]+x[1][6]+x[1][7]+x[1][8]+x[1][9]"
      ],
      "execution_count": 0,
      "outputs": []
    },
    {
      "cell_type": "code",
      "metadata": {
        "id": "7TJB_IHbNtqJ",
        "colab_type": "code",
        "colab": {}
      },
      "source": [
        "np.argmax(x[3])"
      ],
      "execution_count": 0,
      "outputs": []
    },
    {
      "cell_type": "code",
      "metadata": {
        "id": "9i_RcL6RNwim",
        "colab_type": "code",
        "colab": {}
      },
      "source": [
        ""
      ],
      "execution_count": 0,
      "outputs": []
    }
  ]
}