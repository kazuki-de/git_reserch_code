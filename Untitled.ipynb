{
 "cells": [
  {
   "cell_type": "code",
   "execution_count": null,
   "metadata": {},
   "outputs": [],
   "source": [
    "import os\n",
    "username=\"kanayalab\"\n",
    "derectory=\"Documents\"\n",
    "train_128=os.listdir(os.path.join(\"/home\",username,derectory,\"128*128pixtisue/train\"))\n",
    "test_128=os.listdir(os.path.join(\"/home\",username,derectory,\"128*128pixtisue/test\"))\n",
    "varid_128=os.listdir(os.path.join(\"/home\",username,derectory,\"128*128pixtisue/varid\"))"
   ]
  },
  {
   "cell_type": "code",
   "execution_count": null,
   "metadata": {},
   "outputs": [],
   "source": [
    "import re\n",
    "from enum import Enum\n",
    "class TYPE(Enum):\n",
    "    PI = 0\n",
    "    PP = 1\n",
    "    TRU = 2\n",
    "n=test_128    #ファイル名のリスト\n",
    "type1=\"test\"  #サンプルの種類\n",
    "nb=len(n)      #ファイルリストの長さ\n",
    "nx=ny=128      #画像の大きさ\n",
    "nl=3           #rgb\n",
    "blunc=np.emptylunc=np.empty((nb, nx, ny, nl), np.float32)  #リストの型を作成\n",
    "blunc_ID=np.empty((nb),np.float32)\n",
    "blunc_type=np.empty((nb),np.float32)\n",
    "bb=0\n",
    "type_name_list=[\"PI\",\"PP\",\"TRU\"] #PI=0,PP=1,TRU=2\n",
    "typeNameList = {\"PI\":0,\"PP\":1,\"TRU\":2}\n",
    "im_name_list=[]\n",
    "im_type_list=[]\n",
    "im_ID_list=[]\n",
    "for i in n:\n",
    "    img_src = Image.open(os.path.join(\"/home/kanayalab/Documents/128*128pixtisue\",type1,i)) #image ope\n",
    "    img_temp=np.asarray(img_src)\n",
    "    blunc[bb,] = img_temp\n",
    "    im_name_list.append(i)\n",
    "    for m in type_name_list:\n",
    "        after_words = re.search(m, i)\n",
    "        if after_words !=None:\n",
    "            x=typeNameList[after_words.group(0)]\n",
    "    blunc_type[bb,]=x\n",
    "    after_words2 = re.search(r\"[0-9]{2}-[0-9]{4}\", i)\n",
    "    y=after_words2.group(0)\n",
    "    z=re.sub(\"-\", \"\", y)\n",
    "    blunc_ID[bb,] = z\n",
    "    bb+=1\n",
    "np.save(type1+\" \"+\"pictute\"+\".npy\",blunc)\n",
    "np.save(type1+\" \"+\"ID\"+\".npy\",blunc_ID)\n",
    "np.save(type1+\" \"+\"type\"+\".npy\",blunc_type)"
   ]
  },
  {
   "cell_type": "code",
   "execution_count": 1,
   "metadata": {},
   "outputs": [
    {
     "name": "stdout",
     "output_type": "stream",
     "text": [
      "'Autoencoder 128_128pix (1).ipynb'\r\n",
      "'my data by keras autoencoder .ipynb'\r\n",
      " Untitled.ipynb\r\n",
      " 研究テーマのコード　画像の分類　切断.ipynb\r\n"
     ]
    }
   ],
   "source": [
    "ls"
   ]
  },
  {
   "cell_type": "code",
   "execution_count": null,
   "metadata": {},
   "outputs": [],
   "source": []
  }
 ],
 "metadata": {
  "kernelspec": {
   "display_name": "Python 3",
   "language": "python",
   "name": "python3"
  },
  "language_info": {
   "codemirror_mode": {
    "name": "ipython",
    "version": 3
   },
   "file_extension": ".py",
   "mimetype": "text/x-python",
   "name": "python",
   "nbconvert_exporter": "python",
   "pygments_lexer": "ipython3",
   "version": "3.7.0"
  }
 },
 "nbformat": 4,
 "nbformat_minor": 2
}
