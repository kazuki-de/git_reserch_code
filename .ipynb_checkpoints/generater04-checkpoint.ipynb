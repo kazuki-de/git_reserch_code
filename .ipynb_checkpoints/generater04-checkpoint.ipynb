{
 "cells": [
  {
   "cell_type": "code",
   "execution_count": 1,
   "metadata": {},
   "outputs": [
    {
     "name": "stderr",
     "output_type": "stream",
     "text": [
      "Using TensorFlow backend.\n"
     ]
    }
   ],
   "source": [
    "import keras\n",
    "from keras.models import load_model\n",
    "#from keras.datasets import cifar10\n",
    "from keras.layers import Input, Dense, Conv2D, MaxPooling2D, UpSampling2D, BatchNormalization, Activation, Flatten, Dropout,GlobalAveragePooling2D\n",
    "from keras.models import Model\n",
    "from keras.callbacks import EarlyStopping, ModelCheckpoint\n",
    "from keras.optimizers import Adam\n",
    "from keras.utils import np_utils\n",
    "from keras.utils.np_utils import to_categorical\n",
    "import os\n",
    "import pickle\n",
    "import numpy as np\n",
    "import h5py\n",
    "from keras import backend as K\n",
    "from keras.optimizers import SGD\n",
    "from keras.callbacks import LearningRateScheduler\n",
    "import pandas as pd\n",
    "from PIL import Image\n",
    "from keras import metrics"
   ]
  },
  {
   "cell_type": "code",
   "execution_count": 14,
   "metadata": {},
   "outputs": [
    {
     "name": "stdout",
     "output_type": "stream",
     "text": [
      "_________________________________________________________________\n",
      "Layer (type)                 Output Shape              Param #   \n",
      "=================================================================\n",
      "input_4 (InputLayer)         (None, 2048, 2048, 3)     0         \n",
      "_________________________________________________________________\n",
      "conv2d_13 (Conv2D)           (None, 2048, 2048, 4)     592       \n",
      "_________________________________________________________________\n",
      "activation_13 (Activation)   (None, 2048, 2048, 4)     0         \n",
      "_________________________________________________________________\n",
      "max_pooling2d_10 (MaxPooling (None, 1024, 1024, 4)     0         \n",
      "_________________________________________________________________\n",
      "conv2d_14 (Conv2D)           (None, 1024, 1024, 8)     808       \n",
      "_________________________________________________________________\n",
      "activation_14 (Activation)   (None, 1024, 1024, 8)     0         \n",
      "_________________________________________________________________\n",
      "max_pooling2d_11 (MaxPooling (None, 512, 512, 8)       0         \n",
      "_________________________________________________________________\n",
      "conv2d_15 (Conv2D)           (None, 512, 512, 16)      1168      \n",
      "_________________________________________________________________\n",
      "activation_15 (Activation)   (None, 512, 512, 16)      0         \n",
      "_________________________________________________________________\n",
      "max_pooling2d_12 (MaxPooling (None, 256, 256, 16)      0         \n",
      "_________________________________________________________________\n",
      "conv2d_16 (Conv2D)           (None, 16, 16, 64)        262208    \n",
      "_________________________________________________________________\n",
      "flatten_4 (Flatten)          (None, 16384)             0         \n",
      "_________________________________________________________________\n",
      "dense_7 (Dense)              (None, 64)                1048640   \n",
      "_________________________________________________________________\n",
      "dropout_4 (Dropout)          (None, 64)                0         \n",
      "_________________________________________________________________\n",
      "dense_8 (Dense)              (None, 3)                 195       \n",
      "_________________________________________________________________\n",
      "activation_16 (Activation)   (None, 3)                 0         \n",
      "=================================================================\n",
      "Total params: 1,313,611\n",
      "Trainable params: 1,313,611\n",
      "Non-trainable params: 0\n",
      "_________________________________________________________________\n",
      "Model loaded.\n"
     ]
    }
   ],
   "source": [
    "input_img = Input(shape=(2048, 2048, 3))\n",
    "x = Conv2D(4, (7, 7), padding='same')(input_img)\n",
    "x = Activation('relu')(x)\n",
    "#x = BatchNormalization()(x)\n",
    "#x = Dropout(0.25)(x)\n",
    "\n",
    "x = MaxPooling2D((2, 2), padding='same')(x)\n",
    "\n",
    "x = Conv2D(8, (5, 5), padding='same')(x)\n",
    "x = Activation('relu')(x)\n",
    "#x = BatchNormalization()(x)\n",
    "#x = Dropout(0.25)(x)\n",
    "\n",
    "x = MaxPooling2D((2, 2), padding='same')(x)\n",
    "\n",
    "x = Conv2D(16, (3, 3), padding='same')(x)\n",
    "x = Activation('relu')(x)\n",
    "#x = BatchNormalization()(x)\n",
    "#x = Dropout(0.25)(x)\n",
    "\n",
    "x = MaxPooling2D((2, 2), padding='same')(x)\n",
    "\n",
    "#x = Conv2D(16, (3, 3), padding='same')(x)\n",
    "#x = Activation('relu')(x)\n",
    "#x = BatchNormalization()(x)\n",
    "#x = Dropout(0.25)(x)\n",
    "\n",
    "#x = MaxPooling2D((2, 2), padding='same')(x)\n",
    "\n",
    "x = Conv2D(64, (16,16),padding=\"valid\",strides=16)(x)\n",
    "x = Flatten()(x)\n",
    "x = Dense(64)(x)\n",
    "x = Dropout(0.5)(x)\n",
    "x = Dense(3)(x)\n",
    "out = Activation(\"softmax\")(x)\n",
    "model = Model(input_img, out)\n",
    "model.compile(optimizer='adam', loss='categorical_crossentropy',metrics=[\"accuracy\"])\n",
    "model.summary()\n",
    "\n",
    "weights_path = '/mnt/Doc/weight/Autoencoder/256/best_weight_0507.h5' \n",
    "assert os.path.exists(weights_path), 'Model weights not found '\n",
    "f = h5py.File(weights_path)\n",
    "layer_names = [n.decode('utf8') for n in f.attrs['layer_names']]\n",
    "weight_value_tuples = []\n",
    "\n",
    "for k, name in enumerate(layer_names):\n",
    "    if k >= 9:\n",
    "        # 全結合層の重みは読み込まない\n",
    "        break\n",
    "    g = f[name]\n",
    "    weight_names = [n.decode('utf8') for n in g.attrs['weight_names']]\n",
    "    if len(weight_names):\n",
    "        weight_values = [g[weight_name] for weight_name in weight_names]\n",
    "        layer = model.layers[k]\n",
    "        symbolic_weights = layer.trainable_weights + layer.non_trainable_weights\n",
    "        if len(weight_values) != len(symbolic_weights):\n",
    "            raise Exception('Layer #' + str(k) +\n",
    "                            ' (named \"' + layer.name +\n",
    "                            '\" in the current model) was found to '\n",
    "                            'correspond to layer ' + name +\n",
    "                            ' in the save file. '\n",
    "                            'However the new layer ' + layer.name +\n",
    "                            ' expects ' + str(len(symbolic_weights)) +\n",
    "                            ' weights, but the saved weights have ' +\n",
    "                            str(len(weight_values)) +' elements.')\n",
    "        weight_value_tuples += zip(symbolic_weights, weight_values)\n",
    "K.batch_set_value(weight_value_tuples)\n",
    "f.close()\n",
    "print('Model loaded.')\n",
    "\n",
    "#for layer in model.layers[:9]:\n",
    "        #layer.trainable = False\n"
   ]
  },
  {
   "cell_type": "code",
   "execution_count": 15,
   "metadata": {},
   "outputs": [],
   "source": [
    "modelCheckpoint = ModelCheckpoint(filepath =\"/mnt/Doc/weight/classify/2019_05_02/2019_05_17.h5\",\n",
    "                                  monitor = \"val_loss\",\n",
    "                                  verbose=1,\n",
    "                                  save_best_only = True,\n",
    "                                  save_weights_only = False,\n",
    "                                  mode = \"min\",\n",
    "                                  period =1)"
   ]
  },
  {
   "cell_type": "code",
   "execution_count": 16,
   "metadata": {},
   "outputs": [],
   "source": [
    "class ImageDataGenerator(object):\n",
    "    def __init__(self):\n",
    "        self.reset()\n",
    "\n",
    "    def reset(self):\n",
    "        self.images = []\n",
    "        self.labels = []\n",
    "        self.labelsx = []\n",
    "    #file_pathはメタCSVでーたのこと\n",
    "    def flow_from_directory(self, file_path, classes, batch_size=8):\n",
    "        blunc=np.empty((batch_size, 2048, 2048, 3), np.float32)\n",
    "        blunc_l=np.empty((batch_size), np.float32)\n",
    "        # LabelEncode(classをint型に変換)するためのdict\\n\",\n",
    "        classes = {v: i for i, v in enumerate(sorted(classes))}\n",
    "        file_path = pd.read_csv(file_path)\n",
    "        boss_dir = \"/mnt/Doc\"\n",
    "        while True:\n",
    "            # ディレクトリから画像のパスを取り出す\n",
    "            count = 0\n",
    "            for i in range(len(file_path)):\n",
    "                # 画像を読み込みRGBへの変換、Numpyへの変換を行い、配列(self.iamges)に格納\n",
    "                path = file_path.loc[i][\"path1\"]\n",
    "                #print(i)\n",
    "\n",
    "                with Image.open(path) as f:\n",
    "                    self.images.append((np.asarray(f.convert('RGB'), dtype=np.float32))/255)\n",
    "                \n",
    "                # ファイル名からラベルを取り出し、配列(self.labels)に格納\n",
    "                #_, y = path.stem.split('_')\n",
    "                label = file_path.loc[i][\"type\"]\n",
    "                self.labels.append(to_categorical(classes[label],len(classes)))\n",
    "                self.labelsx.append(to_categorical(classes[label],len(classes)))\n",
    "                # ここまでを繰り返し行い、batch_sizeの数だけ配列(self.iamges, self.labels)に格納\n",
    "                # batch_sizeの数だけ格納されたら、戻り値として返し、配列(self.iamges, self.labels)を空にする\n",
    "                if len(self.images)== batch_size:\n",
    "                    #print(len(self.images))\n",
    "                    inputs = np.asarray(self.images,dtype=np.float32) \n",
    "                    targets = np.asarray(self.labels,dtype=np.float32)\n",
    "                    #print(len(self.images))\n",
    "                    count+=1\n",
    "                    #if count%1000==0:\n",
    "                        #print(\"n*1000!\")\n",
    "                    self.reset()\n",
    "                    yield inputs, targets\n",
    "   "
   ]
  },
  {
   "cell_type": "code",
   "execution_count": 17,
   "metadata": {},
   "outputs": [
    {
     "name": "stdout",
     "output_type": "stream",
     "text": [
      "7136\n",
      "Epoch 1/1000\n",
      " - 1972s - loss: 10.4900 - acc: 0.3471 - val_loss: 10.5388 - val_acc: 0.3462\n",
      "\n",
      "Epoch 00001: val_loss improved from inf to 10.53875, saving model to /mnt/Doc/weight/classify/2019_05_02/2019_05_17.h5\n",
      "Epoch 2/1000\n",
      " - 1969s - loss: 10.5233 - acc: 0.3471 - val_loss: 10.5388 - val_acc: 0.3462\n",
      "\n",
      "Epoch 00002: val_loss did not improve from 10.53875\n",
      "Epoch 3/1000\n",
      " - 1971s - loss: 10.5233 - acc: 0.3471 - val_loss: 10.5388 - val_acc: 0.3462\n",
      "\n",
      "Epoch 00003: val_loss did not improve from 10.53875\n",
      "Epoch 4/1000\n",
      " - 1971s - loss: 10.5233 - acc: 0.3471 - val_loss: 10.5388 - val_acc: 0.3462\n",
      "\n",
      "Epoch 00004: val_loss did not improve from 10.53875\n",
      "Epoch 5/1000\n",
      " - 1972s - loss: 10.5233 - acc: 0.3471 - val_loss: 10.5388 - val_acc: 0.3462\n",
      "\n",
      "Epoch 00005: val_loss did not improve from 10.53875\n",
      "Epoch 6/1000\n",
      " - 1972s - loss: 10.5233 - acc: 0.3471 - val_loss: 10.5388 - val_acc: 0.3462\n",
      "\n",
      "Epoch 00006: val_loss did not improve from 10.53875\n",
      "Epoch 7/1000\n",
      " - 1972s - loss: 10.5233 - acc: 0.3471 - val_loss: 10.5388 - val_acc: 0.3462\n",
      "\n",
      "Epoch 00007: val_loss did not improve from 10.53875\n",
      "Epoch 8/1000\n",
      " - 1972s - loss: 10.5233 - acc: 0.3471 - val_loss: 10.5388 - val_acc: 0.3462\n",
      "\n",
      "Epoch 00008: val_loss did not improve from 10.53875\n",
      "Epoch 9/1000\n",
      " - 1972s - loss: 10.5233 - acc: 0.3471 - val_loss: 10.5388 - val_acc: 0.3462\n",
      "\n",
      "Epoch 00009: val_loss did not improve from 10.53875\n",
      "Epoch 10/1000\n",
      " - 1970s - loss: 10.5233 - acc: 0.3471 - val_loss: 10.5388 - val_acc: 0.3462\n",
      "\n",
      "Epoch 00010: val_loss did not improve from 10.53875\n",
      "Epoch 11/1000\n",
      " - 1972s - loss: 10.5233 - acc: 0.3471 - val_loss: 10.5388 - val_acc: 0.3462\n",
      "\n",
      "Epoch 00011: val_loss did not improve from 10.53875\n",
      "Epoch 12/1000\n",
      " - 1972s - loss: 10.5233 - acc: 0.3471 - val_loss: 10.5388 - val_acc: 0.3462\n",
      "\n",
      "Epoch 00012: val_loss did not improve from 10.53875\n",
      "Epoch 13/1000\n",
      " - 1973s - loss: 10.5233 - acc: 0.3471 - val_loss: 10.5388 - val_acc: 0.3462\n",
      "\n",
      "Epoch 00013: val_loss did not improve from 10.53875\n",
      "Epoch 14/1000\n",
      " - 1973s - loss: 10.5233 - acc: 0.3471 - val_loss: 10.5388 - val_acc: 0.3462\n",
      "\n",
      "Epoch 00014: val_loss did not improve from 10.53875\n",
      "Epoch 15/1000\n",
      " - 1974s - loss: 10.5233 - acc: 0.3471 - val_loss: 10.5388 - val_acc: 0.3462\n",
      "\n",
      "Epoch 00015: val_loss did not improve from 10.53875\n",
      "Epoch 16/1000\n",
      " - 1974s - loss: 10.5233 - acc: 0.3471 - val_loss: 10.5388 - val_acc: 0.3462\n",
      "\n",
      "Epoch 00016: val_loss did not improve from 10.53875\n",
      "Epoch 17/1000\n",
      " - 1973s - loss: 10.5233 - acc: 0.3471 - val_loss: 10.5388 - val_acc: 0.3462\n",
      "\n",
      "Epoch 00017: val_loss did not improve from 10.53875\n",
      "Epoch 18/1000\n",
      " - 1974s - loss: 10.5233 - acc: 0.3471 - val_loss: 10.5388 - val_acc: 0.3462\n",
      "\n",
      "Epoch 00018: val_loss did not improve from 10.53875\n",
      "Epoch 19/1000\n",
      " - 1973s - loss: 10.5233 - acc: 0.3471 - val_loss: 10.5388 - val_acc: 0.3462\n",
      "\n",
      "Epoch 00019: val_loss did not improve from 10.53875\n",
      "Epoch 20/1000\n",
      " - 1974s - loss: 10.5233 - acc: 0.3471 - val_loss: 10.5388 - val_acc: 0.3462\n",
      "\n",
      "Epoch 00020: val_loss did not improve from 10.53875\n",
      "Epoch 21/1000\n",
      " - 1974s - loss: 10.5233 - acc: 0.3471 - val_loss: 10.5388 - val_acc: 0.3462\n",
      "\n",
      "Epoch 00021: val_loss did not improve from 10.53875\n",
      "Epoch 22/1000\n",
      " - 1973s - loss: 10.5233 - acc: 0.3471 - val_loss: 10.5388 - val_acc: 0.3462\n",
      "\n",
      "Epoch 00022: val_loss did not improve from 10.53875\n",
      "Epoch 23/1000\n",
      " - 1974s - loss: 10.5233 - acc: 0.3471 - val_loss: 10.5388 - val_acc: 0.3462\n",
      "\n",
      "Epoch 00023: val_loss did not improve from 10.53875\n",
      "Epoch 24/1000\n",
      " - 1974s - loss: 10.5233 - acc: 0.3471 - val_loss: 10.5388 - val_acc: 0.3462\n",
      "\n",
      "Epoch 00024: val_loss did not improve from 10.53875\n",
      "Epoch 25/1000\n",
      " - 1973s - loss: 10.5233 - acc: 0.3471 - val_loss: 10.5388 - val_acc: 0.3462\n",
      "\n",
      "Epoch 00025: val_loss did not improve from 10.53875\n",
      "Epoch 26/1000\n",
      " - 1974s - loss: 10.5233 - acc: 0.3471 - val_loss: 10.5388 - val_acc: 0.3462\n",
      "\n",
      "Epoch 00026: val_loss did not improve from 10.53875\n",
      "Epoch 27/1000\n",
      " - 1972s - loss: 10.5233 - acc: 0.3471 - val_loss: 10.5388 - val_acc: 0.3462\n",
      "\n",
      "Epoch 00027: val_loss did not improve from 10.53875\n",
      "Epoch 28/1000\n",
      " - 1973s - loss: 10.5233 - acc: 0.3471 - val_loss: 10.5388 - val_acc: 0.3462\n",
      "\n",
      "Epoch 00028: val_loss did not improve from 10.53875\n",
      "Epoch 29/1000\n",
      " - 1972s - loss: 10.5233 - acc: 0.3471 - val_loss: 10.5388 - val_acc: 0.3462\n",
      "\n",
      "Epoch 00029: val_loss did not improve from 10.53875\n",
      "Epoch 30/1000\n",
      " - 1972s - loss: 10.5233 - acc: 0.3471 - val_loss: 10.5388 - val_acc: 0.3462\n",
      "\n",
      "Epoch 00030: val_loss did not improve from 10.53875\n",
      "Epoch 31/1000\n",
      " - 1971s - loss: 10.5233 - acc: 0.3471 - val_loss: 10.5388 - val_acc: 0.3462\n",
      "\n",
      "Epoch 00031: val_loss did not improve from 10.53875\n",
      "Epoch 32/1000\n",
      " - 1972s - loss: 10.5233 - acc: 0.3471 - val_loss: 10.5388 - val_acc: 0.3462\n",
      "\n",
      "Epoch 00032: val_loss did not improve from 10.53875\n",
      "Epoch 33/1000\n",
      " - 1973s - loss: 10.5233 - acc: 0.3471 - val_loss: 10.5388 - val_acc: 0.3462\n",
      "\n",
      "Epoch 00033: val_loss did not improve from 10.53875\n",
      "Epoch 34/1000\n",
      " - 1973s - loss: 10.5233 - acc: 0.3471 - val_loss: 10.5388 - val_acc: 0.3462\n",
      "\n",
      "Epoch 00034: val_loss did not improve from 10.53875\n",
      "Epoch 35/1000\n",
      " - 1973s - loss: 10.5233 - acc: 0.3471 - val_loss: 10.5388 - val_acc: 0.3462\n",
      "\n",
      "Epoch 00035: val_loss did not improve from 10.53875\n",
      "Epoch 36/1000\n",
      " - 1974s - loss: 10.5233 - acc: 0.3471 - val_loss: 10.5388 - val_acc: 0.3462\n",
      "\n",
      "Epoch 00036: val_loss did not improve from 10.53875\n",
      "Epoch 37/1000\n"
     ]
    },
    {
     "ename": "KeyboardInterrupt",
     "evalue": "",
     "output_type": "error",
     "traceback": [
      "\u001b[0;31m---------------------------------------------------------------------------\u001b[0m",
      "\u001b[0;31mKeyboardInterrupt\u001b[0m                         Traceback (most recent call last)",
      "\u001b[0;32m<ipython-input-17-774ed77365c5>\u001b[0m in \u001b[0;36m<module>\u001b[0;34m\u001b[0m\n\u001b[1;32m     17\u001b[0m     \u001b[0mvalidation_data\u001b[0m\u001b[0;34m=\u001b[0m\u001b[0mtest_datagen\u001b[0m\u001b[0;34m.\u001b[0m\u001b[0mflow_from_directory\u001b[0m\u001b[0;34m(\u001b[0m\u001b[0mtest_dir\u001b[0m\u001b[0;34m,\u001b[0m \u001b[0mclasses\u001b[0m\u001b[0;34m)\u001b[0m\u001b[0;34m,\u001b[0m\u001b[0;34m\u001b[0m\u001b[0m\n\u001b[1;32m     18\u001b[0m     \u001b[0mvalidation_steps\u001b[0m\u001b[0;34m=\u001b[0m\u001b[0;36m104\u001b[0m\u001b[0;34m/\u001b[0m\u001b[0mbatchsize\u001b[0m\u001b[0;34m,\u001b[0m\u001b[0;34m\u001b[0m\u001b[0m\n\u001b[0;32m---> 19\u001b[0;31m     \u001b[0mcallbacks\u001b[0m \u001b[0;34m=\u001b[0m \u001b[0;34m[\u001b[0m\u001b[0mmodelCheckpoint\u001b[0m\u001b[0;34m]\u001b[0m\u001b[0;34m\u001b[0m\u001b[0m\n\u001b[0m\u001b[1;32m     20\u001b[0m     )\n",
      "\u001b[0;32m/usr/local/lib/python3.5/dist-packages/keras/legacy/interfaces.py\u001b[0m in \u001b[0;36mwrapper\u001b[0;34m(*args, **kwargs)\u001b[0m\n\u001b[1;32m     89\u001b[0m                 warnings.warn('Update your `' + object_name + '` call to the ' +\n\u001b[1;32m     90\u001b[0m                               'Keras 2 API: ' + signature, stacklevel=2)\n\u001b[0;32m---> 91\u001b[0;31m             \u001b[0;32mreturn\u001b[0m \u001b[0mfunc\u001b[0m\u001b[0;34m(\u001b[0m\u001b[0;34m*\u001b[0m\u001b[0margs\u001b[0m\u001b[0;34m,\u001b[0m \u001b[0;34m**\u001b[0m\u001b[0mkwargs\u001b[0m\u001b[0;34m)\u001b[0m\u001b[0;34m\u001b[0m\u001b[0m\n\u001b[0m\u001b[1;32m     92\u001b[0m         \u001b[0mwrapper\u001b[0m\u001b[0;34m.\u001b[0m\u001b[0m_original_function\u001b[0m \u001b[0;34m=\u001b[0m \u001b[0mfunc\u001b[0m\u001b[0;34m\u001b[0m\u001b[0m\n\u001b[1;32m     93\u001b[0m         \u001b[0;32mreturn\u001b[0m \u001b[0mwrapper\u001b[0m\u001b[0;34m\u001b[0m\u001b[0m\n",
      "\u001b[0;32m/usr/local/lib/python3.5/dist-packages/keras/engine/training.py\u001b[0m in \u001b[0;36mfit_generator\u001b[0;34m(self, generator, steps_per_epoch, epochs, verbose, callbacks, validation_data, validation_steps, class_weight, max_queue_size, workers, use_multiprocessing, shuffle, initial_epoch)\u001b[0m\n\u001b[1;32m   1416\u001b[0m             \u001b[0muse_multiprocessing\u001b[0m\u001b[0;34m=\u001b[0m\u001b[0muse_multiprocessing\u001b[0m\u001b[0;34m,\u001b[0m\u001b[0;34m\u001b[0m\u001b[0m\n\u001b[1;32m   1417\u001b[0m             \u001b[0mshuffle\u001b[0m\u001b[0;34m=\u001b[0m\u001b[0mshuffle\u001b[0m\u001b[0;34m,\u001b[0m\u001b[0;34m\u001b[0m\u001b[0m\n\u001b[0;32m-> 1418\u001b[0;31m             initial_epoch=initial_epoch)\n\u001b[0m\u001b[1;32m   1419\u001b[0m \u001b[0;34m\u001b[0m\u001b[0m\n\u001b[1;32m   1420\u001b[0m     \u001b[0;34m@\u001b[0m\u001b[0minterfaces\u001b[0m\u001b[0;34m.\u001b[0m\u001b[0mlegacy_generator_methods_support\u001b[0m\u001b[0;34m\u001b[0m\u001b[0m\n",
      "\u001b[0;32m/usr/local/lib/python3.5/dist-packages/keras/engine/training_generator.py\u001b[0m in \u001b[0;36mfit_generator\u001b[0;34m(model, generator, steps_per_epoch, epochs, verbose, callbacks, validation_data, validation_steps, class_weight, max_queue_size, workers, use_multiprocessing, shuffle, initial_epoch)\u001b[0m\n\u001b[1;32m    215\u001b[0m                 outs = model.train_on_batch(x, y,\n\u001b[1;32m    216\u001b[0m                                             \u001b[0msample_weight\u001b[0m\u001b[0;34m=\u001b[0m\u001b[0msample_weight\u001b[0m\u001b[0;34m,\u001b[0m\u001b[0;34m\u001b[0m\u001b[0m\n\u001b[0;32m--> 217\u001b[0;31m                                             class_weight=class_weight)\n\u001b[0m\u001b[1;32m    218\u001b[0m \u001b[0;34m\u001b[0m\u001b[0m\n\u001b[1;32m    219\u001b[0m                 \u001b[0mouts\u001b[0m \u001b[0;34m=\u001b[0m \u001b[0mto_list\u001b[0m\u001b[0;34m(\u001b[0m\u001b[0mouts\u001b[0m\u001b[0;34m)\u001b[0m\u001b[0;34m\u001b[0m\u001b[0m\n",
      "\u001b[0;32m/usr/local/lib/python3.5/dist-packages/keras/engine/training.py\u001b[0m in \u001b[0;36mtrain_on_batch\u001b[0;34m(self, x, y, sample_weight, class_weight)\u001b[0m\n\u001b[1;32m   1215\u001b[0m             \u001b[0mins\u001b[0m \u001b[0;34m=\u001b[0m \u001b[0mx\u001b[0m \u001b[0;34m+\u001b[0m \u001b[0my\u001b[0m \u001b[0;34m+\u001b[0m \u001b[0msample_weights\u001b[0m\u001b[0;34m\u001b[0m\u001b[0m\n\u001b[1;32m   1216\u001b[0m         \u001b[0mself\u001b[0m\u001b[0;34m.\u001b[0m\u001b[0m_make_train_function\u001b[0m\u001b[0;34m(\u001b[0m\u001b[0;34m)\u001b[0m\u001b[0;34m\u001b[0m\u001b[0m\n\u001b[0;32m-> 1217\u001b[0;31m         \u001b[0moutputs\u001b[0m \u001b[0;34m=\u001b[0m \u001b[0mself\u001b[0m\u001b[0;34m.\u001b[0m\u001b[0mtrain_function\u001b[0m\u001b[0;34m(\u001b[0m\u001b[0mins\u001b[0m\u001b[0;34m)\u001b[0m\u001b[0;34m\u001b[0m\u001b[0m\n\u001b[0m\u001b[1;32m   1218\u001b[0m         \u001b[0;32mreturn\u001b[0m \u001b[0munpack_singleton\u001b[0m\u001b[0;34m(\u001b[0m\u001b[0moutputs\u001b[0m\u001b[0;34m)\u001b[0m\u001b[0;34m\u001b[0m\u001b[0m\n\u001b[1;32m   1219\u001b[0m \u001b[0;34m\u001b[0m\u001b[0m\n",
      "\u001b[0;32m/usr/local/lib/python3.5/dist-packages/keras/backend/tensorflow_backend.py\u001b[0m in \u001b[0;36m__call__\u001b[0;34m(self, inputs)\u001b[0m\n\u001b[1;32m   2713\u001b[0m                 \u001b[0;32mreturn\u001b[0m \u001b[0mself\u001b[0m\u001b[0;34m.\u001b[0m\u001b[0m_legacy_call\u001b[0m\u001b[0;34m(\u001b[0m\u001b[0minputs\u001b[0m\u001b[0;34m)\u001b[0m\u001b[0;34m\u001b[0m\u001b[0m\n\u001b[1;32m   2714\u001b[0m \u001b[0;34m\u001b[0m\u001b[0m\n\u001b[0;32m-> 2715\u001b[0;31m             \u001b[0;32mreturn\u001b[0m \u001b[0mself\u001b[0m\u001b[0;34m.\u001b[0m\u001b[0m_call\u001b[0m\u001b[0;34m(\u001b[0m\u001b[0minputs\u001b[0m\u001b[0;34m)\u001b[0m\u001b[0;34m\u001b[0m\u001b[0m\n\u001b[0m\u001b[1;32m   2716\u001b[0m         \u001b[0;32melse\u001b[0m\u001b[0;34m:\u001b[0m\u001b[0;34m\u001b[0m\u001b[0m\n\u001b[1;32m   2717\u001b[0m             \u001b[0;32mif\u001b[0m \u001b[0mpy_any\u001b[0m\u001b[0;34m(\u001b[0m\u001b[0mis_tensor\u001b[0m\u001b[0;34m(\u001b[0m\u001b[0mx\u001b[0m\u001b[0;34m)\u001b[0m \u001b[0;32mfor\u001b[0m \u001b[0mx\u001b[0m \u001b[0;32min\u001b[0m \u001b[0minputs\u001b[0m\u001b[0;34m)\u001b[0m\u001b[0;34m:\u001b[0m\u001b[0;34m\u001b[0m\u001b[0m\n",
      "\u001b[0;32m/usr/local/lib/python3.5/dist-packages/keras/backend/tensorflow_backend.py\u001b[0m in \u001b[0;36m_call\u001b[0;34m(self, inputs)\u001b[0m\n\u001b[1;32m   2673\u001b[0m             \u001b[0mfetched\u001b[0m \u001b[0;34m=\u001b[0m \u001b[0mself\u001b[0m\u001b[0;34m.\u001b[0m\u001b[0m_callable_fn\u001b[0m\u001b[0;34m(\u001b[0m\u001b[0;34m*\u001b[0m\u001b[0marray_vals\u001b[0m\u001b[0;34m,\u001b[0m \u001b[0mrun_metadata\u001b[0m\u001b[0;34m=\u001b[0m\u001b[0mself\u001b[0m\u001b[0;34m.\u001b[0m\u001b[0mrun_metadata\u001b[0m\u001b[0;34m)\u001b[0m\u001b[0;34m\u001b[0m\u001b[0m\n\u001b[1;32m   2674\u001b[0m         \u001b[0;32melse\u001b[0m\u001b[0;34m:\u001b[0m\u001b[0;34m\u001b[0m\u001b[0m\n\u001b[0;32m-> 2675\u001b[0;31m             \u001b[0mfetched\u001b[0m \u001b[0;34m=\u001b[0m \u001b[0mself\u001b[0m\u001b[0;34m.\u001b[0m\u001b[0m_callable_fn\u001b[0m\u001b[0;34m(\u001b[0m\u001b[0;34m*\u001b[0m\u001b[0marray_vals\u001b[0m\u001b[0;34m)\u001b[0m\u001b[0;34m\u001b[0m\u001b[0m\n\u001b[0m\u001b[1;32m   2676\u001b[0m         \u001b[0;32mreturn\u001b[0m \u001b[0mfetched\u001b[0m\u001b[0;34m[\u001b[0m\u001b[0;34m:\u001b[0m\u001b[0mlen\u001b[0m\u001b[0;34m(\u001b[0m\u001b[0mself\u001b[0m\u001b[0;34m.\u001b[0m\u001b[0moutputs\u001b[0m\u001b[0;34m)\u001b[0m\u001b[0;34m]\u001b[0m\u001b[0;34m\u001b[0m\u001b[0m\n\u001b[1;32m   2677\u001b[0m \u001b[0;34m\u001b[0m\u001b[0m\n",
      "\u001b[0;32m/usr/local/lib/python3.5/dist-packages/tensorflow/python/client/session.py\u001b[0m in \u001b[0;36m__call__\u001b[0;34m(self, *args, **kwargs)\u001b[0m\n\u001b[1;32m   1437\u001b[0m           ret = tf_session.TF_SessionRunCallable(\n\u001b[1;32m   1438\u001b[0m               \u001b[0mself\u001b[0m\u001b[0;34m.\u001b[0m\u001b[0m_session\u001b[0m\u001b[0;34m.\u001b[0m\u001b[0m_session\u001b[0m\u001b[0;34m,\u001b[0m \u001b[0mself\u001b[0m\u001b[0;34m.\u001b[0m\u001b[0m_handle\u001b[0m\u001b[0;34m,\u001b[0m \u001b[0margs\u001b[0m\u001b[0;34m,\u001b[0m \u001b[0mstatus\u001b[0m\u001b[0;34m,\u001b[0m\u001b[0;34m\u001b[0m\u001b[0m\n\u001b[0;32m-> 1439\u001b[0;31m               run_metadata_ptr)\n\u001b[0m\u001b[1;32m   1440\u001b[0m         \u001b[0;32mif\u001b[0m \u001b[0mrun_metadata\u001b[0m\u001b[0;34m:\u001b[0m\u001b[0;34m\u001b[0m\u001b[0m\n\u001b[1;32m   1441\u001b[0m           \u001b[0mproto_data\u001b[0m \u001b[0;34m=\u001b[0m \u001b[0mtf_session\u001b[0m\u001b[0;34m.\u001b[0m\u001b[0mTF_GetBuffer\u001b[0m\u001b[0;34m(\u001b[0m\u001b[0mrun_metadata_ptr\u001b[0m\u001b[0;34m)\u001b[0m\u001b[0;34m\u001b[0m\u001b[0m\n",
      "\u001b[0;31mKeyboardInterrupt\u001b[0m: "
     ]
    }
   ],
   "source": [
    "#test_dir = pathlib.Path('/path/to/test/')\n",
    "#x = pd.read_csv(\"/mnt/Doc/2048pix_tissue_all/RGBmean<190.csv\")\n",
    "train_dir = \"/mnt/Doc/2048pix_tissue_all/data_Split_0517/train_7136_sha.csv\"\n",
    "test_dir = \"/mnt/Doc/2048pix_tissue_all/data_Split_0517/validation_104_sha.csv\"\n",
    "train_len = len(pd.read_csv(train_dir))\n",
    "print(train_len)\n",
    "test_len = len(pd.read_csv(test_dir))\n",
    "test_datagen = ImageDataGenerator()\n",
    "train_datagen = ImageDataGenerator()\n",
    "classes =[\"PI\",\"PP\",\"TRU\"]\n",
    "batchsize = 8\n",
    "model.fit_generator(\n",
    "    generator=train_datagen.flow_from_directory(train_dir, classes),\n",
    "    steps_per_epoch=7136/batchsize,\n",
    "    epochs=1000,\n",
    "    verbose=2,\n",
    "    validation_data=test_datagen.flow_from_directory(test_dir, classes),\n",
    "    validation_steps=104/batchsize,\n",
    "    callbacks = [modelCheckpoint]   \n",
    "    )"
   ]
  },
  {
   "cell_type": "code",
   "execution_count": 14,
   "metadata": {},
   "outputs": [],
   "source": [
    "model.save_weights(\"/mnt/Doc/weight/weight_4400_0515.h5\")"
   ]
  },
  {
   "cell_type": "code",
   "execution_count": 48,
   "metadata": {},
   "outputs": [],
   "source": [
    "test_dir = \"/mnt/Doc/2048pix_tissue_all/data_Split_08_01_01/val_400.csv\"\n",
    "test_datagen = ImageDataGenerator()\n",
    "classes =[\"PI\",\"PP\",\"TRU\"]\n",
    "batchsize = 8\n",
    "predict = model.evaluate_generator(test_datagen.flow_from_directory(test_dir,classes),\n",
    "                 steps=120/batchsize,\n",
    "                                 )\n"
   ]
  },
  {
   "cell_type": "code",
   "execution_count": 49,
   "metadata": {},
   "outputs": [
    {
     "data": {
      "text/plain": [
       "[0.566621499756972, 0.8166666666666667]"
      ]
     },
     "execution_count": 49,
     "metadata": {},
     "output_type": "execute_result"
    }
   ],
   "source": []
  },
  {
   "cell_type": "code",
   "execution_count": null,
   "metadata": {},
   "outputs": [],
   "source": [
    "model.evaluate_generator()"
   ]
  },
  {
   "cell_type": "code",
   "execution_count": 23,
   "metadata": {},
   "outputs": [
    {
     "data": {
      "text/plain": [
       "400"
      ]
     },
     "execution_count": 23,
     "metadata": {},
     "output_type": "execute_result"
    }
   ],
   "source": [
    "len(predict)"
   ]
  },
  {
   "cell_type": "code",
   "execution_count": 26,
   "metadata": {},
   "outputs": [
    {
     "data": {
      "text/plain": [
       "array([[5.2214712e-01, 1.8164328e-01, 2.9620963e-01],\n",
       "       [0.0000000e+00, 0.0000000e+00, 1.0000000e+00],\n",
       "       [1.1923624e-02, 4.3197232e-04, 9.8764437e-01],\n",
       "       ...,\n",
       "       [1.0000000e+00, 0.0000000e+00, 0.0000000e+00],\n",
       "       [5.2214712e-01, 1.8164328e-01, 2.9620963e-01],\n",
       "       [8.1604582e-01, 1.8394987e-01, 4.3246523e-06]], dtype=float32)"
      ]
     },
     "execution_count": 26,
     "metadata": {},
     "output_type": "execute_result"
    }
   ],
   "source": [
    "predict"
   ]
  },
  {
   "cell_type": "code",
   "execution_count": 28,
   "metadata": {},
   "outputs": [],
   "source": [
    "class ImageDataGenerator1(object):\n",
    "    def __init__(self):\n",
    "        self.reset()\n",
    "\n",
    "    def reset(self):\n",
    "        self.images = []\n",
    "        self.labels = []\n",
    "        self.labelsx = []\n",
    "    #file_pathはメタCSVでーたのこと\n",
    "    def flow_from_directory(self, file_path, classes, batch_size=8):\n",
    "        blunc=np.empty((batch_size, 2048, 2048, 3), np.float32)\n",
    "        blunc_l=np.empty((batch_size), np.float32)\n",
    "        # LabelEncode(classをint型に変換)するためのdict\\n\",\n",
    "        classes = {v: i for i, v in enumerate(sorted(classes))}\n",
    "        file_path = pd.read_csv(file_path)\n",
    "        boss_dir = \"/mnt/Doc\"\n",
    "        while True:\n",
    "            # ディレクトリから画像のパスを取り出す\n",
    "            count = 0\n",
    "            for i in range(len(file_path)):\n",
    "                # 画像を読み込みRGBへの変換、Numpyへの変換を行い、配列(self.iamges)に格納\n",
    "                path = file_path.loc[i][\"path1\"]\n",
    "                #print(i)\n",
    "\n",
    "                #with Image.open(path) as f:\n",
    "                    #self.images.append((np.asarray(f.convert('RGB'), dtype=np.float32))/255)\n",
    "                \n",
    "                # ファイル名からラベルを取り出し、配列(self.labels)に格納\n",
    "                #_, y = path.stem.split('_')\n",
    "                label = file_path.loc[i][\"type\"]\n",
    "                #self.labels.append(to_categorical(classes[label],len(classes)))\n",
    "                self.labelsx.append(to_categorical(classes[label],len(classes)))\n",
    "                # ここまでを繰り返し行い、batch_sizeの数だけ配列(self.iamges, self.labels)に格納\n",
    "                # batch_sizeの数だけ格納されたら、戻り値として返し、配列(self.iamges, self.labels)を空にする\n",
    "                    #print(len(self.images))\n",
    "                #inputs = np.asarray(self.images,dtype=np.float32) \n",
    "                targets = np.asarray(self.labelsx,dtype=np.float32)\n",
    "                    #print(len(self.images))\n",
    "                count+=1\n",
    "                    #if count%1000==0:\n",
    "                        #print(\"n*1000!\")\n",
    "            return targets\n",
    "                    "
   ]
  },
  {
   "cell_type": "code",
   "execution_count": 31,
   "metadata": {},
   "outputs": [],
   "source": [
    "test_path = \"/mnt/Doc/2048pix_tissue_all/data_Split_08_01_01/test_400.csv\"\n",
    "test_datagen = ImageDataGenerator1()\n",
    "x = test_datagen.flow_from_directory(test_dir,classes)"
   ]
  },
  {
   "cell_type": "code",
   "execution_count": 33,
   "metadata": {},
   "outputs": [
    {
     "data": {
      "text/plain": [
       "400"
      ]
     },
     "execution_count": 33,
     "metadata": {},
     "output_type": "execute_result"
    }
   ],
   "source": [
    "len(x)"
   ]
  },
  {
   "cell_type": "code",
   "execution_count": 40,
   "metadata": {},
   "outputs": [
    {
     "data": {
      "text/plain": [
       "<tf.Tensor 'Cast_1:0' shape=(400,) dtype=float32>"
      ]
     },
     "execution_count": 40,
     "metadata": {},
     "output_type": "execute_result"
    }
   ],
   "source": []
  },
  {
   "cell_type": "code",
   "execution_count": null,
   "metadata": {},
   "outputs": [],
   "source": [
    "validation_data=test_datagen.flow_from_directory(test_dir, classes),\n",
    "    validation_steps=120/batchsize,\n",
    "    callbacks = [modelCheckpoint]"
   ]
  }
 ],
 "metadata": {
  "kernelspec": {
   "display_name": "Python 3",
   "language": "python",
   "name": "python3"
  },
  "language_info": {
   "codemirror_mode": {
    "name": "ipython",
    "version": 3
   },
   "file_extension": ".py",
   "mimetype": "text/x-python",
   "name": "python",
   "nbconvert_exporter": "python",
   "pygments_lexer": "ipython3",
   "version": "3.5.2"
  }
 },
 "nbformat": 4,
 "nbformat_minor": 2
}
