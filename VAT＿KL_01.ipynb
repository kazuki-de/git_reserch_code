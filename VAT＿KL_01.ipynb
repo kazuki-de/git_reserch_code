{
  "nbformat": 4,
  "nbformat_minor": 0,
  "metadata": {
    "colab": {
      "name": "VAT＿KL.ipynb",
      "version": "0.3.2",
      "provenance": [],
      "collapsed_sections": [],
      "include_colab_link": true
    },
    "kernelspec": {
      "name": "python3",
      "display_name": "Python 3"
    },
    "accelerator": "GPU"
  },
  "cells": [
    {
      "cell_type": "markdown",
      "metadata": {
        "id": "view-in-github",
        "colab_type": "text"
      },
      "source": [
        "<a href=\"https://colab.research.google.com/github/kazuki-de/git_reserch_code/blob/master/VAT%EF%BC%BFKL_01.ipynb\" target=\"_parent\"><img src=\"https://colab.research.google.com/assets/colab-badge.svg\" alt=\"Open In Colab\"/></a>"
      ]
    },
    {
      "cell_type": "code",
      "metadata": {
        "id": "wCE3_56QPtXM",
        "colab_type": "code",
        "colab": {}
      },
      "source": [
        "from __future__ import absolute_import, division, print_function, unicode_literals\n",
        "\n",
        "!pip install -q tensorflow-gpu==2.0.0-beta1\n",
        "import tensorflow as tf\n",
        "\n",
        "from tensorflow.keras.layers import Dense, Flatten, Conv2D, Activation , Softmax, MaxPooling2D,GlobalAveragePooling2D, Dropout, BatchNormalization\n",
        "\n",
        "\n",
        "from tensorflow.keras import Model\n",
        "import datetime\n",
        "import tensorflow_probability as tfp"
      ],
      "execution_count": 0,
      "outputs": []
    },
    {
      "cell_type": "code",
      "metadata": {
        "id": "BJ2-Q4obUMWE",
        "colab_type": "code",
        "outputId": "d928c366-2c8d-46da-96e4-e9ced2ceea21",
        "colab": {
          "base_uri": "https://localhost:8080/",
          "height": 122
        }
      },
      "source": [
        "from google.colab import drive\n",
        "drive.mount(\"/content/drive\")\n"
      ],
      "execution_count": 2,
      "outputs": [
        {
          "output_type": "stream",
          "text": [
            "Go to this URL in a browser: https://accounts.google.com/o/oauth2/auth?client_id=947318989803-6bn6qk8qdgf4n4g3pfee6491hc0brc4i.apps.googleusercontent.com&redirect_uri=urn%3Aietf%3Awg%3Aoauth%3A2.0%3Aoob&scope=email%20https%3A%2F%2Fwww.googleapis.com%2Fauth%2Fdocs.test%20https%3A%2F%2Fwww.googleapis.com%2Fauth%2Fdrive%20https%3A%2F%2Fwww.googleapis.com%2Fauth%2Fdrive.photos.readonly%20https%3A%2F%2Fwww.googleapis.com%2Fauth%2Fpeopleapi.readonly&response_type=code\n",
            "\n",
            "Enter your authorization code:\n",
            "··········\n",
            "Mounted at /content/drive\n"
          ],
          "name": "stdout"
        }
      ]
    },
    {
      "cell_type": "code",
      "metadata": {
        "id": "Bwzy9HdeopwE",
        "colab_type": "code",
        "colab": {}
      },
      "source": [
        "# Load the TensorBoard notebook extension\n",
        "%load_ext tensorboard"
      ],
      "execution_count": 0,
      "outputs": []
    },
    {
      "cell_type": "code",
      "metadata": {
        "id": "xVWUb5FH3xsE",
        "colab_type": "code",
        "outputId": "def738bf-a9be-453b-abf2-bbaabefd48b7",
        "colab": {
          "base_uri": "https://localhost:8080/",
          "height": 34
        }
      },
      "source": [
        "cd  drive/My Drive/logs"
      ],
      "execution_count": 4,
      "outputs": [
        {
          "output_type": "stream",
          "text": [
            "/content/drive/My Drive/logs\n"
          ],
          "name": "stdout"
        }
      ]
    },
    {
      "cell_type": "code",
      "metadata": {
        "id": "jx3PxvdVSt5X",
        "colab_type": "code",
        "colab": {}
      },
      "source": [
        "current_time = datetime.datetime.now().strftime(\"%Y%m%d-%H%M%S\")\n",
        "train_log_dir = 'logs/gradient_tape/' + current_time + '/train'\n",
        "test_log_dir = 'logs/gradient_tape/' + current_time + '/test'\n",
        "train_summary_writer = tf.summary.create_file_writer(train_log_dir)\n",
        "test_summary_writer = tf.summary.create_file_writer(test_log_dir)\n",
        "tensorboard_callback = tf.keras.callbacks.TensorBoard(log_dir=\"/content/drive/My Drive/logs/gradient_tape\", histogram_freq=1)"
      ],
      "execution_count": 0,
      "outputs": []
    },
    {
      "cell_type": "code",
      "metadata": {
        "id": "64xfXzIRPucv",
        "colab_type": "code",
        "colab": {}
      },
      "source": [
        "cifar10 = tf.keras.datasets.cifar10\n",
        "mnist = tf.keras.datasets.mnist\n",
        "\n",
        "(x_train, y_train), (x_test, y_test) = mnist.load_data()\n",
        "x_train = x_train.astype('float32')\n",
        "x_test = x_test.astype('float32')\n",
        "x_train, x_test = x_train / 255.0, x_test / 255.0\n",
        "\n",
        "\n",
        "\n",
        "# Add a channels dimension\n",
        "x_train = x_train[..., tf.newaxis]\n",
        "x_test = x_test[..., tf.newaxis]\n"
      ],
      "execution_count": 0,
      "outputs": []
    },
    {
      "cell_type": "code",
      "metadata": {
        "id": "A81d2KwCGdNA",
        "colab_type": "code",
        "colab": {}
      },
      "source": [
        "#ラベルのカテゴリカル化\n",
        "y_train = tf.keras.utils.to_categorical(y_train)\n",
        "y_test = tf.keras.utils.to_categorical(y_test)"
      ],
      "execution_count": 0,
      "outputs": []
    },
    {
      "cell_type": "code",
      "metadata": {
        "id": "MZ9so2oMPuz0",
        "colab_type": "code",
        "colab": {}
      },
      "source": [
        "train_ds = tf.data.Dataset.from_tensor_slices(\n",
        "    (x_train, y_train)).shuffle(10000).batch(32)\n",
        "test_ds = tf.data.Dataset.from_tensor_slices((x_test, y_test)).batch(32)"
      ],
      "execution_count": 0,
      "outputs": []
    },
    {
      "cell_type": "code",
      "metadata": {
        "id": "IR3MW_ydk2iP",
        "colab_type": "code",
        "colab": {
          "base_uri": "https://localhost:8080/",
          "height": 34
        },
        "outputId": "57414c2b-5351-4fa3-b812-391a19c8c047"
      },
      "source": [
        ""
      ],
      "execution_count": 102,
      "outputs": [
        {
          "output_type": "execute_result",
          "data": {
            "text/plain": [
              "<BatchDataset shapes: ((None, 32, 32, 3), (None, 10)), types: (tf.float32, tf.float32)>"
            ]
          },
          "metadata": {
            "tags": []
          },
          "execution_count": 102
        }
      ]
    },
    {
      "cell_type": "code",
      "metadata": {
        "id": "ngCop5l7PvIs",
        "colab_type": "code",
        "colab": {}
      },
      "source": [
        "class MyModel(Model):\n",
        "    def __init__(self):\n",
        "        super(MyModel, self).__init__()\n",
        "        self.conv1 = Conv2D(64, (3,3), padding=\"same\", activation='relu')\n",
        "        self.conv1_2 = Conv2D(64, (3,3), padding=\"same\", activation='relu')\n",
        "        self.maxpooling1 = MaxPooling2D()\n",
        "        \n",
        "        \n",
        "        self.conv2 = Conv2D(128, (3,3), padding=\"same\", activation='relu')\n",
        "        self.conv2_2 = Conv2D(128, (3,3), padding=\"same\", activation='relu')\n",
        "        self.conv2_3 = Conv2D(128, (3,3), padding=\"same\", activation='relu')\n",
        "        self.maxpooling2 = MaxPooling2D()\n",
        "        \n",
        "        self.conv3 = Conv2D(256,(3,3), padding=\"same\",activation=\"relu\")\n",
        "        self.conv3_2 = Conv2D(256,(3,3), padding=\"same\",activation=\"relu\")\n",
        "        self.conv3_3 = Conv2D(256,(3,3), padding=\"same\",activation=\"relu\")\n",
        "        self.conv3_4 = Conv2D(256,(3,3), padding=\"same\",activation=\"relu\")\n",
        "        self.conv3_5 = Conv2D(256,(3,3), padding=\"same\",activation=\"relu\")\n",
        "        self.maxpooling3 = MaxPooling2D()\n",
        "        \n",
        "        self.conv4 = Conv2D(512,(3,3), padding=\"same\",activation=\"relu\")\n",
        "        self.conv4_2 = Conv2D(512,(3,3), padding=\"same\",activation=\"relu\")\n",
        "        \n",
        "        \n",
        "        self.flatten = Flatten()\n",
        "        self.d1_1 = Dense(1024, activation=\"relu\")\n",
        "        self.d1_2 = Dense(1024, activation='relu')\n",
        "        \n",
        "        self.d2 = Dense(10)\n",
        "        self.dropout1 = Dropout(0.25)\n",
        "        self.dropout2 = Dropout(0.5)\n",
        "        \n",
        "        self.GAPooling = GlobalAveragePooling2D()\n",
        "        self.BatchN = BatchNormalization()\n",
        "        self.BatchN_2 = BatchNormalization()\n",
        "        self.BatchN_3 = BatchNormalization()\n",
        "        self.BatchN_4 = BatchNormalization()\n",
        "\n",
        "    def call(self, x):\n",
        "        x = self.conv1(x)\n",
        "        x = self.BatchN(x)\n",
        "        x = self.conv1_2(x)\n",
        "        x = self.maxpooling1(x)\n",
        "        x = self.dropout1(x)\n",
        "        \n",
        "        x = self.conv2(x)\n",
        "        x = self.conv2_2(x)\n",
        "        x = self.BatchN_2(x)\n",
        "        x = self.conv2_3(x)\n",
        "        x = self.maxpooling2(x)\n",
        "        x = self.dropout1(x)\n",
        "        \n",
        "        x = self.conv3(x)\n",
        "        x = self.conv3_2(x)\n",
        "        x = self.BatchN_3(x)\n",
        "        x = self.conv3_3(x)\n",
        "        x = self.conv3_4(x)\n",
        "        x = self.conv3_5(x)\n",
        "        x = self.BatchN_4(x)\n",
        "        \n",
        "        x = self.conv4(x)\n",
        "        x = self.conv4_2(x)\n",
        "        x = self.GAPooling(x)\n",
        "        x = self.d1_1(x)\n",
        "        x = self.dropout2(x)\n",
        "        x = self.d1_2(x)\n",
        "        x = self.dropout2(x)\n",
        "        \n",
        "        return self.d2(x)\n",
        "\n",
        "model = MyModel()"
      ],
      "execution_count": 0,
      "outputs": []
    },
    {
      "cell_type": "code",
      "metadata": {
        "id": "IDscQT4k-IRZ",
        "colab_type": "code",
        "colab": {}
      },
      "source": [
        "class MyModel_2(Model):\n",
        "    def __init__(self):\n",
        "        super(MyModel_2, self).__init__()\n",
        "        self.conv1 = Conv2D(64, (3,3), padding=\"same\", activation='relu')\n",
        "        self.conv1_2 = Conv2D(64, (3,3), padding=\"same\", activation='relu')\n",
        "        self.maxpooling1 = MaxPooling2D()\n",
        "        \n",
        "        \n",
        "        self.conv2 = Conv2D(128, (3,3), padding=\"same\", activation='relu')\n",
        "        self.conv2_2 = Conv2D(128, (3,3), padding=\"same\", activation='relu')\n",
        "        self.conv2_3 = Conv2D(128, (3,3), padding=\"same\", activation='relu')\n",
        "        self.maxpooling2 = MaxPooling2D()\n",
        "        \n",
        "        self.conv3 = Conv2D(256,(3,3), padding=\"same\",activation=\"relu\")\n",
        "        self.conv3_2 = Conv2D(256,(3,3), padding=\"same\",activation=\"relu\")\n",
        "        self.conv3_3 = Conv2D(256,(3,3), padding=\"same\",activation=\"relu\")\n",
        "        self.conv3_4 = Conv2D(256,(3,3), padding=\"same\",activation=\"relu\")\n",
        "        self.conv3_5 = Conv2D(256,(3,3), padding=\"same\",activation=\"relu\")\n",
        "        self.maxpooling3 = MaxPooling2D()\n",
        "        \n",
        "        self.conv4 = Conv2D(512,(3,3), padding=\"same\",activation=\"relu\")\n",
        "        self.conv4_2 = Conv2D(512,(3,3), padding=\"same\",activation=\"relu\")\n",
        "        \n",
        "        \n",
        "        self.flatten = Flatten()\n",
        "        self.d1_1 = Dense(1024, activation=\"relu\")\n",
        "        self.d1_2 = Dense(1024, activation='relu')\n",
        "        \n",
        "        self.d2 = Dense(10)\n",
        "        self.dropout1 = Dropout(0.25)\n",
        "        self.dropout2 = Dropout(0.5)\n",
        "        \n",
        "        self.GAPooling = GlobalAveragePooling2D()\n",
        "        self.BatchN = BatchNormalization()\n",
        "        self.BatchN_2 = BatchNormalization()\n",
        "        self.BatchN_3 = BatchNormalization()\n",
        "        self.BatchN_4 = BatchNormalization()\n",
        "\n",
        "    def call(self, x):\n",
        "        x = self.conv1(x)\n",
        "        x = self.flatten(x)\n",
        "        x = self.d1_2(x)\n",
        "        x = self.dropout2(x)\n",
        "        \n",
        "        return self.d2(x)\n",
        "\n",
        "model = MyModel_2()"
      ],
      "execution_count": 0,
      "outputs": []
    },
    {
      "cell_type": "code",
      "metadata": {
        "id": "SfxRcCuXPvcM",
        "colab_type": "code",
        "colab": {}
      },
      "source": [
        "#損失関数\n",
        "loss_object = tf.keras.losses.CategoricalCrossentropy()\n",
        "#最適化手法\n",
        "optimizer = tf.keras.optimizers.Adam()\n",
        "\n",
        "#評価関数\n",
        "train_loss = tf.keras.metrics.Mean(name='train_loss')\n",
        "train_accuracy = tf.keras.metrics.CategoricalAccuracy(name='train_accuracy')\n",
        "\n",
        "test_loss = tf.keras.metrics.Mean(name='test_loss')\n",
        "test_accuracy = tf.keras.metrics.CategoricalAccuracy(name='test_accuracy')"
      ],
      "execution_count": 0,
      "outputs": []
    },
    {
      "cell_type": "code",
      "metadata": {
        "id": "YH2j2R58SJa4",
        "colab_type": "code",
        "colab": {}
      },
      "source": [
        "def VAT_cifar10(input_tensor, network, xi=1e-6, epsilon=2.0, weight=1.0, num_approximation=1, clip_value_min=1e-30, dtype=tf.float64):\n",
        "    #tf.reduce_sum 配列内の対応した数を足しあわせる\n",
        "    clipped = lambda x: tf.maximum(x, clip_value_min)\n",
        "\n",
        "    axis_without_batch_size = tuple(range(1,len(input_tensor.get_shape())))\n",
        "    if len(axis_without_batch_size) == 1: axis_without_batch_size = axis_without_batch_size[0]\n",
        "    normalized = lambda x: x / clipped(tf.norm(x, axis=None))\n",
        "    plain_softmax = network(input_tensor)\n",
        "    perturbation = xi * normalized(tf.random.normal(shape=tf.shape(input_tensor), dtype=dtype))\n",
        "    for i in range(num_approximation):\n",
        "        softmax_accommodating_perturbation = network(input_tensor+perturbation)\n",
        "        #8/8----------------------------------------------------------------------------------------------------\n",
        "        \n",
        "        cross_entropy_accommodating_perturbation = -tf.reduce_sum(plain_softmax * tf.math.log(clipped(softmax_accommodating_perturbation))) * weight\n",
        "        adversarial_direction = tf.gradients(cross_entropy_accommodating_perturbation, [perturbation])[0]\n",
        "        vat_perturbation = normalized(adversarial_direction)\n",
        "        perturbation = xi * vat_perturbation\n",
        "        \n",
        "        \n",
        "    current_softmax = Activation('softmax')(network(input_tensor)) \n",
        "    current_softmax = tf.stop_gradient(current_softmax)\n",
        "    vat_perturbation = tf.stop_gradient(epsilon * vat_perturbation)\n",
        "    vat_softmax = Activation('softmax')(network(input_tensor + vat_perturbation))\n",
        "    print(current_softmax)\n",
        "    bbb=tf.cast(tf.reduce_sum(weight)+1e-30, tf.float64)\n",
        "    \n",
        "    vat_cross_entropy = tf.reduce_sum(-tf.reduce_sum(current_softmax * tf.math.log(clipped(vat_softmax))) * weight) / bbb\n",
        "    return vat_cross_entropy"
      ],
      "execution_count": 0,
      "outputs": []
    },
    {
      "cell_type": "code",
      "metadata": {
        "id": "5fQKiusK4lfT",
        "colab_type": "code",
        "colab": {}
      },
      "source": [
        "def VAT_mnist(input_tensor, network, xi=1e-6, epsilon=2.0, weight=1.0, num_approximation=1, clip_value_min=1e-30, dtype=tf.float64):\n",
        "    \n",
        "    #配列内の数値の最大値が最大第二変数になるように置き換える\n",
        "    clipped = lambda x: tf.maximum(x, clip_value_min)\n",
        "    #axis_without_batch_size は (1,2,3)となる\n",
        "    axis_without_batch_size = tuple(range(1,len(input_tensor.get_shape())))\n",
        "    \n",
        "    if len(axis_without_batch_size) == 1:\n",
        "        axis_without_batch_size = axis_without_batch_size[0]\n",
        "        \n",
        "    #normalized = lambda x: x / clipped(tf.norm(x, axis=None))\n",
        "    normalized = lambda x: x / clipped(tf.norm(x, axis=None,keepdims=True))\n",
        "    \n",
        "    plain_softmax = network(input_tensor)\n",
        "    perturbation = xi * normalized(tf.random.normal(shape=tf.shape(input_tensor), dtype=dtype))\n",
        "    for i in range(num_approximation):\n",
        "        softmax_accommodating_perturbation = network(input_tensor+perturbation)\n",
        "        #8/8----------------------------------------------------------------------------------------------------\n",
        "         #tf.reduce_sum それぞれの配列内に対応した数を足しあわせる\n",
        "        cross_entropy_accommodating_perturbation = -tf.reduce_sum(plain_softmax * tf.math.log(clipped(softmax_accommodating_perturbation))) * weight\n",
        "        print(cross_entropy_accommodating_perturbation)\n",
        "        adversarial_direction = tf.gradients(cross_entropy_accommodating_perturbation, [perturbation])[0]\n",
        "        vat_perturbation = normalized(adversarial_direction)\n",
        "        perturbation = xi * vat_perturbation\n",
        "        \n",
        "        \n",
        "    current_softmax = Activation('softmax')(network(input_tensor)) \n",
        "    current_softmax = tf.stop_gradient(current_softmax)\n",
        "    vat_perturbation = tf.stop_gradient(epsilon * perturbation)\n",
        "    vat_softmax = Activation('softmax')(network(input_tensor + perturbation))\n",
        "    #print(current_softmax)\n",
        "    bbb=tf.cast(tf.reduce_sum(weight)+1e-30, tf.float64)\n",
        "    \n",
        "    vat_cross_entropy = tf.reduce_sum(-tf.reduce_sum(current_softmax * tf.math.log(clipped(vat_softmax))) * weight) / bbb\n",
        "    return vat_cross_entropy"
      ],
      "execution_count": 0,
      "outputs": []
    },
    {
      "cell_type": "code",
      "metadata": {
        "id": "xlJtKllpOtkb",
        "colab_type": "code",
        "colab": {}
      },
      "source": [
        "def kl_divergence(q_logit, p_logit):\n",
        "    qlogq = tf.reduce_mean(tf.reduce_sum(q_logit * tf.math.log(q_logit), 1))\n",
        "    qlogp = tf.reduce_mean(tf.reduce_sum(q_logit * tf.math.log(p_logit), 1))\n",
        "    return qlogq - qlogp"
      ],
      "execution_count": 0,
      "outputs": []
    },
    {
      "cell_type": "code",
      "metadata": {
        "id": "RDJqz-OfJLkm",
        "colab_type": "code",
        "colab": {}
      },
      "source": [
        "def VAT_KL(input_tensor, network, xi=10, epsilon=1.0, weight=1.0, num_approximation=1, clip_value_min=1e-30, dtype=tf.float32):\n",
        "    \n",
        "    #配列内の数値の最大値が第二変数になるように置き換える\n",
        "    clipped = lambda x: tf.maximum(x, clip_value_min)\n",
        "    #axis_without_batch_size は (1,2,3)となる\n",
        "    #axis_without_batch_size = tuple(range(1,len(input_tensor.get_shape())))\n",
        "    \n",
        "    #if len(axis_without_batch_size) == 1:\n",
        "    #    axis_without_batch_size = axis_without_batch_size[0]\n",
        "        \n",
        "    #normalized = lambda x: x / clipped(tf.norm(x, axis=None))\n",
        "    normalized = lambda x: x / clipped(tf.norm(x, axis=None,keepdims=True))\n",
        "    \n",
        "    plain_softmax = network(input_tensor)\n",
        "    \n",
        "    noplain_softmax = Activation(\"softmax\")(plain_softmax)\n",
        "    \n",
        "    #適当な単位ベクトルにxi=10を掛けた数:pertubationの作成\n",
        "    perturbation = xi * normalized(tf.random.normal(shape=tf.shape(input_tensor), dtype=dtype))\n",
        "    \n",
        "    \n",
        "    for i in range(num_approximation):\n",
        "        \n",
        "        softmax_accommodating_perturbation = network(input_tensor+perturbation)\n",
        "        softmax_accommodating_perturbation_af = Activation(\"softmax\")(softmax_accommodating_perturbation)\n",
        "        # ノイズを足した配列とノーマルな配列がCNNで出力された結果のKL距離を求める\n",
        "        dist = kl_divergence(noplain_softmax,softmax_accommodating_perturbation_af)\n",
        "        #cross_entropy_accommodating_perturbation = -tf.reduce_sum(plain_softmax * tf.math.log(clipped(softmax_accommodating_perturbation))) * weight\n",
        "        adversarial_direction = tf.gradients(dist, [perturbation])[0]\n",
        "        pertubation = tf.stop_gradient(adversarial_direction)\n",
        "    print(\"ok\")    \n",
        "    pertubation = epsilon * normalized(pertubation)\n",
        "    corrent_softmax = Activation('softmax')(network(input_tensor)) \n",
        "    vat_softmax = Activation('softmax')(network(input_tensor + perturbation))\n",
        "    loss = kl_divergence(corrent_softmax,vat_softmax)\n",
        "    return loss\n",
        "        "
      ],
      "execution_count": 0,
      "outputs": []
    },
    {
      "cell_type": "code",
      "metadata": {
        "id": "olvRqss-Pvu7",
        "colab_type": "code",
        "colab": {}
      },
      "source": [
        "@tf.function\n",
        "def train_step(image, label):\n",
        "    with tf.GradientTape() as tape:\n",
        "        predictions = model(image)\n",
        "        softmax = Activation('softmax')(predictions)\n",
        "        loss = loss_object(label, softmax)\n",
        "        print(\"ok\")\n",
        "        VAT_loss = VAT_KL(image,model)\n",
        "        loss_add = loss + VAT_loss\n",
        "    gradients = tape.gradient(loss, model.trainable_variables)\n",
        "    optimizer.apply_gradients(zip(gradients, model.trainable_variables))\n",
        "\n",
        "    train_loss(loss)\n",
        "    train_accuracy(label, softmax)\n",
        "\n",
        "\n",
        "@tf.function\n",
        "def test_step(image, label):\n",
        "    predictions = model(image)\n",
        "    softmax = Activation('softmax')(predictions)\n",
        "    t_loss = loss_object(label, softmax)\n",
        "\n",
        "    test_loss(t_loss)\n",
        "    test_accuracy(label, softmax)\n",
        "\n"
      ],
      "execution_count": 0,
      "outputs": []
    },
    {
      "cell_type": "code",
      "metadata": {
        "id": "VNlKJ8hfPwCM",
        "colab_type": "code",
        "outputId": "29fb75a3-3cf9-480e-9a1c-c5702483d8b7",
        "colab": {
          "base_uri": "https://localhost:8080/",
          "height": 481
        }
      },
      "source": [
        "import time\n",
        "EPOCHS = 200\n",
        "model = MyModel()\n",
        "\n",
        "for epoch in range(EPOCHS):\n",
        "    start = time.time()\n",
        "    for image, label in train_ds:\n",
        "        train_step(image, label)\n",
        "        \n",
        "    #with train_summary_writer.as_default():\n",
        "        #tf.summary.scalar('loss', train_loss.result(), step=epoch)\n",
        "        #tf.summary.scalar('accuracy', train_accuracy.result(), step=epoch)\n",
        "    \n",
        "    \n",
        "    for test_image, test_label in test_ds:\n",
        "        test_step(test_image, test_label)\n",
        "    #with test_summary_writer.as_default():\n",
        "        #tf.summary.scalar('loss', test_loss.result(), step=epoch)\n",
        "        #tf.summary.scalar('accuracy', test_accuracy.result(), step=epoch)\n",
        "    elapsed_time = time.time()-start\n",
        "    template = 'Epoch {}, Loss: {}, Accuracy: {}, Test Loss: {}, Test Accuracy: {}'\n",
        "    print (template.format(epoch+1,\n",
        "                         train_loss.result(),\n",
        "                         train_accuracy.result()*100,\n",
        "                         test_loss.result(),\n",
        "                         test_accuracy.result()*100)\n",
        "                         )\n",
        "    print(elapsed_time)\n",
        "    \n",
        "train_loss.reset_states()\n",
        "test_loss.reset_states()\n",
        "train_accuracy.reset_states()\n",
        "test_accuracy.reset_states()"
      ],
      "execution_count": 108,
      "outputs": [
        {
          "output_type": "stream",
          "text": [
            "Epoch 1, Loss: 0.06258056312799454, Accuracy: 98.0875015258789, Test Loss: 0.05464131012558937, Test Accuracy: 98.29000091552734\n",
            "17.336491346359253\n",
            "Epoch 2, Loss: 0.04805632680654526, Accuracy: 98.51944732666016, Test Loss: 0.0547214038670063, Test Accuracy: 98.3566665649414\n",
            "17.302776336669922\n",
            "Epoch 3, Loss: 0.03951670229434967, Accuracy: 98.77708435058594, Test Loss: 0.05920248106122017, Test Accuracy: 98.38999938964844\n",
            "17.34789752960205\n"
          ],
          "name": "stdout"
        },
        {
          "output_type": "error",
          "ename": "KeyboardInterrupt",
          "evalue": "ignored",
          "traceback": [
            "\u001b[0;31m---------------------------------------------------------------------------\u001b[0m",
            "\u001b[0;31mKeyboardInterrupt\u001b[0m                         Traceback (most recent call last)",
            "\u001b[0;32m<ipython-input-108-6b93e0a44611>\u001b[0m in \u001b[0;36m<module>\u001b[0;34m()\u001b[0m\n\u001b[1;32m      6\u001b[0m     \u001b[0mstart\u001b[0m \u001b[0;34m=\u001b[0m \u001b[0mtime\u001b[0m\u001b[0;34m.\u001b[0m\u001b[0mtime\u001b[0m\u001b[0;34m(\u001b[0m\u001b[0;34m)\u001b[0m\u001b[0;34m\u001b[0m\u001b[0;34m\u001b[0m\u001b[0m\n\u001b[1;32m      7\u001b[0m     \u001b[0;32mfor\u001b[0m \u001b[0mimage\u001b[0m\u001b[0;34m,\u001b[0m \u001b[0mlabel\u001b[0m \u001b[0;32min\u001b[0m \u001b[0mtrain_ds\u001b[0m\u001b[0;34m:\u001b[0m\u001b[0;34m\u001b[0m\u001b[0;34m\u001b[0m\u001b[0m\n\u001b[0;32m----> 8\u001b[0;31m         \u001b[0mtrain_step\u001b[0m\u001b[0;34m(\u001b[0m\u001b[0mimage\u001b[0m\u001b[0;34m,\u001b[0m \u001b[0mlabel\u001b[0m\u001b[0;34m)\u001b[0m\u001b[0;34m\u001b[0m\u001b[0;34m\u001b[0m\u001b[0m\n\u001b[0m\u001b[1;32m      9\u001b[0m \u001b[0;34m\u001b[0m\u001b[0m\n\u001b[1;32m     10\u001b[0m     \u001b[0;31m#with train_summary_writer.as_default():\u001b[0m\u001b[0;34m\u001b[0m\u001b[0;34m\u001b[0m\u001b[0;34m\u001b[0m\u001b[0m\n",
            "\u001b[0;32m/usr/local/lib/python3.6/dist-packages/tensorflow/python/eager/def_function.py\u001b[0m in \u001b[0;36m__call__\u001b[0;34m(self, *args, **kwds)\u001b[0m\n\u001b[1;32m    402\u001b[0m       \u001b[0;31m# In this case we have created variables on the first call, so we run the\u001b[0m\u001b[0;34m\u001b[0m\u001b[0;34m\u001b[0m\u001b[0;34m\u001b[0m\u001b[0m\n\u001b[1;32m    403\u001b[0m       \u001b[0;31m# defunned version which is guaranteed to never create variables.\u001b[0m\u001b[0;34m\u001b[0m\u001b[0;34m\u001b[0m\u001b[0;34m\u001b[0m\u001b[0m\n\u001b[0;32m--> 404\u001b[0;31m       \u001b[0;32mreturn\u001b[0m \u001b[0mself\u001b[0m\u001b[0;34m.\u001b[0m\u001b[0m_stateless_fn\u001b[0m\u001b[0;34m(\u001b[0m\u001b[0;34m*\u001b[0m\u001b[0margs\u001b[0m\u001b[0;34m,\u001b[0m \u001b[0;34m**\u001b[0m\u001b[0mkwds\u001b[0m\u001b[0;34m)\u001b[0m  \u001b[0;31m# pylint: disable=not-callable\u001b[0m\u001b[0;34m\u001b[0m\u001b[0;34m\u001b[0m\u001b[0m\n\u001b[0m\u001b[1;32m    405\u001b[0m     \u001b[0;32melif\u001b[0m \u001b[0mself\u001b[0m\u001b[0;34m.\u001b[0m\u001b[0m_stateful_fn\u001b[0m \u001b[0;32mis\u001b[0m \u001b[0;32mnot\u001b[0m \u001b[0;32mNone\u001b[0m\u001b[0;34m:\u001b[0m\u001b[0;34m\u001b[0m\u001b[0;34m\u001b[0m\u001b[0m\n\u001b[1;32m    406\u001b[0m       \u001b[0;31m# In this case we have not created variables on the first call. So we can\u001b[0m\u001b[0;34m\u001b[0m\u001b[0;34m\u001b[0m\u001b[0;34m\u001b[0m\u001b[0m\n",
            "\u001b[0;32m/usr/local/lib/python3.6/dist-packages/tensorflow/python/eager/function.py\u001b[0m in \u001b[0;36m__call__\u001b[0;34m(self, *args, **kwargs)\u001b[0m\n\u001b[1;32m   1333\u001b[0m     \u001b[0;34m\"\"\"Calls a graph function specialized to the inputs.\"\"\"\u001b[0m\u001b[0;34m\u001b[0m\u001b[0;34m\u001b[0m\u001b[0m\n\u001b[1;32m   1334\u001b[0m     \u001b[0mgraph_function\u001b[0m\u001b[0;34m,\u001b[0m \u001b[0margs\u001b[0m\u001b[0;34m,\u001b[0m \u001b[0mkwargs\u001b[0m \u001b[0;34m=\u001b[0m \u001b[0mself\u001b[0m\u001b[0;34m.\u001b[0m\u001b[0m_maybe_define_function\u001b[0m\u001b[0;34m(\u001b[0m\u001b[0margs\u001b[0m\u001b[0;34m,\u001b[0m \u001b[0mkwargs\u001b[0m\u001b[0;34m)\u001b[0m\u001b[0;34m\u001b[0m\u001b[0;34m\u001b[0m\u001b[0m\n\u001b[0;32m-> 1335\u001b[0;31m     \u001b[0;32mreturn\u001b[0m \u001b[0mgraph_function\u001b[0m\u001b[0;34m.\u001b[0m\u001b[0m_filtered_call\u001b[0m\u001b[0;34m(\u001b[0m\u001b[0margs\u001b[0m\u001b[0;34m,\u001b[0m \u001b[0mkwargs\u001b[0m\u001b[0;34m)\u001b[0m  \u001b[0;31m# pylint: disable=protected-access\u001b[0m\u001b[0;34m\u001b[0m\u001b[0;34m\u001b[0m\u001b[0m\n\u001b[0m\u001b[1;32m   1336\u001b[0m \u001b[0;34m\u001b[0m\u001b[0m\n\u001b[1;32m   1337\u001b[0m   \u001b[0;34m@\u001b[0m\u001b[0mproperty\u001b[0m\u001b[0;34m\u001b[0m\u001b[0;34m\u001b[0m\u001b[0m\n",
            "\u001b[0;32m/usr/local/lib/python3.6/dist-packages/tensorflow/python/eager/function.py\u001b[0m in \u001b[0;36m_filtered_call\u001b[0;34m(self, args, kwargs)\u001b[0m\n\u001b[1;32m    587\u001b[0m     \"\"\"\n\u001b[1;32m    588\u001b[0m     return self._call_flat(\n\u001b[0;32m--> 589\u001b[0;31m         (t for t in nest.flatten((args, kwargs), expand_composites=True)\n\u001b[0m\u001b[1;32m    590\u001b[0m          if isinstance(t, (ops.Tensor,\n\u001b[1;32m    591\u001b[0m                            resource_variable_ops.ResourceVariable))))\n",
            "\u001b[0;32m/usr/local/lib/python3.6/dist-packages/tensorflow/python/eager/function.py\u001b[0m in \u001b[0;36m_call_flat\u001b[0;34m(self, args)\u001b[0m\n\u001b[1;32m    669\u001b[0m     \u001b[0;31m# Only need to override the gradient in graph mode and when we have outputs.\u001b[0m\u001b[0;34m\u001b[0m\u001b[0;34m\u001b[0m\u001b[0;34m\u001b[0m\u001b[0m\n\u001b[1;32m    670\u001b[0m     \u001b[0;32mif\u001b[0m \u001b[0mcontext\u001b[0m\u001b[0;34m.\u001b[0m\u001b[0mexecuting_eagerly\u001b[0m\u001b[0;34m(\u001b[0m\u001b[0;34m)\u001b[0m \u001b[0;32mor\u001b[0m \u001b[0;32mnot\u001b[0m \u001b[0mself\u001b[0m\u001b[0;34m.\u001b[0m\u001b[0moutputs\u001b[0m\u001b[0;34m:\u001b[0m\u001b[0;34m\u001b[0m\u001b[0;34m\u001b[0m\u001b[0m\n\u001b[0;32m--> 671\u001b[0;31m       \u001b[0moutputs\u001b[0m \u001b[0;34m=\u001b[0m \u001b[0mself\u001b[0m\u001b[0;34m.\u001b[0m\u001b[0m_inference_function\u001b[0m\u001b[0;34m.\u001b[0m\u001b[0mcall\u001b[0m\u001b[0;34m(\u001b[0m\u001b[0mctx\u001b[0m\u001b[0;34m,\u001b[0m \u001b[0margs\u001b[0m\u001b[0;34m)\u001b[0m\u001b[0;34m\u001b[0m\u001b[0;34m\u001b[0m\u001b[0m\n\u001b[0m\u001b[1;32m    672\u001b[0m     \u001b[0;32melse\u001b[0m\u001b[0;34m:\u001b[0m\u001b[0;34m\u001b[0m\u001b[0;34m\u001b[0m\u001b[0m\n\u001b[1;32m    673\u001b[0m       \u001b[0mself\u001b[0m\u001b[0;34m.\u001b[0m\u001b[0m_register_gradient\u001b[0m\u001b[0;34m(\u001b[0m\u001b[0;34m)\u001b[0m\u001b[0;34m\u001b[0m\u001b[0;34m\u001b[0m\u001b[0m\n",
            "\u001b[0;32m/usr/local/lib/python3.6/dist-packages/tensorflow/python/eager/function.py\u001b[0m in \u001b[0;36mcall\u001b[0;34m(self, ctx, args)\u001b[0m\n\u001b[1;32m    443\u001b[0m             attrs=(\"executor_type\", executor_type,\n\u001b[1;32m    444\u001b[0m                    \"config_proto\", config),\n\u001b[0;32m--> 445\u001b[0;31m             ctx=ctx)\n\u001b[0m\u001b[1;32m    446\u001b[0m       \u001b[0;31m# Replace empty list with None\u001b[0m\u001b[0;34m\u001b[0m\u001b[0;34m\u001b[0m\u001b[0;34m\u001b[0m\u001b[0m\n\u001b[1;32m    447\u001b[0m       \u001b[0moutputs\u001b[0m \u001b[0;34m=\u001b[0m \u001b[0moutputs\u001b[0m \u001b[0;32mor\u001b[0m \u001b[0;32mNone\u001b[0m\u001b[0;34m\u001b[0m\u001b[0;34m\u001b[0m\u001b[0m\n",
            "\u001b[0;32m/usr/local/lib/python3.6/dist-packages/tensorflow/python/eager/execute.py\u001b[0m in \u001b[0;36mquick_execute\u001b[0;34m(op_name, num_outputs, inputs, attrs, ctx, name)\u001b[0m\n\u001b[1;32m     59\u001b[0m     tensors = pywrap_tensorflow.TFE_Py_Execute(ctx._handle, device_name,\n\u001b[1;32m     60\u001b[0m                                                \u001b[0mop_name\u001b[0m\u001b[0;34m,\u001b[0m \u001b[0minputs\u001b[0m\u001b[0;34m,\u001b[0m \u001b[0mattrs\u001b[0m\u001b[0;34m,\u001b[0m\u001b[0;34m\u001b[0m\u001b[0;34m\u001b[0m\u001b[0m\n\u001b[0;32m---> 61\u001b[0;31m                                                num_outputs)\n\u001b[0m\u001b[1;32m     62\u001b[0m   \u001b[0;32mexcept\u001b[0m \u001b[0mcore\u001b[0m\u001b[0;34m.\u001b[0m\u001b[0m_NotOkStatusException\u001b[0m \u001b[0;32mas\u001b[0m \u001b[0me\u001b[0m\u001b[0;34m:\u001b[0m\u001b[0;34m\u001b[0m\u001b[0;34m\u001b[0m\u001b[0m\n\u001b[1;32m     63\u001b[0m     \u001b[0;32mif\u001b[0m \u001b[0mname\u001b[0m \u001b[0;32mis\u001b[0m \u001b[0;32mnot\u001b[0m \u001b[0;32mNone\u001b[0m\u001b[0;34m:\u001b[0m\u001b[0;34m\u001b[0m\u001b[0;34m\u001b[0m\u001b[0m\n",
            "\u001b[0;31mKeyboardInterrupt\u001b[0m: "
          ]
        }
      ]
    },
    {
      "cell_type": "code",
      "metadata": {
        "id": "oblAAD57_7ID",
        "colab_type": "code",
        "colab": {}
      },
      "source": [
        ""
      ],
      "execution_count": 0,
      "outputs": []
    },
    {
      "cell_type": "code",
      "metadata": {
        "id": "kP2hce1Achbe",
        "colab_type": "code",
        "colab": {}
      },
      "source": [
        "x = tf.norm(x_train[1], axis=None,keepdims=True)\n",
        "x"
      ],
      "execution_count": 0,
      "outputs": []
    },
    {
      "cell_type": "code",
      "metadata": {
        "id": "yy188cnAfX4R",
        "colab_type": "code",
        "colab": {}
      },
      "source": [
        "clipped = lambda x: tf.maximum(x, 1e-30)\n",
        "#axis_without_batch_size は (1,2,3)となる\n",
        "axis_without_batch_size = (1,2,3)\n",
        "\n",
        "if len(axis_without_batch_size) == 1:\n",
        "    axis_without_batch_size = axis_without_batch_size[0]\n",
        "\n",
        "#normalized = lambda x: x / clipped(tf.norm(x, axis=None))\n",
        "normalized = lambda x: x / clipped(tf.norm(x, axis=None))\n",
        "\n",
        "#plain_softmax = network(input_tensor)\n",
        "perturbation = 1* normalized(tf.random.normal(shape=tf.shape(x_train[1:12]), dtype=tf.float32))"
      ],
      "execution_count": 0,
      "outputs": []
    },
    {
      "cell_type": "code",
      "metadata": {
        "id": "9FtVggdO9dZ6",
        "colab_type": "code",
        "outputId": "d6936a02-bd6b-43b3-a312-c92a00a7f554",
        "colab": {
          "base_uri": "https://localhost:8080/",
          "height": 34
        }
      },
      "source": [
        "perturbation[1].shape"
      ],
      "execution_count": 0,
      "outputs": [
        {
          "output_type": "execute_result",
          "data": {
            "text/plain": [
              "TensorShape([28, 28, 1])"
            ]
          },
          "metadata": {
            "tags": []
          },
          "execution_count": 93
        }
      ]
    },
    {
      "cell_type": "code",
      "metadata": {
        "id": "PTduuTITAAx3",
        "colab_type": "code",
        "outputId": "95de8027-bfd3-45be-cfde-a05eb6ab2fc2",
        "colab": {
          "base_uri": "https://localhost:8080/",
          "height": 34
        }
      },
      "source": [
        "x"
      ],
      "execution_count": 0,
      "outputs": [
        {
          "output_type": "execute_result",
          "data": {
            "text/plain": [
              "(1, 2, 3)"
            ]
          },
          "metadata": {
            "tags": []
          },
          "execution_count": 63
        }
      ]
    },
    {
      "cell_type": "code",
      "metadata": {
        "id": "GYN59YBoXjiz",
        "colab_type": "code",
        "outputId": "fd63a03d-e9e3-4ad1-f256-1c1c4a56da7d",
        "colab": {
          "base_uri": "https://localhost:8080/",
          "height": 134
        }
      },
      "source": [
        "#tensorboard --logdir content/drive/My Drive/logs/gradient_tape\n",
        "\n",
        "tensorboard --logdir= /content/drive/My Drive/logs/gradient_tape"
      ],
      "execution_count": 0,
      "outputs": [
        {
          "output_type": "error",
          "ename": "SyntaxError",
          "evalue": "ignored",
          "traceback": [
            "\u001b[0;36m  File \u001b[0;32m\"<ipython-input-73-1710142c159d>\"\u001b[0;36m, line \u001b[0;32m2\u001b[0m\n\u001b[0;31m    tensorboard --logdir= /content/drive/My Drive/logs/gradient_tape/20190808-084736\u001b[0m\n\u001b[0m                          ^\u001b[0m\n\u001b[0;31mSyntaxError\u001b[0m\u001b[0;31m:\u001b[0m invalid syntax\n"
          ]
        }
      ]
    },
    {
      "cell_type": "code",
      "metadata": {
        "id": "Jqqa4R2LQ8t1",
        "colab_type": "code",
        "colab": {}
      },
      "source": [
        "predict = model(x_test)\n",
        "predict1 = tf.argmax(predict,axis=1).numpy()"
      ],
      "execution_count": 0,
      "outputs": []
    },
    {
      "cell_type": "code",
      "metadata": {
        "id": "oSvzkg_zPwU7",
        "colab_type": "code",
        "outputId": "13ad8885-8ebe-455a-da43-0eceaec05248",
        "colab": {
          "base_uri": "https://localhost:8080/",
          "height": 34
        }
      },
      "source": [
        "import numpy as np\n",
        "x = np.array( [] )\n",
        "count = 0\n",
        "count2 = 0\n",
        "\n",
        "for i in range(len(x_train)+1):\n",
        "    if count % 1000 ==0:\n",
        "        g = x_train[count-1000:count]\n",
        "        predict = model(g)\n",
        "        predict1 = tf.argmax(predict,axis=1).numpy()\n",
        "        x = np.append( x, predict1 )\n",
        "    count+=1\n",
        "    if i ==59999:\n",
        "        print(\"ok\")"
      ],
      "execution_count": 0,
      "outputs": [
        {
          "output_type": "stream",
          "text": [
            "ok\n"
          ],
          "name": "stdout"
        }
      ]
    },
    {
      "cell_type": "code",
      "metadata": {
        "id": "T-d2ccbwRTgi",
        "colab_type": "code",
        "outputId": "c3957d7e-88b5-44ce-f45d-bae539c3e368",
        "colab": {
          "base_uri": "https://localhost:8080/",
          "height": 185
        }
      },
      "source": [
        "a = 1\n",
        "a.type()"
      ],
      "execution_count": 0,
      "outputs": [
        {
          "output_type": "error",
          "ename": "AttributeError",
          "evalue": "ignored",
          "traceback": [
            "\u001b[0;31m---------------------------------------------------------------------------\u001b[0m",
            "\u001b[0;31mAttributeError\u001b[0m                            Traceback (most recent call last)",
            "\u001b[0;32m<ipython-input-198-c5baff9fd0fa>\u001b[0m in \u001b[0;36m<module>\u001b[0;34m()\u001b[0m\n\u001b[1;32m      1\u001b[0m \u001b[0ma\u001b[0m \u001b[0;34m=\u001b[0m \u001b[0;36m1\u001b[0m\u001b[0;34m\u001b[0m\u001b[0;34m\u001b[0m\u001b[0m\n\u001b[0;32m----> 2\u001b[0;31m \u001b[0ma\u001b[0m\u001b[0;34m.\u001b[0m\u001b[0mtype\u001b[0m\u001b[0;34m(\u001b[0m\u001b[0;34m)\u001b[0m\u001b[0;34m\u001b[0m\u001b[0;34m\u001b[0m\u001b[0m\n\u001b[0m",
            "\u001b[0;31mAttributeError\u001b[0m: 'int' object has no attribute 'type'"
          ]
        }
      ]
    },
    {
      "cell_type": "code",
      "metadata": {
        "id": "RuMoBwcSlb6p",
        "colab_type": "code",
        "colab": {}
      },
      "source": [
        ""
      ],
      "execution_count": 0,
      "outputs": []
    }
  ]
}