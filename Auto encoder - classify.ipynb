{
 "cells": [
  {
   "cell_type": "code",
   "execution_count": 1,
   "metadata": {},
   "outputs": [
    {
     "name": "stderr",
     "output_type": "stream",
     "text": [
      "Using TensorFlow backend.\n"
     ]
    }
   ],
   "source": [
    "import keras\n",
    "from keras.models import load_model\n",
    "from keras.datasets import cifar10\n",
    "from keras.layers import Input, Dense, Conv2D, MaxPooling2D, UpSampling2D, BatchNormalization, Activation, Flatten, Dropout, GlobalAveragePooling2D\n",
    "from keras.models import Model\n",
    "from keras.callbacks import EarlyStopping, ModelCheckpoint\n",
    "from keras.optimizers import Adam\n",
    "from keras.utils import np_utils\n",
    "import os\n",
    "import pickle\n",
    "import numpy as np\n",
    "import h5py\n",
    "from keras import backend as K\n",
    "from keras.optimizers import SGD\n",
    "from keras.callbacks import LearningRateScheduler"
   ]
  },
  {
   "cell_type": "code",
   "execution_count": 2,
   "metadata": {},
   "outputs": [],
   "source": [
    "train=np.load(\"/mnt/Doc/512pix tissue all/npy/512pix_train_1000_picture.npy\")\n",
    "train_label=np.load(\"/mnt/Doc/512pix tissue all/npy/512pix_train_1000_type.npy\")\n",
    "#test=np.load(\"/mnt/Doc/512pix_to_128pix/npy/128pix_testpicture.npy\")\n",
    "#test_label=np.load(\"/mnt/Doc/512pix_to_128pix/npy/128pix_testtype.npy\")\n",
    "val=np.load(\"/mnt/Doc/512pix tissue all/npy/512pix_val_200_picture.npy\")\n",
    "val_label=np.load(\"/mnt/Doc/512pix tissue all/npy/512pix_val_200_type.npy\")\n",
    "\n",
    "x_train = train.astype('float32')\n",
    "#x_test = test.astype('float32')\n",
    "x_val = val.astype('float32')\n",
    "x_train /= 255\n",
    "#x_test /= 255\n",
    "x_val /=255\n",
    "del train \n",
    "#del test\n",
    "del val"
   ]
  },
  {
   "cell_type": "code",
   "execution_count": 3,
   "metadata": {},
   "outputs": [
    {
     "name": "stdout",
     "output_type": "stream",
     "text": [
      "x_train shape: (9000, 128, 128, 3)\n",
      "9000 train samples\n",
      "1500 test samples\n",
      "1500 val samples\n"
     ]
    }
   ],
   "source": [
    "print('x_train shape:', x_train.shape)\n",
    "print(x_train.shape[0], 'train samples')\n",
    "print(x_test.shape[0], 'test samples')\n",
    "print(x_val.shape[0], 'val samples')"
   ]
  },
  {
   "cell_type": "code",
   "execution_count": 5,
   "metadata": {},
   "outputs": [],
   "source": [
    "# divide x_test into validation and test\n",
    "#x_val = x_test[:900]\n",
    "#x_test = x_test[900:]\n",
    "#x_val_label = test_label[:900]\n",
    "#x_test_label = test_label[900:]\n"
   ]
  },
  {
   "cell_type": "code",
   "execution_count": 6,
   "metadata": {},
   "outputs": [],
   "source": [
    "#print(\"validation data: {0} \\ntest data: {1}\".format(x_val.shape, x_test.shape))"
   ]
  },
  {
   "cell_type": "code",
   "execution_count": 3,
   "metadata": {},
   "outputs": [],
   "source": [
    "train_label_1=np_utils.to_categorical(train_label)\n",
    "#test_label_1=np_utils.to_categorical(test_label)\n",
    "val_label_1=np_utils.to_categorical(val_label)\n"
   ]
  },
  {
   "cell_type": "code",
   "execution_count": 4,
   "metadata": {},
   "outputs": [],
   "source": [
    "batch_size = 16\n",
    "num_classes = 10\n",
    "epochs = 20"
   ]
  },
  {
   "cell_type": "code",
   "execution_count": 5,
   "metadata": {
    "scrolled": true
   },
   "outputs": [
    {
     "name": "stdout",
     "output_type": "stream",
     "text": [
      "Model loaded.\n"
     ]
    }
   ],
   "source": [
    "#重みの読み込み→ボトルネック特徴量の抽出\n",
    "input_img = Input(shape=(512, 512, 3))\n",
    "x = Conv2D(16, (7, 7), padding='same')(input_img)\n",
    "#x = BatchNormalization()(x)\n",
    "x = Activation('relu')(x)\n",
    "x = MaxPooling2D((2, 2), padding='same')(x)\n",
    "x = Conv2D(32, (5, 5), padding='same')(x)\n",
    "#x = BatchNormalization()(x)\n",
    "x = Activation('relu')(x)\n",
    "x = MaxPooling2D((2, 2), padding='same')(x)\n",
    "x = Conv2D(64, (3, 3), padding='same')(x)\n",
    "#x = BatchNormalization()(x)\n",
    "x = Activation('relu')(x)\n",
    "encoded = MaxPooling2D((2, 2), padding='same')(x)\n",
    "model = Model(input_img,encoded)\n",
    "\n",
    "weights_path = '/mnt/Doc/512pix_to_128pix/best_weight_0220.h5' \n",
    "assert os.path.exists(weights_path), 'Model weights not found '\n",
    "f = h5py.File(weights_path)\n",
    "layer_names = [n.decode('utf8') for n in f.attrs['layer_names']]\n",
    "weight_value_tuples = []\n",
    "for k, name in enumerate(layer_names):\n",
    "    if k >= len(model.layers):\n",
    "        # 全結合層の重みは読み込まない\n",
    "        break\n",
    "    g = f[name]\n",
    "    weight_names = [n.decode('utf8') for n in g.attrs['weight_names']]\n",
    "    if len(weight_names):\n",
    "        weight_values = [g[weight_name] for weight_name in weight_names]\n",
    "        layer = model.layers[k]\n",
    "        symbolic_weights = layer.trainable_weights + layer.non_trainable_weights\n",
    "        if len(weight_values) != len(symbolic_weights):\n",
    "            raise Exception('Layer #' + str(k) +\n",
    "                            ' (named \"' + layer.name +\n",
    "                            '\" in the current model) was found to '\n",
    "                            'correspond to layer ' + name +\n",
    "                            ' in the save file. '\n",
    "                            'However the new layer ' + layer.name +\n",
    "                            ' expects ' + str(len(symbolic_weights)) +\n",
    "                            ' weights, but the saved weights have ' +\n",
    "                            str(len(weight_values)) +\n",
    "                            ' elements.')\n",
    "        weight_value_tuples += zip(symbolic_weights, weight_values)\n",
    "K.batch_set_value(weight_value_tuples)\n",
    "f.close()\n",
    "print('Model loaded.')\n",
    "\n",
    "bottleneck_features_train = model.predict(x_train)\n",
    "pass_ =\"/mnt/Doc/512pix tissue all/bottleneck\"\n",
    "pass_train = os.path.join(pass_,\"bottleneck_train.npy\")\n",
    "np.save(pass_train,bottleneck_features_train)\n",
    "\n",
    "pass_val = os.path.join(pass_,\"bottleneck_val.npy\")\n",
    "bottleneck_features_val = model.predict(x_val)\n",
    "np.save(pass_val,bottleneck_features_val)\n"
   ]
  },
  {
   "cell_type": "code",
   "execution_count": 3,
   "metadata": {},
   "outputs": [
    {
     "data": {
      "text/plain": [
       "<HDF5 file \"best_weight_0220.h5\" (mode r+)>"
      ]
     },
     "execution_count": 3,
     "metadata": {},
     "output_type": "execute_result"
    }
   ],
   "source": [
    "weights_path = '/mnt/Doc/512pix_to_128pix/best_weight_0220.h5' \n",
    "f = h5py.File(weights_path)\n",
    "f "
   ]
  },
  {
   "cell_type": "code",
   "execution_count": 6,
   "metadata": {},
   "outputs": [],
   "source": [
    "#全結合層のみ学習==これだめだったは....\n",
    "def train_top_model():\n",
    "    \n",
    "    nb_epoch = 300\n",
    "    \n",
    "    train_data =np.load(\"/mnt/Doc/512pix tissue all/bottleneck/bottleneck_train.npy\")\n",
    "    val_data = np.load(\"/mnt/Doc/512pix tissue all/bottleneck/bottleneck_val.npy\")\n",
    "    train_label_1=np_utils.to_categorical(train_label)\n",
    "    val_label_1=np_utils.to_categorical(val_label)\n",
    "\n",
    "    \n",
    "    input_img = Input(shape=(train_data.shape[1:]))\n",
    "    x = Flatten()(input_img)\n",
    "    x = Dense(512)(x)\n",
    "    x = Activation(\"relu\")(x)\n",
    "    x = Dropout(0.5)(x)\n",
    "    x = Dense(3, activation = \"softmax\")(x)\n",
    "    \n",
    "    model = Model(input_img, x)\n",
    "    model.compile(optimizer='adam', loss='categorical_crossentropy',metrics=[\"accuracy\"])\n",
    "    hist = model.fit(train_data,train_label_1,\n",
    "                    nb_epoch=nb_epoch,\n",
    "                    validation_data=(val_data,val_label_1),\n",
    "                    )\n",
    "    "
   ]
  },
  {
   "cell_type": "code",
   "execution_count": 7,
   "metadata": {},
   "outputs": [
    {
     "name": "stderr",
     "output_type": "stream",
     "text": [
      "/usr/local/lib/python3.5/dist-packages/ipykernel_launcher.py:23: UserWarning: The `nb_epoch` argument in `fit` has been renamed `epochs`.\n"
     ]
    },
    {
     "name": "stdout",
     "output_type": "stream",
     "text": [
      "Train on 999 samples, validate on 201 samples\n",
      "Epoch 1/300\n"
     ]
    },
    {
     "ename": "ResourceExhaustedError",
     "evalue": "OOM when allocating tensor with shape[262144,512] and type float on /job:localhost/replica:0/task:0/device:GPU:0 by allocator GPU_0_bfc\n\t [[{{node training/Adam/mul_1}} = Mul[T=DT_FLOAT, _device=\"/job:localhost/replica:0/task:0/device:GPU:0\"](Adam/beta_1/read, training/Adam/Variable/read)]]\nHint: If you want to see a list of allocated tensors when OOM happens, add report_tensor_allocations_upon_oom to RunOptions for current allocation info.\n",
     "output_type": "error",
     "traceback": [
      "\u001b[0;31m---------------------------------------------------------------------------\u001b[0m",
      "\u001b[0;31mResourceExhaustedError\u001b[0m                    Traceback (most recent call last)",
      "\u001b[0;32m<ipython-input-7-0da2181ac8b3>\u001b[0m in \u001b[0;36m<module>\u001b[0;34m\u001b[0m\n\u001b[0;32m----> 1\u001b[0;31m \u001b[0mtrain_top_model\u001b[0m\u001b[0;34m(\u001b[0m\u001b[0;34m)\u001b[0m\u001b[0;34m\u001b[0m\u001b[0m\n\u001b[0m",
      "\u001b[0;32m<ipython-input-6-c2c3bbca805a>\u001b[0m in \u001b[0;36mtrain_top_model\u001b[0;34m()\u001b[0m\n\u001b[1;32m     21\u001b[0m     hist = model.fit(train_data,train_label_1,\n\u001b[1;32m     22\u001b[0m                     \u001b[0mnb_epoch\u001b[0m\u001b[0;34m=\u001b[0m\u001b[0mnb_epoch\u001b[0m\u001b[0;34m,\u001b[0m\u001b[0;34m\u001b[0m\u001b[0m\n\u001b[0;32m---> 23\u001b[0;31m                     \u001b[0mvalidation_data\u001b[0m\u001b[0;34m=\u001b[0m\u001b[0;34m(\u001b[0m\u001b[0mval_data\u001b[0m\u001b[0;34m,\u001b[0m\u001b[0mval_label_1\u001b[0m\u001b[0;34m)\u001b[0m\u001b[0;34m,\u001b[0m\u001b[0;34m\u001b[0m\u001b[0m\n\u001b[0m\u001b[1;32m     24\u001b[0m                     )\n\u001b[1;32m     25\u001b[0m \u001b[0;34m\u001b[0m\u001b[0m\n",
      "\u001b[0;32m/usr/local/lib/python3.5/dist-packages/keras/engine/training.py\u001b[0m in \u001b[0;36mfit\u001b[0;34m(self, x, y, batch_size, epochs, verbose, callbacks, validation_split, validation_data, shuffle, class_weight, sample_weight, initial_epoch, steps_per_epoch, validation_steps, **kwargs)\u001b[0m\n\u001b[1;32m   1037\u001b[0m                                         \u001b[0minitial_epoch\u001b[0m\u001b[0;34m=\u001b[0m\u001b[0minitial_epoch\u001b[0m\u001b[0;34m,\u001b[0m\u001b[0;34m\u001b[0m\u001b[0m\n\u001b[1;32m   1038\u001b[0m                                         \u001b[0msteps_per_epoch\u001b[0m\u001b[0;34m=\u001b[0m\u001b[0msteps_per_epoch\u001b[0m\u001b[0;34m,\u001b[0m\u001b[0;34m\u001b[0m\u001b[0m\n\u001b[0;32m-> 1039\u001b[0;31m                                         validation_steps=validation_steps)\n\u001b[0m\u001b[1;32m   1040\u001b[0m \u001b[0;34m\u001b[0m\u001b[0m\n\u001b[1;32m   1041\u001b[0m     def evaluate(self, x=None, y=None,\n",
      "\u001b[0;32m/usr/local/lib/python3.5/dist-packages/keras/engine/training_arrays.py\u001b[0m in \u001b[0;36mfit_loop\u001b[0;34m(model, f, ins, out_labels, batch_size, epochs, verbose, callbacks, val_f, val_ins, shuffle, callback_metrics, initial_epoch, steps_per_epoch, validation_steps)\u001b[0m\n\u001b[1;32m    197\u001b[0m                     \u001b[0mins_batch\u001b[0m\u001b[0;34m[\u001b[0m\u001b[0mi\u001b[0m\u001b[0;34m]\u001b[0m \u001b[0;34m=\u001b[0m \u001b[0mins_batch\u001b[0m\u001b[0;34m[\u001b[0m\u001b[0mi\u001b[0m\u001b[0;34m]\u001b[0m\u001b[0;34m.\u001b[0m\u001b[0mtoarray\u001b[0m\u001b[0;34m(\u001b[0m\u001b[0;34m)\u001b[0m\u001b[0;34m\u001b[0m\u001b[0m\n\u001b[1;32m    198\u001b[0m \u001b[0;34m\u001b[0m\u001b[0m\n\u001b[0;32m--> 199\u001b[0;31m                 \u001b[0mouts\u001b[0m \u001b[0;34m=\u001b[0m \u001b[0mf\u001b[0m\u001b[0;34m(\u001b[0m\u001b[0mins_batch\u001b[0m\u001b[0;34m)\u001b[0m\u001b[0;34m\u001b[0m\u001b[0m\n\u001b[0m\u001b[1;32m    200\u001b[0m                 \u001b[0mouts\u001b[0m \u001b[0;34m=\u001b[0m \u001b[0mto_list\u001b[0m\u001b[0;34m(\u001b[0m\u001b[0mouts\u001b[0m\u001b[0;34m)\u001b[0m\u001b[0;34m\u001b[0m\u001b[0m\n\u001b[1;32m    201\u001b[0m                 \u001b[0;32mfor\u001b[0m \u001b[0ml\u001b[0m\u001b[0;34m,\u001b[0m \u001b[0mo\u001b[0m \u001b[0;32min\u001b[0m \u001b[0mzip\u001b[0m\u001b[0;34m(\u001b[0m\u001b[0mout_labels\u001b[0m\u001b[0;34m,\u001b[0m \u001b[0mouts\u001b[0m\u001b[0;34m)\u001b[0m\u001b[0;34m:\u001b[0m\u001b[0;34m\u001b[0m\u001b[0m\n",
      "\u001b[0;32m/usr/local/lib/python3.5/dist-packages/keras/backend/tensorflow_backend.py\u001b[0m in \u001b[0;36m__call__\u001b[0;34m(self, inputs)\u001b[0m\n\u001b[1;32m   2713\u001b[0m                 \u001b[0;32mreturn\u001b[0m \u001b[0mself\u001b[0m\u001b[0;34m.\u001b[0m\u001b[0m_legacy_call\u001b[0m\u001b[0;34m(\u001b[0m\u001b[0minputs\u001b[0m\u001b[0;34m)\u001b[0m\u001b[0;34m\u001b[0m\u001b[0m\n\u001b[1;32m   2714\u001b[0m \u001b[0;34m\u001b[0m\u001b[0m\n\u001b[0;32m-> 2715\u001b[0;31m             \u001b[0;32mreturn\u001b[0m \u001b[0mself\u001b[0m\u001b[0;34m.\u001b[0m\u001b[0m_call\u001b[0m\u001b[0;34m(\u001b[0m\u001b[0minputs\u001b[0m\u001b[0;34m)\u001b[0m\u001b[0;34m\u001b[0m\u001b[0m\n\u001b[0m\u001b[1;32m   2716\u001b[0m         \u001b[0;32melse\u001b[0m\u001b[0;34m:\u001b[0m\u001b[0;34m\u001b[0m\u001b[0m\n\u001b[1;32m   2717\u001b[0m             \u001b[0;32mif\u001b[0m \u001b[0mpy_any\u001b[0m\u001b[0;34m(\u001b[0m\u001b[0mis_tensor\u001b[0m\u001b[0;34m(\u001b[0m\u001b[0mx\u001b[0m\u001b[0;34m)\u001b[0m \u001b[0;32mfor\u001b[0m \u001b[0mx\u001b[0m \u001b[0;32min\u001b[0m \u001b[0minputs\u001b[0m\u001b[0;34m)\u001b[0m\u001b[0;34m:\u001b[0m\u001b[0;34m\u001b[0m\u001b[0m\n",
      "\u001b[0;32m/usr/local/lib/python3.5/dist-packages/keras/backend/tensorflow_backend.py\u001b[0m in \u001b[0;36m_call\u001b[0;34m(self, inputs)\u001b[0m\n\u001b[1;32m   2673\u001b[0m             \u001b[0mfetched\u001b[0m \u001b[0;34m=\u001b[0m \u001b[0mself\u001b[0m\u001b[0;34m.\u001b[0m\u001b[0m_callable_fn\u001b[0m\u001b[0;34m(\u001b[0m\u001b[0;34m*\u001b[0m\u001b[0marray_vals\u001b[0m\u001b[0;34m,\u001b[0m \u001b[0mrun_metadata\u001b[0m\u001b[0;34m=\u001b[0m\u001b[0mself\u001b[0m\u001b[0;34m.\u001b[0m\u001b[0mrun_metadata\u001b[0m\u001b[0;34m)\u001b[0m\u001b[0;34m\u001b[0m\u001b[0m\n\u001b[1;32m   2674\u001b[0m         \u001b[0;32melse\u001b[0m\u001b[0;34m:\u001b[0m\u001b[0;34m\u001b[0m\u001b[0m\n\u001b[0;32m-> 2675\u001b[0;31m             \u001b[0mfetched\u001b[0m \u001b[0;34m=\u001b[0m \u001b[0mself\u001b[0m\u001b[0;34m.\u001b[0m\u001b[0m_callable_fn\u001b[0m\u001b[0;34m(\u001b[0m\u001b[0;34m*\u001b[0m\u001b[0marray_vals\u001b[0m\u001b[0;34m)\u001b[0m\u001b[0;34m\u001b[0m\u001b[0m\n\u001b[0m\u001b[1;32m   2676\u001b[0m         \u001b[0;32mreturn\u001b[0m \u001b[0mfetched\u001b[0m\u001b[0;34m[\u001b[0m\u001b[0;34m:\u001b[0m\u001b[0mlen\u001b[0m\u001b[0;34m(\u001b[0m\u001b[0mself\u001b[0m\u001b[0;34m.\u001b[0m\u001b[0moutputs\u001b[0m\u001b[0;34m)\u001b[0m\u001b[0;34m]\u001b[0m\u001b[0;34m\u001b[0m\u001b[0m\n\u001b[1;32m   2677\u001b[0m \u001b[0;34m\u001b[0m\u001b[0m\n",
      "\u001b[0;32m/usr/local/lib/python3.5/dist-packages/tensorflow/python/client/session.py\u001b[0m in \u001b[0;36m__call__\u001b[0;34m(self, *args, **kwargs)\u001b[0m\n\u001b[1;32m   1437\u001b[0m           ret = tf_session.TF_SessionRunCallable(\n\u001b[1;32m   1438\u001b[0m               \u001b[0mself\u001b[0m\u001b[0;34m.\u001b[0m\u001b[0m_session\u001b[0m\u001b[0;34m.\u001b[0m\u001b[0m_session\u001b[0m\u001b[0;34m,\u001b[0m \u001b[0mself\u001b[0m\u001b[0;34m.\u001b[0m\u001b[0m_handle\u001b[0m\u001b[0;34m,\u001b[0m \u001b[0margs\u001b[0m\u001b[0;34m,\u001b[0m \u001b[0mstatus\u001b[0m\u001b[0;34m,\u001b[0m\u001b[0;34m\u001b[0m\u001b[0m\n\u001b[0;32m-> 1439\u001b[0;31m               run_metadata_ptr)\n\u001b[0m\u001b[1;32m   1440\u001b[0m         \u001b[0;32mif\u001b[0m \u001b[0mrun_metadata\u001b[0m\u001b[0;34m:\u001b[0m\u001b[0;34m\u001b[0m\u001b[0m\n\u001b[1;32m   1441\u001b[0m           \u001b[0mproto_data\u001b[0m \u001b[0;34m=\u001b[0m \u001b[0mtf_session\u001b[0m\u001b[0;34m.\u001b[0m\u001b[0mTF_GetBuffer\u001b[0m\u001b[0;34m(\u001b[0m\u001b[0mrun_metadata_ptr\u001b[0m\u001b[0;34m)\u001b[0m\u001b[0;34m\u001b[0m\u001b[0m\n",
      "\u001b[0;32m/usr/local/lib/python3.5/dist-packages/tensorflow/python/framework/errors_impl.py\u001b[0m in \u001b[0;36m__exit__\u001b[0;34m(self, type_arg, value_arg, traceback_arg)\u001b[0m\n\u001b[1;32m    526\u001b[0m             \u001b[0;32mNone\u001b[0m\u001b[0;34m,\u001b[0m \u001b[0;32mNone\u001b[0m\u001b[0;34m,\u001b[0m\u001b[0;34m\u001b[0m\u001b[0m\n\u001b[1;32m    527\u001b[0m             \u001b[0mcompat\u001b[0m\u001b[0;34m.\u001b[0m\u001b[0mas_text\u001b[0m\u001b[0;34m(\u001b[0m\u001b[0mc_api\u001b[0m\u001b[0;34m.\u001b[0m\u001b[0mTF_Message\u001b[0m\u001b[0;34m(\u001b[0m\u001b[0mself\u001b[0m\u001b[0;34m.\u001b[0m\u001b[0mstatus\u001b[0m\u001b[0;34m.\u001b[0m\u001b[0mstatus\u001b[0m\u001b[0;34m)\u001b[0m\u001b[0;34m)\u001b[0m\u001b[0;34m,\u001b[0m\u001b[0;34m\u001b[0m\u001b[0m\n\u001b[0;32m--> 528\u001b[0;31m             c_api.TF_GetCode(self.status.status))\n\u001b[0m\u001b[1;32m    529\u001b[0m     \u001b[0;31m# Delete the underlying status object from memory otherwise it stays alive\u001b[0m\u001b[0;34m\u001b[0m\u001b[0;34m\u001b[0m\u001b[0m\n\u001b[1;32m    530\u001b[0m     \u001b[0;31m# as there is a reference to status from this from the traceback due to\u001b[0m\u001b[0;34m\u001b[0m\u001b[0;34m\u001b[0m\u001b[0m\n",
      "\u001b[0;31mResourceExhaustedError\u001b[0m: OOM when allocating tensor with shape[262144,512] and type float on /job:localhost/replica:0/task:0/device:GPU:0 by allocator GPU_0_bfc\n\t [[{{node training/Adam/mul_1}} = Mul[T=DT_FLOAT, _device=\"/job:localhost/replica:0/task:0/device:GPU:0\"](Adam/beta_1/read, training/Adam/Variable/read)]]\nHint: If you want to see a list of allocated tensors when OOM happens, add report_tensor_allocations_upon_oom to RunOptions for current allocation info.\n"
     ]
    }
   ],
   "source": [
    "train_top_model()"
   ]
  },
  {
   "cell_type": "code",
   "execution_count": 25,
   "metadata": {
    "scrolled": true
   },
   "outputs": [
    {
     "name": "stdout",
     "output_type": "stream",
     "text": [
      "Model loaded.\n"
     ]
    },
    {
     "name": "stderr",
     "output_type": "stream",
     "text": [
      "/usr/local/lib/python3.5/dist-packages/ipykernel_launcher.py:57: UserWarning: The `nb_epoch` argument in `fit` has been renamed `epochs`.\n"
     ]
    },
    {
     "name": "stdout",
     "output_type": "stream",
     "text": [
      "Train on 9000 samples, validate on 1500 samples\n",
      "Epoch 1/300\n",
      "9000/9000 [==============================] - 17s 2ms/step - loss: 1.1067 - acc: 0.3339 - val_loss: 1.0987 - val_acc: 0.3513\n",
      "Epoch 2/300\n",
      "9000/9000 [==============================] - 16s 2ms/step - loss: 1.0987 - acc: 0.3323 - val_loss: 1.0983 - val_acc: 0.3667\n",
      "Epoch 3/300\n",
      "2240/9000 [======>.......................] - ETA: 12s - loss: 1.0978 - acc: 0.3415"
     ]
    },
    {
     "ename": "KeyboardInterrupt",
     "evalue": "",
     "output_type": "error",
     "traceback": [
      "\u001b[0;31m---------------------------------------------------------------------------\u001b[0m",
      "\u001b[0;31mKeyboardInterrupt\u001b[0m                         Traceback (most recent call last)",
      "\u001b[0;32m<ipython-input-25-c66294587465>\u001b[0m in \u001b[0;36m<module>\u001b[0;34m\u001b[0m\n\u001b[1;32m     55\u001b[0m                     \u001b[0mnb_epoch\u001b[0m\u001b[0;34m=\u001b[0m\u001b[0;36m300\u001b[0m\u001b[0;34m,\u001b[0m\u001b[0;34m\u001b[0m\u001b[0m\n\u001b[1;32m     56\u001b[0m                     \u001b[0mvalidation_data\u001b[0m\u001b[0;34m=\u001b[0m\u001b[0;34m(\u001b[0m\u001b[0mx_val\u001b[0m\u001b[0;34m,\u001b[0m\u001b[0mval_label_1\u001b[0m\u001b[0;34m)\u001b[0m\u001b[0;34m,\u001b[0m\u001b[0;34m\u001b[0m\u001b[0m\n\u001b[0;32m---> 57\u001b[0;31m                     shuffle=True)\n\u001b[0m",
      "\u001b[0;32m/usr/local/lib/python3.5/dist-packages/keras/engine/training.py\u001b[0m in \u001b[0;36mfit\u001b[0;34m(self, x, y, batch_size, epochs, verbose, callbacks, validation_split, validation_data, shuffle, class_weight, sample_weight, initial_epoch, steps_per_epoch, validation_steps, **kwargs)\u001b[0m\n\u001b[1;32m   1037\u001b[0m                                         \u001b[0minitial_epoch\u001b[0m\u001b[0;34m=\u001b[0m\u001b[0minitial_epoch\u001b[0m\u001b[0;34m,\u001b[0m\u001b[0;34m\u001b[0m\u001b[0m\n\u001b[1;32m   1038\u001b[0m                                         \u001b[0msteps_per_epoch\u001b[0m\u001b[0;34m=\u001b[0m\u001b[0msteps_per_epoch\u001b[0m\u001b[0;34m,\u001b[0m\u001b[0;34m\u001b[0m\u001b[0m\n\u001b[0;32m-> 1039\u001b[0;31m                                         validation_steps=validation_steps)\n\u001b[0m\u001b[1;32m   1040\u001b[0m \u001b[0;34m\u001b[0m\u001b[0m\n\u001b[1;32m   1041\u001b[0m     def evaluate(self, x=None, y=None,\n",
      "\u001b[0;32m/usr/local/lib/python3.5/dist-packages/keras/engine/training_arrays.py\u001b[0m in \u001b[0;36mfit_loop\u001b[0;34m(model, f, ins, out_labels, batch_size, epochs, verbose, callbacks, val_f, val_ins, shuffle, callback_metrics, initial_epoch, steps_per_epoch, validation_steps)\u001b[0m\n\u001b[1;32m    197\u001b[0m                     \u001b[0mins_batch\u001b[0m\u001b[0;34m[\u001b[0m\u001b[0mi\u001b[0m\u001b[0;34m]\u001b[0m \u001b[0;34m=\u001b[0m \u001b[0mins_batch\u001b[0m\u001b[0;34m[\u001b[0m\u001b[0mi\u001b[0m\u001b[0;34m]\u001b[0m\u001b[0;34m.\u001b[0m\u001b[0mtoarray\u001b[0m\u001b[0;34m(\u001b[0m\u001b[0;34m)\u001b[0m\u001b[0;34m\u001b[0m\u001b[0m\n\u001b[1;32m    198\u001b[0m \u001b[0;34m\u001b[0m\u001b[0m\n\u001b[0;32m--> 199\u001b[0;31m                 \u001b[0mouts\u001b[0m \u001b[0;34m=\u001b[0m \u001b[0mf\u001b[0m\u001b[0;34m(\u001b[0m\u001b[0mins_batch\u001b[0m\u001b[0;34m)\u001b[0m\u001b[0;34m\u001b[0m\u001b[0m\n\u001b[0m\u001b[1;32m    200\u001b[0m                 \u001b[0mouts\u001b[0m \u001b[0;34m=\u001b[0m \u001b[0mto_list\u001b[0m\u001b[0;34m(\u001b[0m\u001b[0mouts\u001b[0m\u001b[0;34m)\u001b[0m\u001b[0;34m\u001b[0m\u001b[0m\n\u001b[1;32m    201\u001b[0m                 \u001b[0;32mfor\u001b[0m \u001b[0ml\u001b[0m\u001b[0;34m,\u001b[0m \u001b[0mo\u001b[0m \u001b[0;32min\u001b[0m \u001b[0mzip\u001b[0m\u001b[0;34m(\u001b[0m\u001b[0mout_labels\u001b[0m\u001b[0;34m,\u001b[0m \u001b[0mouts\u001b[0m\u001b[0;34m)\u001b[0m\u001b[0;34m:\u001b[0m\u001b[0;34m\u001b[0m\u001b[0m\n",
      "\u001b[0;32m/usr/local/lib/python3.5/dist-packages/keras/backend/tensorflow_backend.py\u001b[0m in \u001b[0;36m__call__\u001b[0;34m(self, inputs)\u001b[0m\n\u001b[1;32m   2713\u001b[0m                 \u001b[0;32mreturn\u001b[0m \u001b[0mself\u001b[0m\u001b[0;34m.\u001b[0m\u001b[0m_legacy_call\u001b[0m\u001b[0;34m(\u001b[0m\u001b[0minputs\u001b[0m\u001b[0;34m)\u001b[0m\u001b[0;34m\u001b[0m\u001b[0m\n\u001b[1;32m   2714\u001b[0m \u001b[0;34m\u001b[0m\u001b[0m\n\u001b[0;32m-> 2715\u001b[0;31m             \u001b[0;32mreturn\u001b[0m \u001b[0mself\u001b[0m\u001b[0;34m.\u001b[0m\u001b[0m_call\u001b[0m\u001b[0;34m(\u001b[0m\u001b[0minputs\u001b[0m\u001b[0;34m)\u001b[0m\u001b[0;34m\u001b[0m\u001b[0m\n\u001b[0m\u001b[1;32m   2716\u001b[0m         \u001b[0;32melse\u001b[0m\u001b[0;34m:\u001b[0m\u001b[0;34m\u001b[0m\u001b[0m\n\u001b[1;32m   2717\u001b[0m             \u001b[0;32mif\u001b[0m \u001b[0mpy_any\u001b[0m\u001b[0;34m(\u001b[0m\u001b[0mis_tensor\u001b[0m\u001b[0;34m(\u001b[0m\u001b[0mx\u001b[0m\u001b[0;34m)\u001b[0m \u001b[0;32mfor\u001b[0m \u001b[0mx\u001b[0m \u001b[0;32min\u001b[0m \u001b[0minputs\u001b[0m\u001b[0;34m)\u001b[0m\u001b[0;34m:\u001b[0m\u001b[0;34m\u001b[0m\u001b[0m\n",
      "\u001b[0;32m/usr/local/lib/python3.5/dist-packages/keras/backend/tensorflow_backend.py\u001b[0m in \u001b[0;36m_call\u001b[0;34m(self, inputs)\u001b[0m\n\u001b[1;32m   2673\u001b[0m             \u001b[0mfetched\u001b[0m \u001b[0;34m=\u001b[0m \u001b[0mself\u001b[0m\u001b[0;34m.\u001b[0m\u001b[0m_callable_fn\u001b[0m\u001b[0;34m(\u001b[0m\u001b[0;34m*\u001b[0m\u001b[0marray_vals\u001b[0m\u001b[0;34m,\u001b[0m \u001b[0mrun_metadata\u001b[0m\u001b[0;34m=\u001b[0m\u001b[0mself\u001b[0m\u001b[0;34m.\u001b[0m\u001b[0mrun_metadata\u001b[0m\u001b[0;34m)\u001b[0m\u001b[0;34m\u001b[0m\u001b[0m\n\u001b[1;32m   2674\u001b[0m         \u001b[0;32melse\u001b[0m\u001b[0;34m:\u001b[0m\u001b[0;34m\u001b[0m\u001b[0m\n\u001b[0;32m-> 2675\u001b[0;31m             \u001b[0mfetched\u001b[0m \u001b[0;34m=\u001b[0m \u001b[0mself\u001b[0m\u001b[0;34m.\u001b[0m\u001b[0m_callable_fn\u001b[0m\u001b[0;34m(\u001b[0m\u001b[0;34m*\u001b[0m\u001b[0marray_vals\u001b[0m\u001b[0;34m)\u001b[0m\u001b[0;34m\u001b[0m\u001b[0m\n\u001b[0m\u001b[1;32m   2676\u001b[0m         \u001b[0;32mreturn\u001b[0m \u001b[0mfetched\u001b[0m\u001b[0;34m[\u001b[0m\u001b[0;34m:\u001b[0m\u001b[0mlen\u001b[0m\u001b[0;34m(\u001b[0m\u001b[0mself\u001b[0m\u001b[0;34m.\u001b[0m\u001b[0moutputs\u001b[0m\u001b[0;34m)\u001b[0m\u001b[0;34m]\u001b[0m\u001b[0;34m\u001b[0m\u001b[0m\n\u001b[1;32m   2677\u001b[0m \u001b[0;34m\u001b[0m\u001b[0m\n",
      "\u001b[0;32m/usr/local/lib/python3.5/dist-packages/tensorflow/python/client/session.py\u001b[0m in \u001b[0;36m__call__\u001b[0;34m(self, *args, **kwargs)\u001b[0m\n\u001b[1;32m   1437\u001b[0m           ret = tf_session.TF_SessionRunCallable(\n\u001b[1;32m   1438\u001b[0m               \u001b[0mself\u001b[0m\u001b[0;34m.\u001b[0m\u001b[0m_session\u001b[0m\u001b[0;34m.\u001b[0m\u001b[0m_session\u001b[0m\u001b[0;34m,\u001b[0m \u001b[0mself\u001b[0m\u001b[0;34m.\u001b[0m\u001b[0m_handle\u001b[0m\u001b[0;34m,\u001b[0m \u001b[0margs\u001b[0m\u001b[0;34m,\u001b[0m \u001b[0mstatus\u001b[0m\u001b[0;34m,\u001b[0m\u001b[0;34m\u001b[0m\u001b[0m\n\u001b[0;32m-> 1439\u001b[0;31m               run_metadata_ptr)\n\u001b[0m\u001b[1;32m   1440\u001b[0m         \u001b[0;32mif\u001b[0m \u001b[0mrun_metadata\u001b[0m\u001b[0;34m:\u001b[0m\u001b[0;34m\u001b[0m\u001b[0m\n\u001b[1;32m   1441\u001b[0m           \u001b[0mproto_data\u001b[0m \u001b[0;34m=\u001b[0m \u001b[0mtf_session\u001b[0m\u001b[0;34m.\u001b[0m\u001b[0mTF_GetBuffer\u001b[0m\u001b[0;34m(\u001b[0m\u001b[0mrun_metadata_ptr\u001b[0m\u001b[0;34m)\u001b[0m\u001b[0;34m\u001b[0m\u001b[0m\n",
      "\u001b[0;31mKeyboardInterrupt\u001b[0m: "
     ]
    }
   ],
   "source": [
    "#weights_path = '/mnt/Doc//Autoencoder_data/2019.02.15/weight2019.02.15 03:19:21.h5'\n",
    "\n",
    "\n",
    "input_img = Input(shape=(128, 128, 3))\n",
    "x = Conv2D(16, (7, 7), padding='same')(input_img)\n",
    "#x = BatchNormalization()(x)\n",
    "x = Activation('relu')(x)\n",
    "x = MaxPooling2D((2, 2), padding='same')(x)\n",
    "x = Conv2D(32, (5, 5), padding='same')(x)\n",
    "#x = BatchNormalization()(x)\n",
    "x = Activation('relu')(x)\n",
    "x = MaxPooling2D((2, 2), padding='same')(x)\n",
    "x = Conv2D(64, (3, 3), padding='same')(x)\n",
    "#x = BatchNormalization()(x)\n",
    "x = Activation('relu')(x)\n",
    "encoded = MaxPooling2D((2, 2), padding='same')(x)\n",
    "x = Flatten()(encoded)\n",
    "Softmax = Dense(3, activation = \"softmax\")(x)\n",
    "\n",
    "model = Model(input_img,Softmax)\n",
    "\n",
    "assert os.path.exists(weights_path), 'Model weights not found '\n",
    "f = h5py.File(weights_path)\n",
    "layer_names = [n.decode('utf8') for n in f.attrs['layer_names']]\n",
    "weight_value_tuples = []\n",
    "for k, name in enumerate(layer_names):\n",
    "    if k >= 10:\n",
    "        # Flattenより上の重みを読み込む\n",
    "        break\n",
    "    g = f[name]\n",
    "    weight_names = [n.decode('utf8') for n in g.attrs['weight_names']]\n",
    "    if len(weight_names):\n",
    "        weight_values = [g[weight_name] for weight_name in weight_names]\n",
    "        layer = model.layers[k]\n",
    "        symbolic_weights = layer.trainable_weights + layer.non_trainable_weights\n",
    "        if len(weight_values) != len(symbolic_weights):\n",
    "            raise Exception('Layer #' + str(k) +\n",
    "                            ' (named \"' + layer.name +\n",
    "                            '\" in the current model) was found to '\n",
    "                            'correspond to layer ' + name +\n",
    "                            ' in the save file. '\n",
    "                            'However the new layer ' + layer.name +\n",
    "                            ' expects ' + str(len(symbolic_weights)) +\n",
    "                            ' weights, but the saved weights have ' +\n",
    "                            str(len(weight_values)) +\n",
    "                            ' elements.')\n",
    "        weight_value_tuples += zip(symbolic_weights, weight_values)\n",
    "K.batch_set_value(weight_value_tuples)\n",
    "f.close()\n",
    "print('Model loaded.')\n",
    "\n",
    "model.compile(optimizer='adam', loss='categorical_crossentropy',metrics=[\"accuracy\"])\n",
    "hist = model.fit(x_train,train_label_1,\n",
    "                 batch_size=64,\n",
    "                    nb_epoch=300,\n",
    "                    validation_data=(x_val,val_label_1),\n",
    "                    shuffle=True)\n"
   ]
  },
  {
   "cell_type": "code",
   "execution_count": null,
   "metadata": {},
   "outputs": [],
   "source": [
    "x = Flatten()(encoded)\n",
    "x = Dense(128)(x)\n",
    "x = Activation(\"relu\")(x)\n",
    "x = Dense(3)(x)\n",
    "out = Activation(\"softmax\")(x"
   ]
  },
  {
   "cell_type": "code",
   "execution_count": 5,
   "metadata": {},
   "outputs": [],
   "source": [
    "train=np.load(\"/mnt/Doc/kazuki-de/2048pix_tissue_all/train_picture.npy\")\n",
    "train_label=np.load(\"/mnt/Doc/kazuki-de/2048pix_tissue_all/train_type.npy\")\n",
    "#test=np.load(\"/mnt/Doc/512pix_to_128pix/npy/128pix_testpicture.npy\")\n",
    "#test_label=np.load(\"/mnt/Doc/512pix_to_128pix/npy/128pix_testtype.npy\")\n",
    "val=np.load(\"/mnt/Doc/kazuki-de/2048pix_tissue_all/val_picture.npy\")\n",
    "val_label=np.load(\"/mnt/Doc/kazuki-de/2048pix_tissue_all/val_type.npy\")\n",
    "\n",
    "\n",
    "#x_test = test.astype('float32')\n",
    "#del train\n",
    "\n",
    "#del val\n",
    "train /= 255\n",
    "#x_test /= 255\n",
    "val /=255\n",
    "\n",
    "#del test\n",
    "\n",
    "train_label_1=np_utils.to_categorical(train_label)\n",
    "#test_label_1=np_utils.to_categorical(test_label)\n",
    "val_label_1=np_utils.to_categorical(val_label)\n"
   ]
  },
  {
   "cell_type": "code",
   "execution_count": 13,
   "metadata": {},
   "outputs": [
    {
     "name": "stderr",
     "output_type": "stream",
     "text": [
      "/usr/local/lib/python3.5/dist-packages/ipykernel_launcher.py:23: UserWarning: The `nb_epoch` argument in `fit` has been renamed `epochs`.\n"
     ]
    },
    {
     "name": "stdout",
     "output_type": "stream",
     "text": [
      "Train on 7000 samples, validate on 400 samples\n",
      "Epoch 1/100\n",
      "7000/7000 [==============================] - 70s 10ms/step - loss: 1.0536 - acc: 0.4534 - val_loss: 2.4088 - val_acc: 0.2800\n",
      "Epoch 2/100\n",
      "7000/7000 [==============================] - 70s 10ms/step - loss: 1.0326 - acc: 0.4799 - val_loss: 1.4696 - val_acc: 0.5800\n",
      "Epoch 3/100\n",
      "7000/7000 [==============================] - 70s 10ms/step - loss: 1.0226 - acc: 0.4917 - val_loss: 1.5139 - val_acc: 0.1650\n",
      "Epoch 4/100\n",
      "7000/7000 [==============================] - 70s 10ms/step - loss: 1.0118 - acc: 0.4976 - val_loss: 1.3708 - val_acc: 0.5800\n",
      "Epoch 5/100\n",
      "7000/7000 [==============================] - 70s 10ms/step - loss: 1.0052 - acc: 0.5029 - val_loss: 1.9449 - val_acc: 0.5800\n",
      "Epoch 6/100\n",
      "7000/7000 [==============================] - 70s 10ms/step - loss: 0.9973 - acc: 0.5163 - val_loss: 4.2333 - val_acc: 0.2800\n",
      "Epoch 7/100\n",
      "7000/7000 [==============================] - 70s 10ms/step - loss: 0.9929 - acc: 0.5156 - val_loss: 1.0243 - val_acc: 0.5700\n",
      "Epoch 8/100\n",
      "7000/7000 [==============================] - 70s 10ms/step - loss: 0.9849 - acc: 0.5210 - val_loss: 2.4532 - val_acc: 0.2825\n",
      "Epoch 9/100\n",
      "7000/7000 [==============================] - 70s 10ms/step - loss: 0.9800 - acc: 0.5176 - val_loss: 1.2262 - val_acc: 0.5950\n",
      "Epoch 10/100\n",
      "7000/7000 [==============================] - 70s 10ms/step - loss: 0.9762 - acc: 0.5279 - val_loss: 2.5342 - val_acc: 0.1750\n",
      "Epoch 11/100\n",
      "7000/7000 [==============================] - 70s 10ms/step - loss: 0.9665 - acc: 0.5333 - val_loss: 1.2605 - val_acc: 0.3575\n",
      "Epoch 12/100\n",
      "7000/7000 [==============================] - 70s 10ms/step - loss: 0.9600 - acc: 0.5314 - val_loss: 2.7264 - val_acc: 0.1700\n",
      "Epoch 13/100\n",
      "7000/7000 [==============================] - 70s 10ms/step - loss: 0.9552 - acc: 0.5304 - val_loss: 1.1729 - val_acc: 0.5325\n",
      "Epoch 14/100\n",
      "7000/7000 [==============================] - 70s 10ms/step - loss: 0.9471 - acc: 0.5419 - val_loss: 2.3650 - val_acc: 0.5800\n",
      "Epoch 15/100\n",
      "7000/7000 [==============================] - 70s 10ms/step - loss: 0.9395 - acc: 0.5440 - val_loss: 1.8333 - val_acc: 0.2875\n",
      "Epoch 16/100\n",
      "7000/7000 [==============================] - 70s 10ms/step - loss: 0.9347 - acc: 0.5517 - val_loss: 1.8538 - val_acc: 0.5225\n",
      "Epoch 17/100\n",
      "7000/7000 [==============================] - 70s 10ms/step - loss: 0.9247 - acc: 0.5519 - val_loss: 5.6751 - val_acc: 0.5800\n",
      "Epoch 18/100\n",
      "7000/7000 [==============================] - 70s 10ms/step - loss: 0.9206 - acc: 0.5560 - val_loss: 2.4380 - val_acc: 0.5700\n",
      "Epoch 19/100\n",
      "7000/7000 [==============================] - 70s 10ms/step - loss: 0.9149 - acc: 0.5520 - val_loss: 3.4183 - val_acc: 0.5825\n",
      "Epoch 20/100\n",
      "7000/7000 [==============================] - 70s 10ms/step - loss: 0.9121 - acc: 0.5600 - val_loss: 4.7055 - val_acc: 0.5800\n",
      "Epoch 21/100\n",
      "7000/7000 [==============================] - 70s 10ms/step - loss: 0.9037 - acc: 0.5566 - val_loss: 2.6680 - val_acc: 0.5800\n",
      "Epoch 22/100\n",
      "7000/7000 [==============================] - 70s 10ms/step - loss: 0.8981 - acc: 0.5693 - val_loss: 1.8190 - val_acc: 0.5600\n",
      "Epoch 23/100\n",
      "7000/7000 [==============================] - 70s 10ms/step - loss: 0.8882 - acc: 0.5806 - val_loss: 1.1821 - val_acc: 0.3375\n",
      "Epoch 24/100\n",
      "7000/7000 [==============================] - 70s 10ms/step - loss: 0.8827 - acc: 0.5847 - val_loss: 2.8166 - val_acc: 0.5550\n",
      "Epoch 25/100\n",
      "7000/7000 [==============================] - 70s 10ms/step - loss: 0.8794 - acc: 0.5809 - val_loss: 1.4743 - val_acc: 0.2350\n",
      "Epoch 26/100\n",
      "7000/7000 [==============================] - 70s 10ms/step - loss: 0.8717 - acc: 0.5950 - val_loss: 1.2211 - val_acc: 0.3600\n",
      "Epoch 27/100\n",
      "7000/7000 [==============================] - 70s 10ms/step - loss: 0.8673 - acc: 0.5937 - val_loss: 3.2803 - val_acc: 0.5450\n",
      "Epoch 28/100\n",
      "7000/7000 [==============================] - 70s 10ms/step - loss: 0.8507 - acc: 0.6043 - val_loss: 2.7192 - val_acc: 0.5800\n",
      "Epoch 29/100\n",
      "7000/7000 [==============================] - 70s 10ms/step - loss: 0.8488 - acc: 0.6033 - val_loss: 2.8815 - val_acc: 0.4925\n",
      "Epoch 30/100\n",
      "7000/7000 [==============================] - 70s 10ms/step - loss: 0.8488 - acc: 0.6110 - val_loss: 1.7951 - val_acc: 0.5575\n",
      "Epoch 31/100\n",
      "7000/7000 [==============================] - 70s 10ms/step - loss: 0.8421 - acc: 0.6106 - val_loss: 2.2418 - val_acc: 0.3400\n",
      "Epoch 32/100\n",
      "7000/7000 [==============================] - 70s 10ms/step - loss: 0.8413 - acc: 0.6076 - val_loss: 1.4407 - val_acc: 0.5600\n",
      "Epoch 33/100\n",
      "7000/7000 [==============================] - 70s 10ms/step - loss: 0.8295 - acc: 0.6163 - val_loss: 3.7844 - val_acc: 0.3700\n",
      "Epoch 34/100\n",
      "7000/7000 [==============================] - 70s 10ms/step - loss: 0.8230 - acc: 0.6179 - val_loss: 1.8822 - val_acc: 0.5075\n",
      "Epoch 35/100\n",
      "7000/7000 [==============================] - 70s 10ms/step - loss: 0.8195 - acc: 0.6240 - val_loss: 3.0285 - val_acc: 0.2500\n",
      "Epoch 36/100\n",
      "7000/7000 [==============================] - 70s 10ms/step - loss: 0.8159 - acc: 0.6251 - val_loss: 1.3906 - val_acc: 0.4750\n",
      "Epoch 37/100\n",
      "7000/7000 [==============================] - 70s 10ms/step - loss: 0.8126 - acc: 0.6284 - val_loss: 2.6194 - val_acc: 0.3200\n",
      "Epoch 38/100\n",
      "7000/7000 [==============================] - 70s 10ms/step - loss: 0.8027 - acc: 0.6323 - val_loss: 2.2081 - val_acc: 0.6250\n",
      "Epoch 39/100\n",
      "7000/7000 [==============================] - 70s 10ms/step - loss: 0.8030 - acc: 0.6344 - val_loss: 1.5195 - val_acc: 0.3650\n",
      "Epoch 40/100\n",
      "7000/7000 [==============================] - 70s 10ms/step - loss: 0.7897 - acc: 0.6399 - val_loss: 1.7819 - val_acc: 0.2825\n",
      "Epoch 41/100\n",
      "7000/7000 [==============================] - 70s 10ms/step - loss: 0.7971 - acc: 0.6347 - val_loss: 2.5459 - val_acc: 0.4425\n",
      "Epoch 42/100\n",
      "7000/7000 [==============================] - 70s 10ms/step - loss: 0.7827 - acc: 0.6466 - val_loss: 3.1268 - val_acc: 0.6150\n",
      "Epoch 43/100\n",
      "7000/7000 [==============================] - 70s 10ms/step - loss: 0.7796 - acc: 0.6511 - val_loss: 3.9738 - val_acc: 0.5800\n",
      "Epoch 44/100\n",
      "7000/7000 [==============================] - 70s 10ms/step - loss: 0.7868 - acc: 0.6440 - val_loss: 1.5863 - val_acc: 0.3100\n",
      "Epoch 45/100\n",
      "7000/7000 [==============================] - 70s 10ms/step - loss: 0.7790 - acc: 0.6516 - val_loss: 1.7389 - val_acc: 0.3450\n",
      "Epoch 46/100\n",
      "7000/7000 [==============================] - 70s 10ms/step - loss: 0.7665 - acc: 0.6593 - val_loss: 1.3443 - val_acc: 0.4525\n",
      "Epoch 47/100\n",
      "7000/7000 [==============================] - 70s 10ms/step - loss: 0.7672 - acc: 0.6629 - val_loss: 1.6148 - val_acc: 0.5325\n",
      "Epoch 48/100\n",
      "7000/7000 [==============================] - 70s 10ms/step - loss: 0.7702 - acc: 0.6527 - val_loss: 2.3855 - val_acc: 0.5875\n",
      "Epoch 49/100\n",
      "7000/7000 [==============================] - 70s 10ms/step - loss: 0.7521 - acc: 0.6689 - val_loss: 7.8092 - val_acc: 0.2725\n",
      "Epoch 50/100\n",
      "7000/7000 [==============================] - 70s 10ms/step - loss: 0.7592 - acc: 0.6550 - val_loss: 2.9729 - val_acc: 0.5550\n",
      "Epoch 51/100\n",
      "7000/7000 [==============================] - 70s 10ms/step - loss: 0.7451 - acc: 0.6707 - val_loss: 4.0203 - val_acc: 0.5950\n",
      "Epoch 52/100\n",
      "7000/7000 [==============================] - 70s 10ms/step - loss: 0.7546 - acc: 0.6643 - val_loss: 1.7396 - val_acc: 0.3850\n",
      "Epoch 53/100\n",
      "7000/7000 [==============================] - 70s 10ms/step - loss: 0.7319 - acc: 0.6733 - val_loss: 6.1238 - val_acc: 0.1850\n",
      "Epoch 54/100\n",
      "7000/7000 [==============================] - 70s 10ms/step - loss: 0.7337 - acc: 0.6753 - val_loss: 2.1817 - val_acc: 0.6175\n",
      "Epoch 55/100\n",
      "7000/7000 [==============================] - 70s 10ms/step - loss: 0.7354 - acc: 0.6791 - val_loss: 1.1184 - val_acc: 0.4850\n",
      "Epoch 56/100\n",
      "7000/7000 [==============================] - 70s 10ms/step - loss: 0.7239 - acc: 0.6726 - val_loss: 2.1153 - val_acc: 0.2400\n",
      "Epoch 57/100\n",
      "7000/7000 [==============================] - 70s 10ms/step - loss: 0.7320 - acc: 0.6781 - val_loss: 1.2691 - val_acc: 0.6050\n",
      "Epoch 58/100\n",
      "7000/7000 [==============================] - 70s 10ms/step - loss: 0.7266 - acc: 0.6809 - val_loss: 1.6044 - val_acc: 0.3475\n",
      "Epoch 59/100\n",
      "7000/7000 [==============================] - 70s 10ms/step - loss: 0.7253 - acc: 0.6751 - val_loss: 2.2308 - val_acc: 0.5625\n",
      "Epoch 60/100\n"
     ]
    },
    {
     "name": "stdout",
     "output_type": "stream",
     "text": [
      "7000/7000 [==============================] - 69s 10ms/step - loss: 0.7156 - acc: 0.6907 - val_loss: 2.4386 - val_acc: 0.3625\n",
      "Epoch 61/100\n",
      "7000/7000 [==============================] - 69s 10ms/step - loss: 0.7109 - acc: 0.6894 - val_loss: 2.1084 - val_acc: 0.2825\n",
      "Epoch 62/100\n",
      "7000/7000 [==============================] - 69s 10ms/step - loss: 0.7095 - acc: 0.6837 - val_loss: 1.5623 - val_acc: 0.5450\n",
      "Epoch 63/100\n",
      "7000/7000 [==============================] - 69s 10ms/step - loss: 0.7020 - acc: 0.6904 - val_loss: 2.2618 - val_acc: 0.2675\n",
      "Epoch 64/100\n",
      "7000/7000 [==============================] - 69s 10ms/step - loss: 0.6968 - acc: 0.6947 - val_loss: 5.3948 - val_acc: 0.5950\n",
      "Epoch 65/100\n",
      "7000/7000 [==============================] - 69s 10ms/step - loss: 0.6921 - acc: 0.6946 - val_loss: 2.2103 - val_acc: 0.6025\n",
      "Epoch 66/100\n",
      "7000/7000 [==============================] - 69s 10ms/step - loss: 0.6950 - acc: 0.6976 - val_loss: 1.9378 - val_acc: 0.5325\n",
      "Epoch 67/100\n",
      "7000/7000 [==============================] - 69s 10ms/step - loss: 0.6899 - acc: 0.7006 - val_loss: 3.7104 - val_acc: 0.5975\n",
      "Epoch 68/100\n",
      "7000/7000 [==============================] - 69s 10ms/step - loss: 0.6877 - acc: 0.6943 - val_loss: 1.4649 - val_acc: 0.4000\n",
      "Epoch 69/100\n",
      "7000/7000 [==============================] - 69s 10ms/step - loss: 0.6737 - acc: 0.7123 - val_loss: 1.2747 - val_acc: 0.4675\n",
      "Epoch 70/100\n",
      "7000/7000 [==============================] - 69s 10ms/step - loss: 0.6790 - acc: 0.7026 - val_loss: 5.5857 - val_acc: 0.2925\n",
      "Epoch 71/100\n",
      "7000/7000 [==============================] - 69s 10ms/step - loss: 0.6664 - acc: 0.7123 - val_loss: 2.1102 - val_acc: 0.5750\n",
      "Epoch 72/100\n",
      "7000/7000 [==============================] - 70s 10ms/step - loss: 0.6639 - acc: 0.7204 - val_loss: 1.5070 - val_acc: 0.3550\n",
      "Epoch 73/100\n",
      "7000/7000 [==============================] - 70s 10ms/step - loss: 0.6651 - acc: 0.7156 - val_loss: 3.4057 - val_acc: 0.3250\n",
      "Epoch 74/100\n",
      "7000/7000 [==============================] - 70s 10ms/step - loss: 0.6606 - acc: 0.7116 - val_loss: 1.6346 - val_acc: 0.3625\n",
      "Epoch 75/100\n",
      "7000/7000 [==============================] - 70s 10ms/step - loss: 0.6525 - acc: 0.7176 - val_loss: 1.7760 - val_acc: 0.6075\n",
      "Epoch 76/100\n",
      "7000/7000 [==============================] - 70s 10ms/step - loss: 0.6564 - acc: 0.7159 - val_loss: 2.2086 - val_acc: 0.2825\n",
      "Epoch 77/100\n",
      "7000/7000 [==============================] - 70s 10ms/step - loss: 0.6608 - acc: 0.7100 - val_loss: 1.4614 - val_acc: 0.4125\n",
      "Epoch 78/100\n",
      "7000/7000 [==============================] - 70s 10ms/step - loss: 0.6443 - acc: 0.7186 - val_loss: 1.8361 - val_acc: 0.3125\n",
      "Epoch 79/100\n",
      "7000/7000 [==============================] - 70s 10ms/step - loss: 0.6448 - acc: 0.7217 - val_loss: 1.6519 - val_acc: 0.5350\n",
      "Epoch 80/100\n",
      "7000/7000 [==============================] - 70s 10ms/step - loss: 0.6393 - acc: 0.7279 - val_loss: 2.1169 - val_acc: 0.5425\n",
      "Epoch 81/100\n",
      "7000/7000 [==============================] - 70s 10ms/step - loss: 0.6372 - acc: 0.7280 - val_loss: 1.4920 - val_acc: 0.5450\n",
      "Epoch 82/100\n",
      "7000/7000 [==============================] - 70s 10ms/step - loss: 0.6258 - acc: 0.7320 - val_loss: 1.5163 - val_acc: 0.5775\n",
      "Epoch 83/100\n",
      "7000/7000 [==============================] - 70s 10ms/step - loss: 0.6327 - acc: 0.7291 - val_loss: 1.2964 - val_acc: 0.6000\n",
      "Epoch 84/100\n",
      "7000/7000 [==============================] - 70s 10ms/step - loss: 0.6281 - acc: 0.7327 - val_loss: 3.5133 - val_acc: 0.3025\n",
      "Epoch 85/100\n",
      "7000/7000 [==============================] - 70s 10ms/step - loss: 0.6235 - acc: 0.7394 - val_loss: 3.0970 - val_acc: 0.3375\n",
      "Epoch 86/100\n",
      "7000/7000 [==============================] - 70s 10ms/step - loss: 0.6247 - acc: 0.7349 - val_loss: 2.4105 - val_acc: 0.2575\n",
      "Epoch 87/100\n",
      "7000/7000 [==============================] - 70s 10ms/step - loss: 0.6196 - acc: 0.7336 - val_loss: 1.2351 - val_acc: 0.5775\n",
      "Epoch 88/100\n",
      "7000/7000 [==============================] - 70s 10ms/step - loss: 0.6136 - acc: 0.7410 - val_loss: 3.0590 - val_acc: 0.2150\n",
      "Epoch 89/100\n",
      "7000/7000 [==============================] - 70s 10ms/step - loss: 0.6096 - acc: 0.7429 - val_loss: 2.4945 - val_acc: 0.2000\n",
      "Epoch 90/100\n",
      "7000/7000 [==============================] - 70s 10ms/step - loss: 0.6105 - acc: 0.7419 - val_loss: 2.6365 - val_acc: 0.2775\n",
      "Epoch 91/100\n",
      "7000/7000 [==============================] - 70s 10ms/step - loss: 0.6161 - acc: 0.7413 - val_loss: 2.0441 - val_acc: 0.3250\n",
      "Epoch 92/100\n",
      "7000/7000 [==============================] - 70s 10ms/step - loss: 0.6025 - acc: 0.7434 - val_loss: 1.8279 - val_acc: 0.4800\n",
      "Epoch 93/100\n",
      "7000/7000 [==============================] - 70s 10ms/step - loss: 0.5959 - acc: 0.7486 - val_loss: 2.0680 - val_acc: 0.3225\n",
      "Epoch 94/100\n",
      "7000/7000 [==============================] - 69s 10ms/step - loss: 0.6115 - acc: 0.7417 - val_loss: 2.0656 - val_acc: 0.5475\n",
      "Epoch 95/100\n",
      "7000/7000 [==============================] - 69s 10ms/step - loss: 0.5946 - acc: 0.7514 - val_loss: 2.2865 - val_acc: 0.5500\n",
      "Epoch 96/100\n",
      "7000/7000 [==============================] - 69s 10ms/step - loss: 0.5878 - acc: 0.7547 - val_loss: 2.9975 - val_acc: 0.2500\n",
      "Epoch 97/100\n",
      "7000/7000 [==============================] - 69s 10ms/step - loss: 0.6074 - acc: 0.7477 - val_loss: 1.7717 - val_acc: 0.4975\n",
      "Epoch 98/100\n",
      "7000/7000 [==============================] - 69s 10ms/step - loss: 0.5853 - acc: 0.7547 - val_loss: 2.5656 - val_acc: 0.2725\n",
      "Epoch 99/100\n",
      "7000/7000 [==============================] - 69s 10ms/step - loss: 0.5891 - acc: 0.7536 - val_loss: 2.0979 - val_acc: 0.3275\n",
      "Epoch 100/100\n",
      "7000/7000 [==============================] - 69s 10ms/step - loss: 0.5980 - acc: 0.7440 - val_loss: 1.3756 - val_acc: 0.5450\n"
     ]
    }
   ],
   "source": [
    "input_img = Input(shape=(299, 299, 3))\n",
    "x = Conv2D(16, (7, 7), padding='same')(input_img)\n",
    "x = Activation('relu')(x)\n",
    "x = MaxPooling2D((2, 2), padding='same')(x)\n",
    "x = Conv2D(32, (5, 5), padding='same')(x)\n",
    "x = Activation('relu')(x)\n",
    "x = MaxPooling2D((2, 2), padding='same')(x)\n",
    "x = Conv2D(64, (3, 3), padding='same')(x)\n",
    "x = BatchNormalization()(x)\n",
    "x = Activation('relu')(x)\n",
    "x = GlobalAveragePooling2D()(x)\n",
    "x = Dense(50, activation='relu')(x)\n",
    "predictions = Dense(3, activation='softmax')(x)\n",
    "model = Model(inputs=input_img, outputs=predictions)\n",
    "#for layer in base_model.layers:\n",
    "#    layer.trainable = False\n",
    "\n",
    "model.compile(optimizer='adam', loss='categorical_crossentropy',metrics=[\"accuracy\"])\n",
    "hist = model.fit(train,train_label_1,\n",
    "                 batch_size=16,\n",
    "                    nb_epoch=100,\n",
    "                    validation_data=(val,val_label_1),\n",
    "                    shuffle=True)"
   ]
  },
  {
   "cell_type": "code",
   "execution_count": 28,
   "metadata": {},
   "outputs": [
    {
     "name": "stdout",
     "output_type": "stream",
     "text": [
      "13\n"
     ]
    }
   ],
   "source": [
    "print(len(model.layers))"
   ]
  },
  {
   "cell_type": "code",
   "execution_count": 12,
   "metadata": {},
   "outputs": [
    {
     "name": "stdout",
     "output_type": "stream",
     "text": [
      "_________________________________________________________________\n",
      "Layer (type)                 Output Shape              Param #   \n",
      "=================================================================\n",
      "input_6 (InputLayer)         (None, 128, 128, 3)       0         \n",
      "_________________________________________________________________\n",
      "conv2d_16 (Conv2D)           (None, 128, 128, 16)      2368      \n",
      "_________________________________________________________________\n",
      "activation_16 (Activation)   (None, 128, 128, 16)      0         \n",
      "_________________________________________________________________\n",
      "max_pooling2d_16 (MaxPooling (None, 64, 64, 16)        0         \n",
      "_________________________________________________________________\n",
      "conv2d_17 (Conv2D)           (None, 64, 64, 32)        12832     \n",
      "_________________________________________________________________\n",
      "activation_17 (Activation)   (None, 64, 64, 32)        0         \n",
      "_________________________________________________________________\n",
      "max_pooling2d_17 (MaxPooling (None, 32, 32, 32)        0         \n",
      "_________________________________________________________________\n",
      "conv2d_18 (Conv2D)           (None, 32, 32, 64)        18496     \n",
      "_________________________________________________________________\n",
      "activation_18 (Activation)   (None, 32, 32, 64)        0         \n",
      "_________________________________________________________________\n",
      "max_pooling2d_18 (MaxPooling (None, 16, 16, 64)        0         \n",
      "_________________________________________________________________\n",
      "flatten_6 (Flatten)          (None, 16384)             0         \n",
      "_________________________________________________________________\n",
      "dense_6 (Dense)              (None, 3)                 49155     \n",
      "=================================================================\n",
      "Total params: 82,851\n",
      "Trainable params: 82,851\n",
      "Non-trainable params: 0\n",
      "_________________________________________________________________\n"
     ]
    }
   ],
   "source": [
    "input_img = Input(shape=(128, 128, 3))\n",
    "x = Conv2D(16, (7, 7), padding='same')(input_img)\n",
    "#x = BatchNormalization()(x)\n",
    "x = Activation('relu')(x)\n",
    "x = MaxPooling2D((2, 2), padding='same')(x)\n",
    "x = Conv2D(32, (5, 5), padding='same')(x)\n",
    "#x = BatchNormalization()(x)\n",
    "x = Activation('relu')(x)\n",
    "x = MaxPooling2D((2, 2), padding='same')(x)\n",
    "x = Conv2D(64, (3, 3), padding='same')(x)\n",
    "#x = BatchNormalization()(x)\n",
    "x = Activation('relu')(x)\n",
    "x = MaxPooling2D((2, 2), padding='same')(x)\n",
    "x = Flatten()(x)\n",
    "Softmax = Dense(3, activation = \"softmax\")(x)\n",
    "\n",
    "model = Model(input_img,Softmax)\n",
    "model.summary()"
   ]
  },
  {
   "cell_type": "code",
   "execution_count": 7,
   "metadata": {
    "collapsed": true
   },
   "outputs": [
    {
     "name": "stderr",
     "output_type": "stream",
     "text": [
      "/usr/local/lib/python3.5/dist-packages/ipykernel_launcher.py:26: UserWarning: The `nb_epoch` argument in `fit` has been renamed `epochs`.\n"
     ]
    },
    {
     "name": "stdout",
     "output_type": "stream",
     "text": [
      "Train on 9000 samples, validate on 1500 samples\n",
      "Epoch 1/300\n",
      "9000/9000 [==============================] - 10s 1ms/step - loss: 1.1000 - acc: 0.3323 - val_loss: 1.0985 - val_acc: 0.3433\n",
      "Epoch 2/300\n",
      "9000/9000 [==============================] - 9s 1ms/step - loss: 1.0987 - acc: 0.3369 - val_loss: 1.0986 - val_acc: 0.3333\n",
      "Epoch 3/300\n",
      "3264/9000 [=========>....................] - ETA: 5s - loss: 1.0977 - acc: 0.3652"
     ]
    },
    {
     "ename": "KeyboardInterrupt",
     "evalue": "",
     "output_type": "error",
     "traceback": [
      "\u001b[0;31m---------------------------------------------------------------------------\u001b[0m",
      "\u001b[0;31mKeyboardInterrupt\u001b[0m                         Traceback (most recent call last)",
      "\u001b[0;32m<ipython-input-7-bfe4bf182b14>\u001b[0m in \u001b[0;36m<module>\u001b[0;34m\u001b[0m\n\u001b[1;32m     24\u001b[0m                     \u001b[0mnb_epoch\u001b[0m\u001b[0;34m=\u001b[0m\u001b[0;36m300\u001b[0m\u001b[0;34m,\u001b[0m\u001b[0;34m\u001b[0m\u001b[0m\n\u001b[1;32m     25\u001b[0m                     \u001b[0mvalidation_data\u001b[0m\u001b[0;34m=\u001b[0m\u001b[0;34m(\u001b[0m\u001b[0mx_test\u001b[0m\u001b[0;34m,\u001b[0m\u001b[0mtest_label_1\u001b[0m\u001b[0;34m)\u001b[0m\u001b[0;34m,\u001b[0m\u001b[0;34m\u001b[0m\u001b[0m\n\u001b[0;32m---> 26\u001b[0;31m                     shuffle=True)\n\u001b[0m",
      "\u001b[0;32m/usr/local/lib/python3.5/dist-packages/keras/engine/training.py\u001b[0m in \u001b[0;36mfit\u001b[0;34m(self, x, y, batch_size, epochs, verbose, callbacks, validation_split, validation_data, shuffle, class_weight, sample_weight, initial_epoch, steps_per_epoch, validation_steps, **kwargs)\u001b[0m\n\u001b[1;32m   1037\u001b[0m                                         \u001b[0minitial_epoch\u001b[0m\u001b[0;34m=\u001b[0m\u001b[0minitial_epoch\u001b[0m\u001b[0;34m,\u001b[0m\u001b[0;34m\u001b[0m\u001b[0m\n\u001b[1;32m   1038\u001b[0m                                         \u001b[0msteps_per_epoch\u001b[0m\u001b[0;34m=\u001b[0m\u001b[0msteps_per_epoch\u001b[0m\u001b[0;34m,\u001b[0m\u001b[0;34m\u001b[0m\u001b[0m\n\u001b[0;32m-> 1039\u001b[0;31m                                         validation_steps=validation_steps)\n\u001b[0m\u001b[1;32m   1040\u001b[0m \u001b[0;34m\u001b[0m\u001b[0m\n\u001b[1;32m   1041\u001b[0m     def evaluate(self, x=None, y=None,\n",
      "\u001b[0;32m/usr/local/lib/python3.5/dist-packages/keras/engine/training_arrays.py\u001b[0m in \u001b[0;36mfit_loop\u001b[0;34m(model, f, ins, out_labels, batch_size, epochs, verbose, callbacks, val_f, val_ins, shuffle, callback_metrics, initial_epoch, steps_per_epoch, validation_steps)\u001b[0m\n\u001b[1;32m    197\u001b[0m                     \u001b[0mins_batch\u001b[0m\u001b[0;34m[\u001b[0m\u001b[0mi\u001b[0m\u001b[0;34m]\u001b[0m \u001b[0;34m=\u001b[0m \u001b[0mins_batch\u001b[0m\u001b[0;34m[\u001b[0m\u001b[0mi\u001b[0m\u001b[0;34m]\u001b[0m\u001b[0;34m.\u001b[0m\u001b[0mtoarray\u001b[0m\u001b[0;34m(\u001b[0m\u001b[0;34m)\u001b[0m\u001b[0;34m\u001b[0m\u001b[0m\n\u001b[1;32m    198\u001b[0m \u001b[0;34m\u001b[0m\u001b[0m\n\u001b[0;32m--> 199\u001b[0;31m                 \u001b[0mouts\u001b[0m \u001b[0;34m=\u001b[0m \u001b[0mf\u001b[0m\u001b[0;34m(\u001b[0m\u001b[0mins_batch\u001b[0m\u001b[0;34m)\u001b[0m\u001b[0;34m\u001b[0m\u001b[0m\n\u001b[0m\u001b[1;32m    200\u001b[0m                 \u001b[0mouts\u001b[0m \u001b[0;34m=\u001b[0m \u001b[0mto_list\u001b[0m\u001b[0;34m(\u001b[0m\u001b[0mouts\u001b[0m\u001b[0;34m)\u001b[0m\u001b[0;34m\u001b[0m\u001b[0m\n\u001b[1;32m    201\u001b[0m                 \u001b[0;32mfor\u001b[0m \u001b[0ml\u001b[0m\u001b[0;34m,\u001b[0m \u001b[0mo\u001b[0m \u001b[0;32min\u001b[0m \u001b[0mzip\u001b[0m\u001b[0;34m(\u001b[0m\u001b[0mout_labels\u001b[0m\u001b[0;34m,\u001b[0m \u001b[0mouts\u001b[0m\u001b[0;34m)\u001b[0m\u001b[0;34m:\u001b[0m\u001b[0;34m\u001b[0m\u001b[0m\n",
      "\u001b[0;32m/usr/local/lib/python3.5/dist-packages/keras/backend/tensorflow_backend.py\u001b[0m in \u001b[0;36m__call__\u001b[0;34m(self, inputs)\u001b[0m\n\u001b[1;32m   2713\u001b[0m                 \u001b[0;32mreturn\u001b[0m \u001b[0mself\u001b[0m\u001b[0;34m.\u001b[0m\u001b[0m_legacy_call\u001b[0m\u001b[0;34m(\u001b[0m\u001b[0minputs\u001b[0m\u001b[0;34m)\u001b[0m\u001b[0;34m\u001b[0m\u001b[0m\n\u001b[1;32m   2714\u001b[0m \u001b[0;34m\u001b[0m\u001b[0m\n\u001b[0;32m-> 2715\u001b[0;31m             \u001b[0;32mreturn\u001b[0m \u001b[0mself\u001b[0m\u001b[0;34m.\u001b[0m\u001b[0m_call\u001b[0m\u001b[0;34m(\u001b[0m\u001b[0minputs\u001b[0m\u001b[0;34m)\u001b[0m\u001b[0;34m\u001b[0m\u001b[0m\n\u001b[0m\u001b[1;32m   2716\u001b[0m         \u001b[0;32melse\u001b[0m\u001b[0;34m:\u001b[0m\u001b[0;34m\u001b[0m\u001b[0m\n\u001b[1;32m   2717\u001b[0m             \u001b[0;32mif\u001b[0m \u001b[0mpy_any\u001b[0m\u001b[0;34m(\u001b[0m\u001b[0mis_tensor\u001b[0m\u001b[0;34m(\u001b[0m\u001b[0mx\u001b[0m\u001b[0;34m)\u001b[0m \u001b[0;32mfor\u001b[0m \u001b[0mx\u001b[0m \u001b[0;32min\u001b[0m \u001b[0minputs\u001b[0m\u001b[0;34m)\u001b[0m\u001b[0;34m:\u001b[0m\u001b[0;34m\u001b[0m\u001b[0m\n",
      "\u001b[0;32m/usr/local/lib/python3.5/dist-packages/keras/backend/tensorflow_backend.py\u001b[0m in \u001b[0;36m_call\u001b[0;34m(self, inputs)\u001b[0m\n\u001b[1;32m   2673\u001b[0m             \u001b[0mfetched\u001b[0m \u001b[0;34m=\u001b[0m \u001b[0mself\u001b[0m\u001b[0;34m.\u001b[0m\u001b[0m_callable_fn\u001b[0m\u001b[0;34m(\u001b[0m\u001b[0;34m*\u001b[0m\u001b[0marray_vals\u001b[0m\u001b[0;34m,\u001b[0m \u001b[0mrun_metadata\u001b[0m\u001b[0;34m=\u001b[0m\u001b[0mself\u001b[0m\u001b[0;34m.\u001b[0m\u001b[0mrun_metadata\u001b[0m\u001b[0;34m)\u001b[0m\u001b[0;34m\u001b[0m\u001b[0m\n\u001b[1;32m   2674\u001b[0m         \u001b[0;32melse\u001b[0m\u001b[0;34m:\u001b[0m\u001b[0;34m\u001b[0m\u001b[0m\n\u001b[0;32m-> 2675\u001b[0;31m             \u001b[0mfetched\u001b[0m \u001b[0;34m=\u001b[0m \u001b[0mself\u001b[0m\u001b[0;34m.\u001b[0m\u001b[0m_callable_fn\u001b[0m\u001b[0;34m(\u001b[0m\u001b[0;34m*\u001b[0m\u001b[0marray_vals\u001b[0m\u001b[0;34m)\u001b[0m\u001b[0;34m\u001b[0m\u001b[0m\n\u001b[0m\u001b[1;32m   2676\u001b[0m         \u001b[0;32mreturn\u001b[0m \u001b[0mfetched\u001b[0m\u001b[0;34m[\u001b[0m\u001b[0;34m:\u001b[0m\u001b[0mlen\u001b[0m\u001b[0;34m(\u001b[0m\u001b[0mself\u001b[0m\u001b[0;34m.\u001b[0m\u001b[0moutputs\u001b[0m\u001b[0;34m)\u001b[0m\u001b[0;34m]\u001b[0m\u001b[0;34m\u001b[0m\u001b[0m\n\u001b[1;32m   2677\u001b[0m \u001b[0;34m\u001b[0m\u001b[0m\n",
      "\u001b[0;32m/usr/local/lib/python3.5/dist-packages/tensorflow/python/client/session.py\u001b[0m in \u001b[0;36m__call__\u001b[0;34m(self, *args, **kwargs)\u001b[0m\n\u001b[1;32m   1437\u001b[0m           ret = tf_session.TF_SessionRunCallable(\n\u001b[1;32m   1438\u001b[0m               \u001b[0mself\u001b[0m\u001b[0;34m.\u001b[0m\u001b[0m_session\u001b[0m\u001b[0;34m.\u001b[0m\u001b[0m_session\u001b[0m\u001b[0;34m,\u001b[0m \u001b[0mself\u001b[0m\u001b[0;34m.\u001b[0m\u001b[0m_handle\u001b[0m\u001b[0;34m,\u001b[0m \u001b[0margs\u001b[0m\u001b[0;34m,\u001b[0m \u001b[0mstatus\u001b[0m\u001b[0;34m,\u001b[0m\u001b[0;34m\u001b[0m\u001b[0m\n\u001b[0;32m-> 1439\u001b[0;31m               run_metadata_ptr)\n\u001b[0m\u001b[1;32m   1440\u001b[0m         \u001b[0;32mif\u001b[0m \u001b[0mrun_metadata\u001b[0m\u001b[0;34m:\u001b[0m\u001b[0;34m\u001b[0m\u001b[0m\n\u001b[1;32m   1441\u001b[0m           \u001b[0mproto_data\u001b[0m \u001b[0;34m=\u001b[0m \u001b[0mtf_session\u001b[0m\u001b[0;34m.\u001b[0m\u001b[0mTF_GetBuffer\u001b[0m\u001b[0;34m(\u001b[0m\u001b[0mrun_metadata_ptr\u001b[0m\u001b[0;34m)\u001b[0m\u001b[0;34m\u001b[0m\u001b[0m\n",
      "\u001b[0;31mKeyboardInterrupt\u001b[0m: "
     ]
    }
   ],
   "source": [
    "input_img = Input(shape=(299, 299, 3))\n",
    "x = Conv2D(4, (7, 7), padding='same')(input_img)\n",
    "#x = BatchNormalization()(x)\n",
    "x = Activation('relu')(x)\n",
    "x = MaxPooling2D((2, 2), padding='same')(x)\n",
    "x = Conv2D(8, (5, 5), padding='same')(x)\n",
    "#x = BatchNormalization()(x)\n",
    "x = Activation('relu')(x)\n",
    "x = MaxPooling2D((2, 2), padding='same')(x)\n",
    "x = Conv2D(16, (3, 3), padding='same')(x)\n",
    "#x = BatchNormalization()(x)\n",
    "x = Activation('relu')(x)\n",
    "encoded = MaxPooling2D((2, 2), padding='same')(x)\n",
    "x = Flatten()(encoded)\n",
    "x = Dense(256)(x)\n",
    "x = Activation(\"relu\")(x)\n",
    "Softmax = Dense(3, activation = \"softmax\")(x)\n",
    "\n",
    "model = Model(input_img,Softmax)\n",
    "\n",
    "model.compile(optimizer='adam', loss='categorical_crossentropy',metrics=[\"accuracy\"])\n",
    "hist = model.fit(x_train,train_label_1,\n",
    "                 batch_size=64,\n",
    "                    nb_epoch=300,\n",
    "                    validation_data=(x_test,test_label_1),\n",
    "                    shuffle=True)\n"
   ]
  },
  {
   "cell_type": "code",
   "execution_count": null,
   "metadata": {},
   "outputs": [],
   "source": [
    "\n",
    "keras.applications.inception_v3.InceptionV3(include_top=True, weights='imagenet', input_tensor=None, input_shape=None, pooling=None, classes=1000)"
   ]
  }
 ],
 "metadata": {
  "kernelspec": {
   "display_name": "Python 3",
   "language": "python",
   "name": "python3"
  },
  "language_info": {
   "codemirror_mode": {
    "name": "ipython",
    "version": 3
   },
   "file_extension": ".py",
   "mimetype": "text/x-python",
   "name": "python",
   "nbconvert_exporter": "python",
   "pygments_lexer": "ipython3",
   "version": "3.5.2"
  }
 },
 "nbformat": 4,
 "nbformat_minor": 2
}
